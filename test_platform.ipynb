{
 "cells": [
  {
   "cell_type": "code",
   "execution_count": 1,
   "id": "282761be",
   "metadata": {},
   "outputs": [],
   "source": [
    "import pandas as pd\n",
    "import json\n",
    "import numpy as np\n",
    "import os\n",
    "import matplotlib.pyplot as plt"
   ]
  },
  {
   "cell_type": "code",
   "execution_count": 30,
   "id": "5b9b1785-1990-457d-9c95-a63ff348f650",
   "metadata": {},
   "outputs": [],
   "source": [
    "df = pd.read_json(\"coupled_flux_qubit_protocol/coupled_flux_qubit_data_gallery/gallery.json\")"
   ]
  },
  {
   "cell_type": "code",
   "execution_count": null,
   "id": "d4df1844-571b-4bfb-b211-4079d4486f92",
   "metadata": {},
   "outputs": [],
   "source": []
  },
  {
   "cell_type": "code",
   "execution_count": 31,
   "id": "f0ce46ea-ebed-47ab-a5b7-e99085cf39ee",
   "metadata": {},
   "outputs": [],
   "source": [
    "step_analysis = [\"substep 1 simulation for different t\",\n",
    "                 \"substep 2 simulation for different t\",\n",
    "                 \"substep 3 simulation for different t\",\n",
    "                 \"substep 4 simulation for different t\"\n",
    "                ]"
   ]
  },
  {
   "cell_type": "code",
   "execution_count": 32,
   "id": "0bb78ba8-6307-4a16-bd14-18c986366766",
   "metadata": {},
   "outputs": [
    {
     "data": {
      "text/plain": [
       "Index(['params', 'initial_parameter_dict', 'protocol_list_item',\n",
       "       'simulation_data', 'jarzynski_term', 'fidelity', 'comment',\n",
       "       'mean_work'],\n",
       "      dtype='object')"
      ]
     },
     "execution_count": 32,
     "metadata": {},
     "output_type": "execute_result"
    }
   ],
   "source": [
    "df.columns"
   ]
  },
  {
   "cell_type": "code",
   "execution_count": 35,
   "id": "8c963c6c-1406-4511-94e8-c7eb683cafd3",
   "metadata": {},
   "outputs": [
    {
     "data": {
      "text/plain": [
       "333    substep 3 simulation for different t\n",
       "334    substep 1 simulation for different t\n",
       "335    substep 4 simulation for different t\n",
       "336    substep 2 simulation for different t\n",
       "337    substep 3 simulation for different t\n",
       "338    substep 1 simulation for different t\n",
       "339    substep 4 simulation for different t\n",
       "340    substep 2 simulation for different t\n",
       "341    substep 3 simulation for different t\n",
       "342    substep 4 simulation for different t\n",
       "Name: comment, dtype: object"
      ]
     },
     "execution_count": 35,
     "metadata": {},
     "output_type": "execute_result"
    }
   ],
   "source": [
    "df[\"comment\"].tail(10)"
   ]
  },
  {
   "cell_type": "code",
   "execution_count": 34,
   "id": "08817498-ab3d-484b-bf17-67796298694f",
   "metadata": {},
   "outputs": [],
   "source": [
    "df['comment'] = [item['comment'] for item in df[\"params\"]]\n"
   ]
  },
  {
   "cell_type": "code",
   "execution_count": 38,
   "id": "67cb979a-1985-4dcd-a6d3-c7ad29cd99f7",
   "metadata": {},
   "outputs": [],
   "source": [
    "target = df[df[\"comment\"] == \"substep 1 simulation for different t\"]"
   ]
  },
  {
   "cell_type": "code",
   "execution_count": 39,
   "id": "8ac43bc7-7df2-4422-877b-9f1556527b7a",
   "metadata": {},
   "outputs": [
    {
     "data": {
      "text/html": [
       "<div>\n",
       "<style scoped>\n",
       "    .dataframe tbody tr th:only-of-type {\n",
       "        vertical-align: middle;\n",
       "    }\n",
       "\n",
       "    .dataframe tbody tr th {\n",
       "        vertical-align: top;\n",
       "    }\n",
       "\n",
       "    .dataframe thead th {\n",
       "        text-align: right;\n",
       "    }\n",
       "</style>\n",
       "<table border=\"1\" class=\"dataframe\">\n",
       "  <thead>\n",
       "    <tr style=\"text-align: right;\">\n",
       "      <th></th>\n",
       "      <th>params</th>\n",
       "      <th>initial_parameter_dict</th>\n",
       "      <th>protocol_list_item</th>\n",
       "      <th>simulation_data</th>\n",
       "      <th>jarzynski_term</th>\n",
       "      <th>fidelity</th>\n",
       "      <th>comment</th>\n",
       "      <th>mean_work</th>\n",
       "    </tr>\n",
       "  </thead>\n",
       "  <tbody>\n",
       "    <tr>\n",
       "      <th>315</th>\n",
       "      <td>{'N': 10000, 'dt': 0.001, 'lambda': 1, 'beta':...</td>\n",
       "      <td>{'U0_1': 2.1662149003978976e-31, 'U0_2': 2.166...</td>\n",
       "      <td>[{'duration': 60.0, 'phi_1_dcx': 0, 'phi_2_dcx...</td>\n",
       "      <td>{'simulation_time': [425.4212770462036], 'simu...</td>\n",
       "      <td>0.173428</td>\n",
       "      <td>[{'initial': [2523, 0, 0, 0], 'final': [1527, ...</td>\n",
       "      <td>substep 1 simulation for different t</td>\n",
       "      <td>1.868372</td>\n",
       "    </tr>\n",
       "    <tr>\n",
       "      <th>317</th>\n",
       "      <td>{'N': 10000, 'dt': 0.001, 'lambda': 1, 'beta':...</td>\n",
       "      <td>{'U0_1': 2.1662149003978976e-31, 'U0_2': 2.166...</td>\n",
       "      <td>[{'duration': 70.0, 'phi_1_dcx': 0, 'phi_2_dcx...</td>\n",
       "      <td>{'simulation_time': [548.055615901947], 'simul...</td>\n",
       "      <td>5.343723</td>\n",
       "      <td>[{'initial': [2495, 0, 0, 0], 'final': [2356, ...</td>\n",
       "      <td>substep 1 simulation for different t</td>\n",
       "      <td>-1.669224</td>\n",
       "    </tr>\n",
       "    <tr>\n",
       "      <th>321</th>\n",
       "      <td>{'N': 10000, 'dt': 0.001, 'lambda': 1, 'beta':...</td>\n",
       "      <td>{'U0_1': 2.1662149003978976e-31, 'U0_2': 2.166...</td>\n",
       "      <td>[{'duration': 80.0, 'phi_1_dcx': 3.0, 'phi_2_d...</td>\n",
       "      <td>{'simulation_time': [668.8249268531799], 'simu...</td>\n",
       "      <td>0.014919</td>\n",
       "      <td>[{'initial': [5024, 0, 0, 0], 'final': [5016, ...</td>\n",
       "      <td>substep 1 simulation for different t</td>\n",
       "      <td>4.434791</td>\n",
       "    </tr>\n",
       "    <tr>\n",
       "      <th>326</th>\n",
       "      <td>{'N': 10000, 'dt': 0.001, 'lambda': 1, 'beta':...</td>\n",
       "      <td>{'U0_1': 2.1662149003978976e-31, 'U0_2': 2.166...</td>\n",
       "      <td>[{'duration': 90.0, 'phi_1_dcx': 3.0, 'phi_2_d...</td>\n",
       "      <td>{'simulation_time': [634.1730198860168], 'simu...</td>\n",
       "      <td>0.015132</td>\n",
       "      <td>[{'initial': [5085, 0, 0, 0], 'final': [5081, ...</td>\n",
       "      <td>substep 1 simulation for different t</td>\n",
       "      <td>4.432857</td>\n",
       "    </tr>\n",
       "    <tr>\n",
       "      <th>330</th>\n",
       "      <td>{'N': 10000, 'dt': 0.001, 'lambda': 1, 'beta':...</td>\n",
       "      <td>{'U0_1': 2.1662149003978976e-31, 'U0_2': 2.166...</td>\n",
       "      <td>[{'duration': 100.0, 'phi_1_dcx': 3.0, 'phi_2_...</td>\n",
       "      <td>{'simulation_time': [804.530396938324], 'simul...</td>\n",
       "      <td>0.014214</td>\n",
       "      <td>[{'initial': [5030, 0, 0, 0], 'final': [5027, ...</td>\n",
       "      <td>substep 1 simulation for different t</td>\n",
       "      <td>4.445232</td>\n",
       "    </tr>\n",
       "    <tr>\n",
       "      <th>334</th>\n",
       "      <td>{'N': 10000, 'dt': 0.001, 'lambda': 1, 'beta':...</td>\n",
       "      <td>{'U0_1': 2.1662149003978976e-31, 'U0_2': 2.166...</td>\n",
       "      <td>[{'duration': 110.0, 'phi_1_dcx': 3.0, 'phi_2_...</td>\n",
       "      <td>{'simulation_time': [798.8434517383575], 'simu...</td>\n",
       "      <td>0.014245</td>\n",
       "      <td>[{'initial': [4957, 0, 0, 0], 'final': [4952, ...</td>\n",
       "      <td>substep 1 simulation for different t</td>\n",
       "      <td>4.452922</td>\n",
       "    </tr>\n",
       "    <tr>\n",
       "      <th>338</th>\n",
       "      <td>{'N': 10000, 'dt': 0.001, 'lambda': 1, 'beta':...</td>\n",
       "      <td>{'U0_1': 2.1662149003978976e-31, 'U0_2': 2.166...</td>\n",
       "      <td>[{'duration': 120.0, 'phi_1_dcx': 3.0, 'phi_2_...</td>\n",
       "      <td>{'simulation_time': [904.7448909282684], 'simu...</td>\n",
       "      <td>0.013302</td>\n",
       "      <td>[{'initial': [5021, 0, 0, 0], 'final': [5020, ...</td>\n",
       "      <td>substep 1 simulation for different t</td>\n",
       "      <td>4.478225</td>\n",
       "    </tr>\n",
       "  </tbody>\n",
       "</table>\n",
       "</div>"
      ],
      "text/plain": [
       "                                                params  \\\n",
       "315  {'N': 10000, 'dt': 0.001, 'lambda': 1, 'beta':...   \n",
       "317  {'N': 10000, 'dt': 0.001, 'lambda': 1, 'beta':...   \n",
       "321  {'N': 10000, 'dt': 0.001, 'lambda': 1, 'beta':...   \n",
       "326  {'N': 10000, 'dt': 0.001, 'lambda': 1, 'beta':...   \n",
       "330  {'N': 10000, 'dt': 0.001, 'lambda': 1, 'beta':...   \n",
       "334  {'N': 10000, 'dt': 0.001, 'lambda': 1, 'beta':...   \n",
       "338  {'N': 10000, 'dt': 0.001, 'lambda': 1, 'beta':...   \n",
       "\n",
       "                                initial_parameter_dict  \\\n",
       "315  {'U0_1': 2.1662149003978976e-31, 'U0_2': 2.166...   \n",
       "317  {'U0_1': 2.1662149003978976e-31, 'U0_2': 2.166...   \n",
       "321  {'U0_1': 2.1662149003978976e-31, 'U0_2': 2.166...   \n",
       "326  {'U0_1': 2.1662149003978976e-31, 'U0_2': 2.166...   \n",
       "330  {'U0_1': 2.1662149003978976e-31, 'U0_2': 2.166...   \n",
       "334  {'U0_1': 2.1662149003978976e-31, 'U0_2': 2.166...   \n",
       "338  {'U0_1': 2.1662149003978976e-31, 'U0_2': 2.166...   \n",
       "\n",
       "                                    protocol_list_item  \\\n",
       "315  [{'duration': 60.0, 'phi_1_dcx': 0, 'phi_2_dcx...   \n",
       "317  [{'duration': 70.0, 'phi_1_dcx': 0, 'phi_2_dcx...   \n",
       "321  [{'duration': 80.0, 'phi_1_dcx': 3.0, 'phi_2_d...   \n",
       "326  [{'duration': 90.0, 'phi_1_dcx': 3.0, 'phi_2_d...   \n",
       "330  [{'duration': 100.0, 'phi_1_dcx': 3.0, 'phi_2_...   \n",
       "334  [{'duration': 110.0, 'phi_1_dcx': 3.0, 'phi_2_...   \n",
       "338  [{'duration': 120.0, 'phi_1_dcx': 3.0, 'phi_2_...   \n",
       "\n",
       "                                       simulation_data  jarzynski_term  \\\n",
       "315  {'simulation_time': [425.4212770462036], 'simu...        0.173428   \n",
       "317  {'simulation_time': [548.055615901947], 'simul...        5.343723   \n",
       "321  {'simulation_time': [668.8249268531799], 'simu...        0.014919   \n",
       "326  {'simulation_time': [634.1730198860168], 'simu...        0.015132   \n",
       "330  {'simulation_time': [804.530396938324], 'simul...        0.014214   \n",
       "334  {'simulation_time': [798.8434517383575], 'simu...        0.014245   \n",
       "338  {'simulation_time': [904.7448909282684], 'simu...        0.013302   \n",
       "\n",
       "                                              fidelity  \\\n",
       "315  [{'initial': [2523, 0, 0, 0], 'final': [1527, ...   \n",
       "317  [{'initial': [2495, 0, 0, 0], 'final': [2356, ...   \n",
       "321  [{'initial': [5024, 0, 0, 0], 'final': [5016, ...   \n",
       "326  [{'initial': [5085, 0, 0, 0], 'final': [5081, ...   \n",
       "330  [{'initial': [5030, 0, 0, 0], 'final': [5027, ...   \n",
       "334  [{'initial': [4957, 0, 0, 0], 'final': [4952, ...   \n",
       "338  [{'initial': [5021, 0, 0, 0], 'final': [5020, ...   \n",
       "\n",
       "                                  comment  mean_work  \n",
       "315  substep 1 simulation for different t   1.868372  \n",
       "317  substep 1 simulation for different t  -1.669224  \n",
       "321  substep 1 simulation for different t   4.434791  \n",
       "326  substep 1 simulation for different t   4.432857  \n",
       "330  substep 1 simulation for different t   4.445232  \n",
       "334  substep 1 simulation for different t   4.452922  \n",
       "338  substep 1 simulation for different t   4.478225  "
      ]
     },
     "execution_count": 39,
     "metadata": {},
     "output_type": "execute_result"
    }
   ],
   "source": [
    "target"
   ]
  },
  {
   "cell_type": "code",
   "execution_count": 40,
   "id": "9ec89f23-07ae-4d96-a5e8-6b980eb4c7ac",
   "metadata": {},
   "outputs": [
    {
     "data": {
      "text/plain": [
       "[60.0, 70.0, 80.0, 90.0, 100.0, 110.0, 120.0]"
      ]
     },
     "execution_count": 40,
     "metadata": {},
     "output_type": "execute_result"
    }
   ],
   "source": [
    "time_array = [item[0][\"duration\"] for item in target[\"protocol_list_item\"]]\n"
   ]
  },
  {
   "cell_type": "code",
   "execution_count": null,
   "id": "6d2b4a45-1325-496d-8a4f-41c280c09e38",
   "metadata": {},
   "outputs": [],
   "source": []
  },
  {
   "cell_type": "code",
   "execution_count": 11,
   "id": "56b1d70b-b787-4899-9539-e89b021e4779",
   "metadata": {},
   "outputs": [
    {
     "data": {
      "text/plain": [
       "['new protocol with varying dt',\n",
       " 'new protocol with varying dt',\n",
       " 'new protocol with varying dt',\n",
       " 'new protocol with varying N',\n",
       " 'new protocol with varying N',\n",
       " 'new protocol with varying N',\n",
       " 'new protocol with varying N',\n",
       " 'new protocol with varying N',\n",
       " 'new protocol with varying dt',\n",
       " 'new protocol with varying N',\n",
       " 'new protocol with varying dt',\n",
       " 'new protocol with varying dt',\n",
       " 'new protocol with varying N',\n",
       " 'A statistic test of the process with N = 5000 and dt = 1/100 for 100 times.',\n",
       " 'A statistic test of the process with N = 5000 and dt = 1/100 for 100 times.',\n",
       " 'A statistic test of the process with N = 5000 and dt = 1/100 for 100 times.',\n",
       " 'A statistic test of the process with N = 5000 and dt = 1/100 for 100 times.',\n",
       " 'A statistic test of the process with N = 5000 and dt = 1/100 for 100 times.',\n",
       " 'A statistic test of the process with N = 5000 and dt = 1/100 for 100 times.',\n",
       " 'A statistic test of the process with N = 5000 and dt = 1/100 for 100 times.',\n",
       " 'A statistic test of the process with N = 5000 and dt = 1/100 for 100 times.',\n",
       " 'A statistic test of the process with N = 5000 and dt = 1/100 for 100 times.',\n",
       " 'A statistic test of the process with N = 5000 and dt = 1/100 for 100 times.',\n",
       " 'A statistic test of the process with N = 5000 and dt = 1/100 for 100 times.',\n",
       " 'A statistic test of the process with N = 5000 and dt = 1/100 for 100 times.',\n",
       " 'A statistic test of the process with N = 5000 and dt = 1/100 for 100 times.',\n",
       " 'A statistic test of the process with N = 5000 and dt = 1/100 for 100 times.',\n",
       " 'A statistic test of the process with N = 5000 and dt = 1/100 for 100 times.',\n",
       " 'A statistic test of the process with N = 5000 and dt = 1/100 for 100 times.',\n",
       " 'A statistic test of the process with N = 5000 and dt = 1/100 for 100 times.',\n",
       " 'A statistic test of the process with N = 5000 and dt = 1/100 for 100 times.',\n",
       " 'A statistic test of the process with N = 5000 and dt = 1/100 for 100 times.',\n",
       " 'A statistic test of the process with N = 5000 and dt = 1/100 for 100 times.',\n",
       " 'A statistic test of the process with N = 5000 and dt = 1/100 for 100 times.',\n",
       " 'A statistic test of the process with N = 5000 and dt = 1/100 for 100 times.',\n",
       " 'A statistic test of the process with N = 5000 and dt = 1/100 for 100 times.',\n",
       " 'A statistic test of the process with N = 5000 and dt = 1/100 for 100 times.',\n",
       " 'A statistic test of the process with N = 5000 and dt = 1/100 for 100 times.',\n",
       " 'A statistic test of the process with N = 5000 and dt = 1/100 for 100 times.',\n",
       " 'A statistic test of the process with N = 5000 and dt = 1/100 for 100 times.',\n",
       " 'A statistic test of the process with N = 5000 and dt = 1/100 for 100 times.',\n",
       " 'A statistic test of the process with N = 5000 and dt = 1/100 for 100 times.',\n",
       " 'A statistic test of the process with N = 5000 and dt = 1/100 for 100 times.',\n",
       " 'A statistic test of the process with N = 5000 and dt = 1/100 for 100 times.',\n",
       " 'A statistic test of the process with N = 5000 and dt = 1/100 for 100 times.',\n",
       " 'A statistic test of the process with N = 5000 and dt = 1/100 for 100 times.',\n",
       " 'A statistic test of the process with N = 5000 and dt = 1/100 for 100 times.',\n",
       " 'A statistic test of the process with N = 5000 and dt = 1/100 for 100 times.',\n",
       " 'A statistic test of the process with N = 5000 and dt = 1/100 for 100 times.',\n",
       " 'A statistic test of the process with N = 5000 and dt = 1/100 for 100 times.',\n",
       " 'A statistic test of the process with N = 5000 and dt = 1/100 for 100 times.',\n",
       " 'A statistic test of the process with N = 5000 and dt = 1/100 for 100 times.',\n",
       " 'A statistic test of the process with N = 5000 and dt = 1/100 for 100 times.',\n",
       " 'A statistic test of the process with N = 5000 and dt = 1/100 for 100 times.',\n",
       " 'A statistic test of the process with N = 5000 and dt = 1/100 for 100 times.',\n",
       " 'A statistic test of the process with N = 5000 and dt = 1/100 for 100 times.',\n",
       " 'A statistic test of the process with N = 5000 and dt = 1/100 for 100 times.',\n",
       " 'A statistic test of the process with N = 5000 and dt = 1/100 for 100 times.',\n",
       " 'A statistic test of the process with N = 5000 and dt = 1/100 for 100 times.',\n",
       " 'A statistic test of the process with N = 5000 and dt = 1/100 for 100 times.',\n",
       " 'A statistic test of the process with N = 5000 and dt = 1/100 for 100 times.',\n",
       " 'A statistic test of the process with N = 5000 and dt = 1/100 for 100 times.',\n",
       " 'A statistic test of the process with N = 5000 and dt = 1/100 for 100 times.',\n",
       " 'A statistic test of the process with N = 5000 and dt = 1/100 for 100 times.',\n",
       " 'A statistic test of the process with N = 5000 and dt = 1/100 for 100 times.',\n",
       " 'A statistic test of the process with N = 5000 and dt = 1/100 for 100 times.',\n",
       " 'A statistic test of the process with N = 5000 and dt = 1/100 for 100 times.',\n",
       " 'A statistic test of the process with N = 5000 and dt = 1/100 for 100 times.',\n",
       " 'A statistic test of the process with N = 5000 and dt = 1/100 for 100 times.',\n",
       " 'A statistic test of the process with N = 5000 and dt = 1/100 for 100 times.',\n",
       " 'A statistic test of the process with N = 5000 and dt = 1/100 for 100 times.',\n",
       " 'A statistic test of the process with N = 5000 and dt = 1/100 for 100 times.',\n",
       " 'A statistic test of the process with N = 5000 and dt = 1/100 for 100 times.',\n",
       " 'A statistic test of the process with N = 5000 and dt = 1/100 for 100 times.',\n",
       " 'A statistic test of the process with N = 5000 and dt = 1/100 for 100 times.',\n",
       " 'A statistic test of the process with N = 5000 and dt = 1/100 for 100 times.',\n",
       " 'A statistic test of the process with N = 5000 and dt = 1/100 for 100 times.',\n",
       " 'A statistic test of the process with N = 5000 and dt = 1/100 for 100 times.',\n",
       " 'A statistic test of the process with N = 5000 and dt = 1/100 for 100 times.',\n",
       " 'A statistic test of the process with N = 5000 and dt = 1/100 for 100 times.',\n",
       " 'A statistic test of the process with N = 5000 and dt = 1/100 for 100 times.',\n",
       " 'A statistic test of the process with N = 5000 and dt = 1/100 for 100 times.',\n",
       " 'A statistic test of the process with N = 5000 and dt = 1/100 for 100 times.',\n",
       " 'A statistic test of the process with N = 5000 and dt = 1/100 for 100 times.',\n",
       " 'A statistic test of the process with N = 5000 and dt = 1/100 for 100 times.',\n",
       " 'A statistic test of the process with N = 5000 and dt = 1/100 for 100 times.',\n",
       " 'A statistic test of the process with N = 5000 and dt = 1/100 for 100 times.',\n",
       " 'A statistic test of the process with N = 5000 and dt = 1/100 for 100 times.',\n",
       " 'A statistic test of the process with N = 5000 and dt = 1/100 for 100 times.',\n",
       " 'A statistic test of the process with N = 5000 and dt = 1/100 for 100 times.',\n",
       " 'A statistic test of the process with N = 5000 and dt = 1/100 for 100 times.',\n",
       " 'A statistic test of the process with N = 5000 and dt = 1/100 for 100 times.',\n",
       " 'A statistic test of the process with N = 5000 and dt = 1/100 for 100 times.',\n",
       " 'A statistic test of the process with N = 5000 and dt = 1/100 for 100 times.',\n",
       " 'A statistic test of the process with N = 5000 and dt = 1/100 for 100 times.',\n",
       " 'A statistic test of the process with N = 5000 and dt = 1/100 for 100 times.',\n",
       " 'A statistic test of the process with N = 5000 and dt = 1/100 for 100 times.',\n",
       " 'A statistic test of the process with N = 5000 and dt = 1/100 for 100 times.',\n",
       " 'A statistic test of the process with N = 5000 and dt = 1/100 for 100 times.',\n",
       " 'A statistic test of the process with N = 5000 and dt = 1/100 for 100 times.',\n",
       " 'A statistic test of the process with N = 5000 and dt = 1/100 for 100 times.',\n",
       " 'A statistic test of the process with N = 5000 and dt = 1/100 for 100 times.',\n",
       " 'A statistic test of the process with N = 5000 and dt = 1/100 for 100 times.',\n",
       " 'A statistic test of the process with N = 5000 and dt = 1/100 for 100 times.',\n",
       " 'A statistic test of the process with N = 5000 and dt = 1/100 for 100 times.',\n",
       " 'A statistic test of the process with N = 5000 and dt = 1/100 for 100 times.',\n",
       " 'A statistic test of the process with N = 5000 and dt = 1/100 for 100 times.',\n",
       " 'A statistic test of the process with N = 5000 and dt = 1/100 for 100 times.',\n",
       " 'A statistic test of the process with N = 5000 and dt = 1/100 for 100 times.',\n",
       " 'A statistic test of the process with N = 5000 and dt = 1/100 for 100 times.',\n",
       " 'A statistic test of the process with N = 5000 and dt = 1/100 for 100 times.',\n",
       " 'A statistic test of the process with N = 5000 and dt = 1/100 for 100 times.',\n",
       " 'A statistic test of the process with N = 5000 and dt = 1/100 for 100 times.',\n",
       " 'A statistic test of the process with N = 5000 and dt = 1/500 for 100 times.',\n",
       " 'A statistic test of the process with N = 5000 and dt = 1/500 for 100 times.',\n",
       " 'A statistic test of the process with N = 5000 and dt = 1/500 for 100 times.',\n",
       " 'A statistic test of the process with N = 5000 and dt = 1/500 for 100 times.',\n",
       " 'A statistic test of the process with N = 5000 and dt = 1/500 for 100 times.',\n",
       " 'A statistic test of the process with N = 5000 and dt = 1/500 for 100 times.',\n",
       " 'A statistic test of the process with N = 5000 and dt = 1/500 for 100 times.',\n",
       " 'A statistic test of the process with N = 5000 and dt = 1/500 for 100 times.',\n",
       " 'A statistic test of the process with N = 5000 and dt = 1/500 for 100 times.',\n",
       " 'A statistic test of the process with N = 5000 and dt = 1/500 for 100 times.',\n",
       " 'A statistic test of the process with N = 5000 and dt = 1/500 for 100 times.',\n",
       " 'A statistic test of the process with N = 5000 and dt = 1/500 for 100 times.',\n",
       " 'A statistic test of the process with N = 5000 and dt = 1/500 for 100 times.',\n",
       " 'A statistic test of the process with N = 5000 and dt = 1/500 for 100 times.',\n",
       " 'A statistic test of the process with N = 5000 and dt = 1/500 for 100 times.',\n",
       " 'A statistic test of the process with N = 5000 and dt = 1/500 for 100 times.',\n",
       " 'A statistic test of the process with N = 5000 and dt = 1/500 for 100 times.',\n",
       " 'A statistic test of the process with N = 5000 and dt = 1/500 for 100 times.',\n",
       " 'A statistic test of the process with N = 5000 and dt = 1/500 for 100 times.',\n",
       " 'A statistic test of the process with N = 5000 and dt = 1/500 for 100 times.',\n",
       " 'A statistic test of the process with N = 5000 and dt = 1/500 for 100 times.',\n",
       " 'A statistic test of the process with N = 5000 and dt = 1/500 for 100 times.',\n",
       " 'A statistic test of the process with N = 5000 and dt = 1/500 for 100 times.',\n",
       " 'A statistic test of the process with N = 5000 and dt = 1/500 for 100 times.',\n",
       " 'A statistic test of the process with N = 5000 and dt = 1/500 for 100 times.',\n",
       " 'A statistic test of the process with N = 5000 and dt = 1/500 for 100 times.',\n",
       " 'A statistic test of the process with N = 5000 and dt = 1/500 for 100 times.',\n",
       " 'A statistic test of the process with N = 5000 and dt = 1/500 for 100 times.',\n",
       " 'A statistic test of the process with N = 5000 and dt = 1/500 for 100 times.',\n",
       " 'A statistic test of the process with N = 5000 and dt = 1/500 for 100 times.',\n",
       " 'A statistic test of the process with N = 5000 and dt = 1/500 for 100 times.',\n",
       " 'A statistic test of the process with N = 5000 and dt = 1/500 for 100 times.',\n",
       " 'A statistic test of the process with N = 5000 and dt = 1/500 for 100 times.',\n",
       " 'A statistic test of the process with N = 5000 and dt = 1/500 for 100 times.',\n",
       " 'A statistic test of the process with N = 5000 and dt = 1/500 for 100 times.',\n",
       " 'A statistic test of the process with N = 5000 and dt = 1/500 for 100 times.',\n",
       " 'A statistic test of the process with N = 5000 and dt = 1/500 for 100 times.',\n",
       " 'A statistic test of the process with N = 5000 and dt = 1/500 for 100 times.',\n",
       " 'A statistic test of the process with N = 5000 and dt = 1/500 for 100 times.',\n",
       " 'A statistic test of the process with N = 5000 and dt = 1/500 for 100 times.',\n",
       " 'A statistic test of the process with N = 5000 and dt = 1/500 for 100 times.',\n",
       " 'A statistic test of the process with N = 5000 and dt = 1/500 for 100 times.',\n",
       " 'A statistic test of the process with N = 5000 and dt = 1/500 for 100 times.',\n",
       " 'A statistic test of the process with N = 5000 and dt = 1/500 for 100 times.',\n",
       " 'A statistic test of the process with N = 5000 and dt = 1/500 for 100 times.',\n",
       " 'A statistic test of the process with N = 5000 and dt = 1/500 for 100 times.',\n",
       " 'A statistic test of the process with N = 5000 and dt = 1/500 for 100 times.',\n",
       " 'A statistic test of the process with N = 5000 and dt = 1/500 for 100 times.',\n",
       " 'A statistic test of the process with N = 5000 and dt = 1/500 for 100 times.',\n",
       " 'A statistic test of the process with N = 5000 and dt = 1/500 for 100 times.',\n",
       " 'A statistic test of the process with N = 5000 and dt = 1/500 for 100 times.',\n",
       " 'A statistic test of the process with N = 5000 and dt = 1/500 for 100 times.',\n",
       " 'A statistic test of the process with N = 5000 and dt = 1/500 for 100 times.',\n",
       " 'A statistic test of the process with N = 5000 and dt = 1/500 for 100 times.',\n",
       " 'A statistic test of the process with N = 5000 and dt = 1/500 for 100 times.',\n",
       " 'A statistic test of the process with N = 5000 and dt = 1/500 for 100 times.',\n",
       " 'A statistic test of the process with N = 5000 and dt = 1/500 for 100 times.',\n",
       " 'A statistic test of the process with N = 5000 and dt = 1/500 for 100 times.',\n",
       " 'A statistic test of the process with N = 5000 and dt = 1/500 for 100 times.',\n",
       " 'A statistic test of the process with N = 5000 and dt = 1/500 for 100 times.',\n",
       " 'A statistic test of the process with N = 5000 and dt = 1/500 for 100 times.',\n",
       " 'A statistic test of the process with N = 5000 and dt = 1/500 for 100 times.',\n",
       " 'A statistic test of the process with N = 5000 and dt = 1/500 for 100 times.',\n",
       " 'A statistic test of the process with N = 5000 and dt = 1/500 for 100 times.',\n",
       " 'A statistic test of the process with N = 5000 and dt = 1/500 for 100 times.',\n",
       " 'A statistic test of the process with N = 5000 and dt = 1/500 for 100 times.',\n",
       " 'A statistic test of the process with N = 5000 and dt = 1/500 for 100 times.',\n",
       " 'A statistic test of the process with N = 5000 and dt = 1/500 for 100 times.',\n",
       " 'A statistic test of the process with N = 5000 and dt = 1/500 for 100 times.',\n",
       " 'A statistic test of the process with N = 5000 and dt = 1/500 for 100 times.',\n",
       " 'A statistic test of the process with N = 5000 and dt = 1/500 for 100 times.',\n",
       " 'A statistic test of the process with N = 5000 and dt = 1/500 for 100 times.',\n",
       " 'A statistic test of the process with N = 5000 and dt = 1/500 for 100 times.',\n",
       " 'A statistic test of the process with N = 5000 and dt = 1/500 for 100 times.',\n",
       " 'A statistic test of the process with N = 5000 and dt = 1/500 for 100 times.',\n",
       " 'A statistic test of the process with N = 5000 and dt = 1/500 for 100 times.',\n",
       " 'A statistic test of the process with N = 5000 and dt = 1/500 for 100 times.',\n",
       " 'A statistic test of the process with N = 5000 and dt = 1/500 for 100 times.',\n",
       " 'A statistic test of the process with N = 5000 and dt = 1/500 for 100 times.',\n",
       " 'A statistic test of the process with N = 5000 and dt = 1/500 for 100 times.',\n",
       " 'A statistic test of the process with N = 5000 and dt = 1/500 for 100 times.',\n",
       " 'A statistic test of the process with N = 5000 and dt = 1/500 for 100 times.',\n",
       " 'A statistic test of the process with N = 5000 and dt = 1/500 for 100 times.',\n",
       " 'A statistic test of the process with N = 5000 and dt = 1/500 for 100 times.',\n",
       " 'A statistic test of the process with N = 5000 and dt = 1/500 for 100 times.',\n",
       " 'A statistic test of the process with N = 5000 and dt = 1/500 for 100 times.',\n",
       " 'A statistic test of the process with N = 5000 and dt = 1/500 for 100 times.',\n",
       " 'A statistic test of the process with N = 5000 and dt = 1/500 for 100 times.',\n",
       " 'A statistic test of the process with N = 5000 and dt = 1/500 for 100 times.',\n",
       " 'A statistic test of the process with N = 5000 and dt = 1/500 for 100 times.',\n",
       " 'A statistic test of the process with N = 5000 and dt = 1/500 for 100 times.',\n",
       " 'A statistic test of the process with N = 5000 and dt = 1/500 for 100 times.',\n",
       " 'A statistic test of the process with N = 5000 and dt = 1/500 for 100 times.',\n",
       " 'A statistic test of the process with N = 5000 and dt = 1/500 for 100 times.',\n",
       " 'A statistic test of the process with N = 5000 and dt = 1/500 for 100 times.',\n",
       " 'A statistic test of the process with N = 5000 and dt = 1/500 for 100 times.',\n",
       " 'A statistic test of the process with N = 5000 and dt = 1/500 for 100 times.',\n",
       " 'A statistic test of the process with N = 5000 and dt = 1/500 for 100 times.',\n",
       " 'A statistic test of the process with N = 5000 and dt = 1/500 for 100 times.',\n",
       " 'A statistic test of the process with N = 5000 and dt = 1/500 for 100 times.',\n",
       " 'A statistic test of the process with N = 5000 and dt = 1/500 for 100 times.',\n",
       " 'A statistic test of the process with N = 5000 and dt = 1/1000 for 100 times.',\n",
       " 'A statistic test of the process with N = 5000 and dt = 1/1000 for 100 times.',\n",
       " 'A statistic test of the process with N = 5000 and dt = 1/1000 for 100 times.',\n",
       " 'A statistic test of the process with N = 5000 and dt = 1/1000 for 100 times.',\n",
       " 'A statistic test of the process with N = 5000 and dt = 1/1000 for 100 times.',\n",
       " 'A statistic test of the process with N = 5000 and dt = 1/1000 for 100 times.',\n",
       " 'A statistic test of the process with N = 5000 and dt = 1/1000 for 100 times.',\n",
       " 'A statistic test of the process with N = 5000 and dt = 1/1000 for 100 times.',\n",
       " 'A statistic test of the process with N = 5000 and dt = 1/1000 for 100 times.',\n",
       " 'A statistic test of the process with N = 5000 and dt = 1/1000 for 100 times.',\n",
       " 'A statistic test of the process with N = 5000 and dt = 1/1000 for 100 times.',\n",
       " 'A statistic test of the process with N = 5000 and dt = 1/1000 for 100 times.',\n",
       " 'A statistic test of the process with N = 5000 and dt = 1/1000 for 100 times.',\n",
       " 'A statistic test of the process with N = 5000 and dt = 1/1000 for 100 times.',\n",
       " 'A statistic test of the process with N = 5000 and dt = 1/1000 for 100 times.',\n",
       " 'A statistic test of the process with N = 5000 and dt = 1/1000 for 100 times.',\n",
       " 'A statistic test of the process with N = 5000 and dt = 1/1000 for 100 times.',\n",
       " 'A statistic test of the process with N = 5000 and dt = 1/1000 for 100 times.',\n",
       " 'A statistic test of the process with N = 5000 and dt = 1/1000 for 100 times.',\n",
       " 'A statistic test of the process with N = 5000 and dt = 1/1000 for 100 times.',\n",
       " 'A statistic test of the process with N = 5000 and dt = 1/1000 for 100 times.',\n",
       " 'A statistic test of the process with N = 5000 and dt = 1/1000 for 100 times.',\n",
       " 'A statistic test of the process with N = 5000 and dt = 1/1000 for 100 times.',\n",
       " 'A statistic test of the process with N = 5000 and dt = 1/1000 for 100 times.',\n",
       " 'A statistic test of the process with N = 5000 and dt = 1/1000 for 100 times.',\n",
       " 'A statistic test of the process with N = 5000 and dt = 1/1000 for 100 times.',\n",
       " 'A statistic test of the process with N = 5000 and dt = 1/1000 for 100 times.',\n",
       " 'A statistic test of the process with N = 5000 and dt = 1/1000 for 100 times.',\n",
       " 'A statistic test of the process with N = 5000 and dt = 1/1000 for 100 times.',\n",
       " 'A statistic test of the process with N = 5000 and dt = 1/1000 for 100 times.',\n",
       " 'A statistic test of the process with N = 5000 and dt = 1/1000 for 100 times.',\n",
       " 'A statistic test of the process with N = 5000 and dt = 1/1000 for 100 times.',\n",
       " 'A statistic test of the process with N = 5000 and dt = 1/1000 for 100 times.',\n",
       " 'A statistic test of the process with N = 5000 and dt = 1/1000 for 100 times.',\n",
       " 'A statistic test of the process with N = 5000 and dt = 1/1000 for 100 times.',\n",
       " 'A statistic test of the process with N = 5000 and dt = 1/1000 for 100 times.',\n",
       " 'A statistic test of the process with N = 5000 and dt = 1/1000 for 100 times.',\n",
       " 'A statistic test of the process with N = 5000 and dt = 1/1000 for 100 times.',\n",
       " 'A statistic test of the process with N = 5000 and dt = 1/1000 for 100 times.',\n",
       " 'A statistic test of the process with N = 5000 and dt = 1/1000 for 100 times.',\n",
       " 'A statistic test of the process with N = 5000 and dt = 1/1000 for 100 times.',\n",
       " 'A statistic test of the process with N = 5000 and dt = 1/1000 for 100 times.',\n",
       " 'A statistic test of the process with N = 5000 and dt = 1/1000 for 100 times.',\n",
       " 'A statistic test of the process with N = 5000 and dt = 1/1000 for 100 times.',\n",
       " 'A statistic test of the process with N = 5000 and dt = 1/1000 for 100 times.',\n",
       " 'A statistic test of the process with N = 5000 and dt = 1/1000 for 100 times.',\n",
       " 'A statistic test of the process with N = 5000 and dt = 1/1000 for 100 times.',\n",
       " 'A statistic test of the process with N = 5000 and dt = 1/1000 for 100 times.',\n",
       " 'A statistic test of the process with N = 5000 and dt = 1/1000 for 100 times.',\n",
       " 'A statistic test of the process with N = 5000 and dt = 1/1000 for 100 times.',\n",
       " 'A statistic test of the process with N = 5000 and dt = 1/1000 for 100 times.',\n",
       " 'A statistic test of the process with N = 5000 and dt = 1/1000 for 100 times.',\n",
       " 'A statistic test of the process with N = 5000 and dt = 1/1000 for 100 times.',\n",
       " 'A statistic test of the process with N = 5000 and dt = 1/1000 for 100 times.',\n",
       " 'A statistic test of the process with N = 5000 and dt = 1/1000 for 100 times.',\n",
       " 'A statistic test of the process with N = 5000 and dt = 1/1000 for 100 times.',\n",
       " 'A statistic test of the process with N = 5000 and dt = 1/1000 for 100 times.',\n",
       " 'A statistic test of the process with N = 5000 and dt = 1/1000 for 100 times.',\n",
       " 'A statistic test of the process with N = 5000 and dt = 1/1000 for 100 times.',\n",
       " 'A statistic test of the process with N = 5000 and dt = 1/1000 for 100 times.',\n",
       " 'A statistic test of the process with N = 5000 and dt = 1/1000 for 100 times.',\n",
       " 'A statistic test of the process with N = 5000 and dt = 1/1000 for 100 times.',\n",
       " 'A statistic test of the process with N = 5000 and dt = 1/1000 for 100 times.',\n",
       " 'A statistic test of the process with N = 5000 and dt = 1/1000 for 100 times.',\n",
       " 'A statistic test of the process with N = 5000 and dt = 1/1000 for 100 times.',\n",
       " 'A statistic test of the process with N = 5000 and dt = 1/1000 for 100 times.',\n",
       " 'A statistic test of the process with N = 5000 and dt = 1/1000 for 100 times.',\n",
       " 'A statistic test of the process with N = 5000 and dt = 1/1000 for 100 times.',\n",
       " 'A statistic test of the process with N = 5000 and dt = 1/1000 for 100 times.',\n",
       " 'A statistic test of the process with N = 5000 and dt = 1/1000 for 100 times.',\n",
       " 'A statistic test of the process with N = 5000 and dt = 1/1000 for 100 times.',\n",
       " 'A statistic test of the process with N = 5000 and dt = 1/1000 for 100 times.',\n",
       " 'A statistic test of the process with N = 5000 and dt = 1/1000 for 100 times.',\n",
       " 'A statistic test of the process with N = 5000 and dt = 1/1000 for 100 times.',\n",
       " 'A statistic test of the process with N = 5000 and dt = 1/1000 for 100 times.',\n",
       " 'A statistic test of the process with N = 5000 and dt = 1/1000 for 100 times.',\n",
       " 'A statistic test of the process with N = 5000 and dt = 1/1000 for 100 times.',\n",
       " 'A statistic test of the process with N = 5000 and dt = 1/1000 for 100 times.',\n",
       " 'A statistic test of the process with N = 5000 and dt = 1/1000 for 100 times.',\n",
       " 'A statistic test of the process with N = 5000 and dt = 1/1000 for 100 times.',\n",
       " 'A statistic test of the process with N = 5000 and dt = 1/1000 for 100 times.',\n",
       " 'A statistic test of the process with N = 5000 and dt = 1/1000 for 100 times.',\n",
       " 'A statistic test of the process with N = 5000 and dt = 1/1000 for 100 times.',\n",
       " 'A statistic test of the process with N = 5000 and dt = 1/1000 for 100 times.',\n",
       " 'A statistic test of the process with N = 5000 and dt = 1/1000 for 100 times.',\n",
       " 'A statistic test of the process with N = 5000 and dt = 1/1000 for 100 times.',\n",
       " 'A statistic test of the process with N = 5000 and dt = 1/1000 for 100 times.',\n",
       " 'A statistic test of the process with N = 5000 and dt = 1/1000 for 100 times.',\n",
       " 'A statistic test of the process with N = 5000 and dt = 1/1000 for 100 times.',\n",
       " 'A statistic test of the process with N = 5000 and dt = 1/1000 for 100 times.',\n",
       " 'A statistic test of the process with N = 5000 and dt = 1/1000 for 100 times.',\n",
       " 'A statistic test of the process with N = 5000 and dt = 1/1000 for 100 times.',\n",
       " 'A statistic test of the process with N = 5000 and dt = 1/1000 for 100 times.',\n",
       " 'A statistic test of the process with N = 5000 and dt = 1/1000 for 100 times.',\n",
       " 'A statistic test of the process with N = 5000 and dt = 1/1000 for 100 times.',\n",
       " 'A statistic test of the process with N = 5000 and dt = 1/1000 for 100 times.',\n",
       " 'A statistic test of the process with N = 5000 and dt = 1/1000 for 100 times.',\n",
       " 'A statistic test of the process with N = 5000 and dt = 1/1000 for 100 times.',\n",
       " 'A statistic test of the process with N = 5000 and dt = 1/1000 for 100 times.',\n",
       " 'A statistic test of the process with N = 5000 and dt = 1/1000 for 100 times.',\n",
       " 'A statistic test of the process with N = 5000 and dt = 1/1000 for 100 times.',\n",
       " 'substep 1 simulation for different t',\n",
       " 'substep 2 simulation for different t',\n",
       " 'substep 1 simulation for different t',\n",
       " 'substep 3 simulation for different t',\n",
       " 'substep 2 simulation for different t']"
      ]
     },
     "execution_count": 11,
     "metadata": {},
     "output_type": "execute_result"
    }
   ],
   "source": [
    "[item['comment'] for item in list(df[\"params\"])]"
   ]
  },
  {
   "cell_type": "code",
   "execution_count": null,
   "id": "840ec64a-8a6a-4bdf-ae9a-2d3608537b28",
   "metadata": {},
   "outputs": [],
   "source": []
  },
  {
   "cell_type": "code",
   "execution_count": 72,
   "id": "2fcd4f08-2c44-4911-ba66-ec3aaf755ba9",
   "metadata": {},
   "outputs": [
    {
     "data": {
      "text/plain": [
       "314    {'N': 5000, 'dt': 0.0001, 'lambda': 1, 'beta':...\n",
       "Name: params, dtype: object"
      ]
     },
     "execution_count": 72,
     "metadata": {},
     "output_type": "execute_result"
    }
   ],
   "source": [
    "df.tail(1)['params']"
   ]
  },
  {
   "cell_type": "code",
   "execution_count": 28,
   "id": "61f8bc33-5767-4d3c-9343-039f8a469342",
   "metadata": {},
   "outputs": [
    {
     "data": {
      "text/plain": [
       "314    0.84697\n",
       "Name: jarzynski_term, dtype: float64"
      ]
     },
     "execution_count": 28,
     "metadata": {},
     "output_type": "execute_result"
    }
   ],
   "source": [
    "df.tail(1)[\"jarzynski_term\"]"
   ]
  },
  {
   "cell_type": "code",
   "execution_count": 24,
   "id": "7bc88459-c09a-4c60-a0cf-d7dd8dfcb917",
   "metadata": {},
   "outputs": [],
   "source": [
    "sim_id = [x['simulation_id'] for x in df[-2:][\"simulation_data\"]]\n",
    "mean_work_array = []\n",
    "for _id in sim_id:\n",
    "    npy_file_path = f\"coupled_flux_qubit_protocol/coupled_flux_qubit_data_gallery/{_id}_work_distribution.npy\"\n",
    "    mean_work_array.append(np.mean(np.load(npy_file_path)))"
   ]
  },
  {
   "cell_type": "code",
   "execution_count": 25,
   "id": "85a36ff2-93b1-44b6-aefa-e337cb392171",
   "metadata": {},
   "outputs": [
    {
     "data": {
      "text/plain": [
       "[0.4640195379537786, 0.4635767291139324]"
      ]
     },
     "execution_count": 25,
     "metadata": {},
     "output_type": "execute_result"
    }
   ],
   "source": [
    "mean_work_array"
   ]
  },
  {
   "cell_type": "code",
   "execution_count": 8,
   "id": "c0abe990-b9dc-408b-b0cf-923e3b99c368",
   "metadata": {},
   "outputs": [
    {
     "ename": "NameError",
     "evalue": "name 'mean_work_array' is not defined",
     "output_type": "error",
     "traceback": [
      "\u001b[0;31m---------------------------------------------------------------------------\u001b[0m",
      "\u001b[0;31mNameError\u001b[0m                                 Traceback (most recent call last)",
      "Cell \u001b[0;32mIn[8], line 1\u001b[0m\n\u001b[0;32m----> 1\u001b[0m np\u001b[38;5;241m.\u001b[39mmean(\u001b[43mmean_work_array\u001b[49m)\n",
      "\u001b[0;31mNameError\u001b[0m: name 'mean_work_array' is not defined"
     ]
    }
   ],
   "source": [
    "np.mean(mean_work_array)"
   ]
  },
  {
   "cell_type": "code",
   "execution_count": 13,
   "id": "dfa363c6-12c4-4f10-b435-770f34c9ec75",
   "metadata": {},
   "outputs": [
    {
     "data": {
      "text/plain": [
       "0.010348749473505512"
      ]
     },
     "execution_count": 13,
     "metadata": {},
     "output_type": "execute_result"
    }
   ],
   "source": [
    "np.std(mean_work_array)"
   ]
  },
  {
   "cell_type": "code",
   "execution_count": null,
   "id": "18686861-f399-4ba8-bfad-56eb25648533",
   "metadata": {},
   "outputs": [],
   "source": []
  },
  {
   "cell_type": "code",
   "execution_count": null,
   "id": "f152c973-09f4-4b75-afe0-6345e45ee336",
   "metadata": {},
   "outputs": [],
   "source": []
  },
  {
   "cell_type": "code",
   "execution_count": 16,
   "id": "4cca6502-b465-4b3a-be50-48b84a872cf6",
   "metadata": {},
   "outputs": [],
   "source": [
    "work_distribution_np_array = np.load(\"coupled_flux_qubit_protocol/coupled_flux_qubit_data_gallery/6aadc3862c80d54c93d667d2fcdf33e7df4df3733c5f1e07e55062ec067d24e7_work_distribution.npy\")"
   ]
  },
  {
   "cell_type": "code",
   "execution_count": 21,
   "id": "6db8947e-d910-4ad3-957d-259ad747843f",
   "metadata": {},
   "outputs": [],
   "source": [
    "mean_work = np.mean(work_distribution_np_array)"
   ]
  },
  {
   "cell_type": "code",
   "execution_count": 69,
   "id": "d5864b26-dbb8-446c-b3a0-241be845b881",
   "metadata": {},
   "outputs": [
    {
     "data": {
      "text/plain": [
       "Text(-0.5, 11000, '$\\\\langle W \\\\rangle $ = 0.463')"
      ]
     },
     "execution_count": 69,
     "metadata": {},
     "output_type": "execute_result"
    },
    {
     "data": {
      "image/png": "[encoded data removed]",
      "text/plain": [
       "<Figure size 640x480 with 1 Axes>"
      ]
     },
     "metadata": {},
     "output_type": "display_data"
    }
   ],
   "source": [
    "plt.hist(work_distribution_np_array, bins = 50)\n",
    "plt.xlabel(r\"work ($k_BT$)\", fontsize=15)\n",
    "plt.xticks(fontsize=14)\n",
    "plt.yticks(fontsize=14)\n",
    "plt.ylim(0, 12000)\n",
    "\n",
    "plt.ylabel(\"counts\", fontsize=15)\n",
    "plt.vlines(x=mean_work, ymin=0, ymax= 10500, colors=\"red\", linestyles=\"--\", linewidth = 3)\n",
    "plt.text(-0.5, 11000, r\"$\\langle W \\rangle $ = \" + f\"{mean_work:.3g}\", fontsize = 13, color = \"red\")\n",
    "# plt.text(x = 1.5, y = 9000, s=\")"
   ]
  },
  {
   "cell_type": "code",
   "execution_count": null,
   "id": "c1ed4a96-4a8f-4d52-bc0d-5dd4fa449fba",
   "metadata": {},
   "outputs": [],
   "source": []
  },
  {
   "cell_type": "code",
   "execution_count": 71,
   "id": "27fd99f4-5b2d-4e22-ad76-141c4b3b684d",
   "metadata": {},
   "outputs": [],
   "source": [
    "df.to_json(\"cfq_data/fidelity_analysis.json\")"
   ]
  },
  {
   "cell_type": "code",
   "execution_count": null,
   "id": "c08d07c6-f0c1-4363-a49f-d59a75e1ac5f",
   "metadata": {},
   "outputs": [],
   "source": [
    "df.rename(columns={\"tested_paramter_name\": \"tested_parameter_name\", \"tested_paramter_value\": \"tested_parameter_value\"})"
   ]
  }
 ],
 "metadata": {
  "interpreter": {
   "hash": "c48eea1d6fe0303de93a25029b75a26fa311fe2cfce1f013702fed1a8d75264d"
  },
  "kernelspec": {
   "display_name": "Python 3 (ipykernel)",
   "language": "python",
   "name": "python3"
  },
  "language_info": {
   "codemirror_mode": {
    "name": "ipython",
    "version": 3
   },
   "file_extension": ".py",
   "mimetype": "text/x-python",
   "name": "python",
   "nbconvert_exporter": "python",
   "pygments_lexer": "ipython3",
   "version": "3.10.9"
  }
 },
 "nbformat": 4,
 "nbformat_minor": 5
}
