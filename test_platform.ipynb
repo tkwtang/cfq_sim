{
 "cells": [
  {
   "cell_type": "code",
   "execution_count": 1,
   "id": "a00bd32a",
   "metadata": {},
   "outputs": [
    {
     "ename": "KeyboardInterrupt",
     "evalue": "",
     "output_type": "error",
     "traceback": [
      "\u001b[0;31m---------------------------------------------------------------------------\u001b[0m",
      "\u001b[0;31mKeyboardInterrupt\u001b[0m                         Traceback (most recent call last)",
      "\u001b[0;32m<ipython-input-1-9fd78f3761ca>\u001b[0m in \u001b[0;36m<module>\u001b[0;34m\u001b[0m\n\u001b[1;32m    130\u001b[0m \u001b[0;32mif\u001b[0m \u001b[0m__name__\u001b[0m \u001b[0;34m==\u001b[0m \u001b[0;34m\"__main__\"\u001b[0m\u001b[0;34m:\u001b[0m  \u001b[0;31m# confirms that the code is under main function\u001b[0m\u001b[0;34m\u001b[0m\u001b[0;34m\u001b[0m\u001b[0m\n\u001b[1;32m    131\u001b[0m     \u001b[0mp\u001b[0m \u001b[0;34m=\u001b[0m \u001b[0mPool\u001b[0m\u001b[0;34m(\u001b[0m\u001b[0mprocesses\u001b[0m\u001b[0;34m=\u001b[0m\u001b[0mlen\u001b[0m\u001b[0;34m(\u001b[0m\u001b[0mbatch_list\u001b[0m\u001b[0;34m)\u001b[0m\u001b[0;34m)\u001b[0m\u001b[0;34m\u001b[0m\u001b[0;34m\u001b[0m\u001b[0m\n\u001b[0;32m--> 132\u001b[0;31m     \u001b[0mdataArray\u001b[0m \u001b[0;34m=\u001b[0m \u001b[0mp\u001b[0m\u001b[0;34m.\u001b[0m\u001b[0mmap\u001b[0m\u001b[0;34m(\u001b[0m\u001b[0mmultiprocessing_worker_function\u001b[0m\u001b[0;34m,\u001b[0m \u001b[0mbatch_list\u001b[0m\u001b[0;34m)\u001b[0m\u001b[0;34m\u001b[0m\u001b[0;34m\u001b[0m\u001b[0m\n\u001b[0m\u001b[1;32m    133\u001b[0m     \u001b[0mp\u001b[0m\u001b[0;34m.\u001b[0m\u001b[0mclose\u001b[0m\u001b[0;34m(\u001b[0m\u001b[0;34m)\u001b[0m\u001b[0;34m\u001b[0m\u001b[0;34m\u001b[0m\u001b[0m\n\u001b[1;32m    134\u001b[0m     \u001b[0mprint\u001b[0m\u001b[0;34m(\u001b[0m\u001b[0;34m\"finish all\"\u001b[0m\u001b[0;34m)\u001b[0m\u001b[0;34m\u001b[0m\u001b[0;34m\u001b[0m\u001b[0m\n",
      "\u001b[0;32m~/anaconda3/lib/python3.8/multiprocessing/pool.py\u001b[0m in \u001b[0;36mmap\u001b[0;34m(self, func, iterable, chunksize)\u001b[0m\n\u001b[1;32m    362\u001b[0m         \u001b[0;32min\u001b[0m \u001b[0ma\u001b[0m \u001b[0mlist\u001b[0m \u001b[0mthat\u001b[0m \u001b[0;32mis\u001b[0m \u001b[0mreturned\u001b[0m\u001b[0;34m.\u001b[0m\u001b[0;34m\u001b[0m\u001b[0;34m\u001b[0m\u001b[0m\n\u001b[1;32m    363\u001b[0m         '''\n\u001b[0;32m--> 364\u001b[0;31m         \u001b[0;32mreturn\u001b[0m \u001b[0mself\u001b[0m\u001b[0;34m.\u001b[0m\u001b[0m_map_async\u001b[0m\u001b[0;34m(\u001b[0m\u001b[0mfunc\u001b[0m\u001b[0;34m,\u001b[0m \u001b[0miterable\u001b[0m\u001b[0;34m,\u001b[0m \u001b[0mmapstar\u001b[0m\u001b[0;34m,\u001b[0m \u001b[0mchunksize\u001b[0m\u001b[0;34m)\u001b[0m\u001b[0;34m.\u001b[0m\u001b[0mget\u001b[0m\u001b[0;34m(\u001b[0m\u001b[0;34m)\u001b[0m\u001b[0;34m\u001b[0m\u001b[0;34m\u001b[0m\u001b[0m\n\u001b[0m\u001b[1;32m    365\u001b[0m \u001b[0;34m\u001b[0m\u001b[0m\n\u001b[1;32m    366\u001b[0m     \u001b[0;32mdef\u001b[0m \u001b[0mstarmap\u001b[0m\u001b[0;34m(\u001b[0m\u001b[0mself\u001b[0m\u001b[0;34m,\u001b[0m \u001b[0mfunc\u001b[0m\u001b[0;34m,\u001b[0m \u001b[0miterable\u001b[0m\u001b[0;34m,\u001b[0m \u001b[0mchunksize\u001b[0m\u001b[0;34m=\u001b[0m\u001b[0;32mNone\u001b[0m\u001b[0;34m)\u001b[0m\u001b[0;34m:\u001b[0m\u001b[0;34m\u001b[0m\u001b[0;34m\u001b[0m\u001b[0m\n",
      "\u001b[0;32m~/anaconda3/lib/python3.8/multiprocessing/pool.py\u001b[0m in \u001b[0;36mget\u001b[0;34m(self, timeout)\u001b[0m\n\u001b[1;32m    763\u001b[0m \u001b[0;34m\u001b[0m\u001b[0m\n\u001b[1;32m    764\u001b[0m     \u001b[0;32mdef\u001b[0m \u001b[0mget\u001b[0m\u001b[0;34m(\u001b[0m\u001b[0mself\u001b[0m\u001b[0;34m,\u001b[0m \u001b[0mtimeout\u001b[0m\u001b[0;34m=\u001b[0m\u001b[0;32mNone\u001b[0m\u001b[0;34m)\u001b[0m\u001b[0;34m:\u001b[0m\u001b[0;34m\u001b[0m\u001b[0;34m\u001b[0m\u001b[0m\n\u001b[0;32m--> 765\u001b[0;31m         \u001b[0mself\u001b[0m\u001b[0;34m.\u001b[0m\u001b[0mwait\u001b[0m\u001b[0;34m(\u001b[0m\u001b[0mtimeout\u001b[0m\u001b[0;34m)\u001b[0m\u001b[0;34m\u001b[0m\u001b[0;34m\u001b[0m\u001b[0m\n\u001b[0m\u001b[1;32m    766\u001b[0m         \u001b[0;32mif\u001b[0m \u001b[0;32mnot\u001b[0m \u001b[0mself\u001b[0m\u001b[0;34m.\u001b[0m\u001b[0mready\u001b[0m\u001b[0;34m(\u001b[0m\u001b[0;34m)\u001b[0m\u001b[0;34m:\u001b[0m\u001b[0;34m\u001b[0m\u001b[0;34m\u001b[0m\u001b[0m\n\u001b[1;32m    767\u001b[0m             \u001b[0;32mraise\u001b[0m \u001b[0mTimeoutError\u001b[0m\u001b[0;34m\u001b[0m\u001b[0;34m\u001b[0m\u001b[0m\n",
      "\u001b[0;32m~/anaconda3/lib/python3.8/multiprocessing/pool.py\u001b[0m in \u001b[0;36mwait\u001b[0;34m(self, timeout)\u001b[0m\n\u001b[1;32m    760\u001b[0m \u001b[0;34m\u001b[0m\u001b[0m\n\u001b[1;32m    761\u001b[0m     \u001b[0;32mdef\u001b[0m \u001b[0mwait\u001b[0m\u001b[0;34m(\u001b[0m\u001b[0mself\u001b[0m\u001b[0;34m,\u001b[0m \u001b[0mtimeout\u001b[0m\u001b[0;34m=\u001b[0m\u001b[0;32mNone\u001b[0m\u001b[0;34m)\u001b[0m\u001b[0;34m:\u001b[0m\u001b[0;34m\u001b[0m\u001b[0;34m\u001b[0m\u001b[0m\n\u001b[0;32m--> 762\u001b[0;31m         \u001b[0mself\u001b[0m\u001b[0;34m.\u001b[0m\u001b[0m_event\u001b[0m\u001b[0;34m.\u001b[0m\u001b[0mwait\u001b[0m\u001b[0;34m(\u001b[0m\u001b[0mtimeout\u001b[0m\u001b[0;34m)\u001b[0m\u001b[0;34m\u001b[0m\u001b[0;34m\u001b[0m\u001b[0m\n\u001b[0m\u001b[1;32m    763\u001b[0m \u001b[0;34m\u001b[0m\u001b[0m\n\u001b[1;32m    764\u001b[0m     \u001b[0;32mdef\u001b[0m \u001b[0mget\u001b[0m\u001b[0;34m(\u001b[0m\u001b[0mself\u001b[0m\u001b[0;34m,\u001b[0m \u001b[0mtimeout\u001b[0m\u001b[0;34m=\u001b[0m\u001b[0;32mNone\u001b[0m\u001b[0;34m)\u001b[0m\u001b[0;34m:\u001b[0m\u001b[0;34m\u001b[0m\u001b[0;34m\u001b[0m\u001b[0m\n",
      "\u001b[0;32m~/anaconda3/lib/python3.8/threading.py\u001b[0m in \u001b[0;36mwait\u001b[0;34m(self, timeout)\u001b[0m\n\u001b[1;32m    556\u001b[0m             \u001b[0msignaled\u001b[0m \u001b[0;34m=\u001b[0m \u001b[0mself\u001b[0m\u001b[0;34m.\u001b[0m\u001b[0m_flag\u001b[0m\u001b[0;34m\u001b[0m\u001b[0;34m\u001b[0m\u001b[0m\n\u001b[1;32m    557\u001b[0m             \u001b[0;32mif\u001b[0m \u001b[0;32mnot\u001b[0m \u001b[0msignaled\u001b[0m\u001b[0;34m:\u001b[0m\u001b[0;34m\u001b[0m\u001b[0;34m\u001b[0m\u001b[0m\n\u001b[0;32m--> 558\u001b[0;31m                 \u001b[0msignaled\u001b[0m \u001b[0;34m=\u001b[0m \u001b[0mself\u001b[0m\u001b[0;34m.\u001b[0m\u001b[0m_cond\u001b[0m\u001b[0;34m.\u001b[0m\u001b[0mwait\u001b[0m\u001b[0;34m(\u001b[0m\u001b[0mtimeout\u001b[0m\u001b[0;34m)\u001b[0m\u001b[0;34m\u001b[0m\u001b[0;34m\u001b[0m\u001b[0m\n\u001b[0m\u001b[1;32m    559\u001b[0m             \u001b[0;32mreturn\u001b[0m \u001b[0msignaled\u001b[0m\u001b[0;34m\u001b[0m\u001b[0;34m\u001b[0m\u001b[0m\n\u001b[1;32m    560\u001b[0m \u001b[0;34m\u001b[0m\u001b[0m\n",
      "\u001b[0;32m~/anaconda3/lib/python3.8/threading.py\u001b[0m in \u001b[0;36mwait\u001b[0;34m(self, timeout)\u001b[0m\n\u001b[1;32m    300\u001b[0m         \u001b[0;32mtry\u001b[0m\u001b[0;34m:\u001b[0m    \u001b[0;31m# restore state no matter what (e.g., KeyboardInterrupt)\u001b[0m\u001b[0;34m\u001b[0m\u001b[0;34m\u001b[0m\u001b[0m\n\u001b[1;32m    301\u001b[0m             \u001b[0;32mif\u001b[0m \u001b[0mtimeout\u001b[0m \u001b[0;32mis\u001b[0m \u001b[0;32mNone\u001b[0m\u001b[0;34m:\u001b[0m\u001b[0;34m\u001b[0m\u001b[0;34m\u001b[0m\u001b[0m\n\u001b[0;32m--> 302\u001b[0;31m                 \u001b[0mwaiter\u001b[0m\u001b[0;34m.\u001b[0m\u001b[0macquire\u001b[0m\u001b[0;34m(\u001b[0m\u001b[0;34m)\u001b[0m\u001b[0;34m\u001b[0m\u001b[0;34m\u001b[0m\u001b[0m\n\u001b[0m\u001b[1;32m    303\u001b[0m                 \u001b[0mgotit\u001b[0m \u001b[0;34m=\u001b[0m \u001b[0;32mTrue\u001b[0m\u001b[0;34m\u001b[0m\u001b[0;34m\u001b[0m\u001b[0m\n\u001b[1;32m    304\u001b[0m             \u001b[0;32melse\u001b[0m\u001b[0;34m:\u001b[0m\u001b[0;34m\u001b[0m\u001b[0;34m\u001b[0m\u001b[0m\n",
      "\u001b[0;31mKeyboardInterrupt\u001b[0m: "
     ]
    }
   ],
   "source": [
    "import sys, os\n",
    "sys.path.append(os.path.expanduser('~/Project/source'))\n",
    "#\n",
    "import numpy as np\n",
    "import importlib, os, hashlib, json, copy, time\n",
    "from quick_sim import setup_sim\n",
    "from sus.protocol_designer import System, Protocol, Potential, Compound_Protocol\n",
    "from sus.protocol_designer.protocol import sequential_protocol\n",
    "from edward_tools import coupled_fq_protocol_library, cfq_runner\n",
    "from edward_tools.coupled_fq_potential import coupled_flux_qubit_pot, coupled_flux_qubit_force, coupled_fq_pot\n",
    "import edward_tools.cfq_batch_sweep as cfq_batch_sweep\n",
    "from edward_tools.visualization import animate_sim_flux_qubit\n",
    "import kyle_tools as kt\n",
    "import matplotlib.pyplot as plt\n",
    "from PARAMETER_INPUT import *\n",
    "from PARAMETER_INPUT import _lambda, _theta, _eta\n",
    "import edward_tools.visualization as visualization\n",
    "import matplotlib.animation as animation\n",
    "\n",
    "class NumpyArrayEncoder(json.JSONEncoder):\n",
    "    def default(self, obj):\n",
    "        if isinstance(obj, np.ndarray):\n",
    "            return obj.tolist()\n",
    "        return json.JSONEncoder.default(self, obj)\n",
    "\n",
    "create_simple_protocol_parameter_dict = coupled_fq_protocol_library.create_simple_protocol_parameter_dict\n",
    "create_system_from_storage_and_computation_protocol = coupled_fq_protocol_library.create_system_from_storage_and_computation_protocol\n",
    "create_system = coupled_fq_protocol_library.create_system\n",
    "\n",
    "# print(PHI_0, _lambda, _theta, _eta,)\n",
    "\"\"\"\n",
    "# step 1: Define potential\n",
    "\"\"\"\n",
    "coupled_fq_default_param = [1, 1, 0, 0, 0, 0, 0, 0, 0, 0, 0, 0, 0, x_c0]\n",
    "[phi_1_bound, phi_2_bound, phi_1dc_bound, phi_2dc_bound] = np.array([4, 4, 4, 4])/time_scale_factor\n",
    "\n",
    "coupled_fq_domain = [[-phi_1_bound, -phi_2_bound, -phi_1dc_bound, -phi_2dc_bound], \\\n",
    "                     [phi_1_bound, phi_2_bound, phi_1dc_bound, phi_2dc_bound]]\n",
    "\n",
    "coupled_fq_pot = Potential(coupled_flux_qubit_pot, coupled_flux_qubit_force, 14, 4,\\\n",
    "                           default_params = coupled_fq_default_param,  relevant_domain = coupled_fq_domain)\n",
    "\n",
    "\"\"\"\n",
    "# step 2: Define initial condition and protocol\n",
    "\"\"\"\n",
    "manual_domain=[np.array([-5, -5]), np.array([5, 5])]\n",
    "# phi_1_dcx, phi_2_dcx = 3, 3\n",
    "phi_1_dcx, phi_2_dcx = 0, 0\n",
    "phi_1_dc, phi_2_dc = phi_1_dcx, phi_2_dcx\n",
    "\n",
    "# gamma, beta_1, beta_2 = 0, 0, 0\n",
    "gamma = 20\n",
    "# d_beta_1, d_beta_2 = 0.6, 0.6\n",
    "d_beta_1, d_beta_2 = 0, 0\n",
    "params['sim_params'] = [_lambda, _theta, _eta]\n",
    "\n",
    "N =  params['N'] = 5_00\n",
    "params['dt'] = 1/1_00\n",
    "params[\"comment\"] = \"test_subdivide_N\"\n",
    "\n",
    "max_n_per_batch = 1_00\n",
    "batch_list = []\n",
    "\n",
    "while N > max_n_per_batch:\n",
    "    batch_list.append(max_n_per_batch)\n",
    "    N -= max_n_per_batch\n",
    "batch_list.append(N)\n",
    "\n",
    "initial_parameter_dict = {\n",
    "        \"U0_1\": U0_1,     \"U0_2\": U0_2,     \"gamma_1\": gamma,  \"gamma_2\": gamma,\n",
    "        \"beta_1\": beta_1,   \"beta_2\": beta_2,   \"d_beta_1\": d_beta_1 ,   \"d_beta_2\": d_beta_2,\n",
    "        \"phi_1_x\": 0,  \"phi_2_x\": 0,  \"phi_1_dcx\": phi_1_dcx,  \"phi_2_dcx\": phi_2_dcx,\n",
    "        \"M_12\": 0, 'x_c': x_c\n",
    "}\n",
    "\n",
    "protocol_list = [\n",
    "    {\n",
    "        \"duration\": 10/time_scale_factor , \"phi_2_dcx\": 3/time_scale_factor, \"name\": \"mix in y direction\"\n",
    "    },\n",
    "\n",
    "    {\"duration\": 18/time_scale_factor, \"M_12\": -0.9, \"name\": \"conditional tilt\"}, # conditional tilt\n",
    "\n",
    "    {\"duration\": 16/time_scale_factor, \"phi_2_dcx\": 0, \"name\": \"raise the barrier\"}, # raise the barrier\n",
    "\n",
    "    {\"duration\": 12/time_scale_factor, \"phi_1_dcx\": 3/time_scale_factor, \"name\": \"mix in x direction\"}, # mix in x direction\n",
    "\n",
    "    {\"duration\": 50/time_scale_factor, \"phi_1_dcx\": 0, \"M_12\": 0, \"name\": \"4 well potential \"}, # 4 well potential\n",
    "]\n",
    "\"\"\"\n",
    "# step 3: create the relevant storage protocol and computation protocol\n",
    "\"\"\"\n",
    "\n",
    "# check if the simulation is a sweep or not\n",
    "def multiprocessing_worker_function(_N):\n",
    "    # print(protocol_list)\n",
    "    _params = copy.deepcopy(params)\n",
    "    _params[\"N\"] = _N\n",
    "    computation_protocol_parameter_dict = coupled_fq_protocol_library.customizedProtocol(initial_parameter_dict, protocol_list)\n",
    "    storage_protocol, comp_protocol = create_system(computation_protocol_parameter_dict)\n",
    "\n",
    "    \"\"\"\n",
    "    # step 4: create the coupled_fq_runner\n",
    "    \"\"\"\n",
    "    cfqr = cfq_runner.coupledFluxQubitRunner(potential = coupled_fq_pot, params = _params, storage_protocol= storage_protocol, computation_protocol= comp_protocol)\n",
    "    cfqr.initialize_sim()\n",
    "    cfqr.set_sim_attributes()\n",
    "    init_state_saved = cfqr.init_state\n",
    "\n",
    "    \"\"\"\n",
    "    step 5: Run sweep simulation in parallel\n",
    "    \"\"\"\n",
    "    manual_domain=[np.array([-5, -5])/time_scale_factor, np.array([5, 5])/time_scale_factor]\n",
    "    params['sim_params'] = [_lambda, _theta, _eta]\n",
    "\n",
    "    \"\"\"\n",
    "    step 5a: single simulation\n",
    "    \"\"\"\n",
    "    simResult = cfq_batch_sweep.simulateSingleCoupledFluxQubit(_params, initial_parameter_dict, protocol_list, initial_state = init_state_saved, manual_domain = manual_domain, phi_1_dcx = phi_1_dcx,  phi_2_dcx = phi_2_dcx, frameRate = -1)\n",
    "    #\n",
    "    # cfqr = simResult[\"cfqr\"]\n",
    "    # cfq_batch_sweep.saveSimulationResult(simResult, U0_1, timeOrStep = 'step', save = True)\n",
    "    # simResult[\"cfqr\"] = 0\n",
    "    simResult[\"ani\"] = 0\n",
    "\n",
    "\n",
    "\n",
    "    return simResult\n",
    "\n",
    "from multiprocessing import Process, Pool\n",
    "if __name__ == \"__main__\":  # confirms that the code is under main function\n",
    "    p = Pool(processes=len(batch_list))\n",
    "    dataArray = p.map(multiprocessing_worker_function, batch_list)\n",
    "    p.close()\n",
    "    print(\"finish all\")\n",
    "    print(dataArray)\n",
    "\n",
    "    parameterArray = np.array([item[\"params\"] for item in dataArray])\n",
    "    np.save(\"parameterArray.npy\", parameterArray)\n",
    "\n",
    "    # new simualtion data\n",
    "    new_simulation_id = hashlib.sha256(bytes(str(time.time()), encoding='utf8')).hexdigest()\n",
    "    simulation_data = dataArray[0][\"simulation_data\"]\n",
    "    simulation_data[\"simulation_id\"] = new_simulation_id\n",
    "    simulation_data[\"simulation_date\"] = str(simulation_data[\"simulation_date\"])\n",
    "\n",
    "    n_array = np.array([len(item[\"work_distribution\"]) for item in dataArray])\n",
    "    total_N = np.sum(n_array)\n",
    "\n",
    "\n",
    "\n",
    "    # combine animation\n",
    "    ani_max_N = 10000\n",
    "    if total_N < ani_max_N:\n",
    "        sampleNumber = n_array\n",
    "    else:\n",
    "        sampleNumber = n_array / total_N * ani_max_N\n",
    "\n",
    "    sampleRatio = np.repeat(1, len(n_array))\n",
    "    sampleTrajectoryArray = [data[\"cfqr\"].sim.output.all_state[\"states\"] for data in dataArray]\n",
    "    trajectoryNumber = np.array([len(_t) for _t in sampleTrajectoryArray])\n",
    "    sampleNumber = trajectoryNumber * sampleRatio\n",
    "    sampleIndexArray = [np.random.randint(int(tn), size=int(sn)) for tn, sn in zip(trajectoryNumber, sampleNumber)]\n",
    "\n",
    "    allSampleTrajectory = np.concatenate(sampleTrajectoryArray)\n",
    "\n",
    "    # animations\n",
    "    vmin, vmax = 0, 100\n",
    "    frameRate = 10\n",
    "\n",
    "    manual_domain=[[-5, -5], [5, 5]]\n",
    "    time_range = [0, np.sum([item[\"duration\"] for item in dataArray[0][\"protocol_list_item\"]])]\n",
    "    cfqr = dataArray[0][\"cfqr\"]\n",
    "\n",
    "    ani,_,_ = visualization.animate_sim_flux_qubit(allSampleTrajectory, system = cfqr.system ,\n",
    "                        times = time_range, frame_skip=frameRate, color_by_state=True,\n",
    "                                                       vmin = vmin, vmax = vmax,\n",
    "                                                       manual_domain = manual_domain)\n",
    "\n",
    "    FFwriter = animation.FFMpegWriter(fps=10)\n",
    "\n",
    "    # video = ani.to_html5_video()\n",
    "    # html = display.HTML(video)\n",
    "    # display.display(html)\n",
    "\n",
    "    ani.save(f'coupled_flux_qubit_protocol/coupled_flux_qubit_data_gallery/{new_simulation_id}_szilard_engine.mp4', writer = FFwriter)\n",
    "    # simResult[\"ani\"].save(f'coupled_flux_qubit_protocol/coupled_flux_qubit_data_gallery/{simResult[\"simulation_data\"][\"simulation_id\"]}_szilard_engine.mp4', writer = FFwriter)\n",
    "\n",
    "    work_distribution_array =  [item[\"work_distribution\"] for item in dataArray]\n",
    "    [np.save(f\"work_distribution_{i}.npy\", wd) for i, wd in enumerate(work_distribution_array)]\n",
    "\n",
    "    combinedWorkDistributionArray = np.concatenate(work_distribution_array)\n",
    "    np.save(\"combinedWorkDistributionArray.npy\", combinedWorkDistributionArray)\n",
    "\n",
    "    # *** jarzynski_term ***\n",
    "    new_jarzynski_term = np.mean(np.exp(-combinedWorkDistributionArray))\n",
    "\n",
    "    # save figure\n",
    "    fig, ax = plt.subplots(figsize=(10, 7))\n",
    "    ax.hist(combinedWorkDistributionArray, bins = 30)\n",
    "    props = dict(boxstyle='round', facecolor='wheat', alpha=0.5)\n",
    "    ax.text(0.05, 0.95, f\"Jarzyn: {new_jarzynski_term: .3g}\", transform=ax.transAxes, fontsize=14, verticalalignment='top',bbox=props)\n",
    "    # plt.hist(work_distribution)\n",
    "    # if save:\n",
    "        # np.save(f'coupled_flux_qubit_protocol/coupled_flux_qubit_data_gallery/{new_simulation_id}_work_distribution.npy', work_distribution)\n",
    "    plt.savefig(f'coupled_flux_qubit_protocol/coupled_flux_qubit_data_gallery/{new_simulation_id}_work_distribution.png')\n",
    "\n",
    "    # *** work statistics ***\n",
    "    work_statistic_array =  np.array([item[\"work_statistic\"]  for item in dataArray])\n",
    "    [np.save(f\"work_statistic_{i}.npy\", ws) for i, ws in enumerate(work_statistic_array)]"
   ]
  },
  {
   "cell_type": "code",
   "execution_count": 60,
   "id": "a6ff1f75",
   "metadata": {},
   "outputs": [],
   "source": [
    "import numpy as np\n",
    "n_array = np.array([100, 100, 100, 100, 100] )\n",
    "total_N = np.sum(n_array)"
   ]
  },
  {
   "cell_type": "code",
   "execution_count": 61,
   "id": "0b6a5277",
   "metadata": {},
   "outputs": [],
   "source": [
    "ratio_array = n_array / total_N\n",
    "# ratio_array_n_by_2 = np.concatenate([ratio_array, ratio_array], axis = 1)"
   ]
  },
  {
   "cell_type": "code",
   "execution_count": 65,
   "id": "619455f8",
   "metadata": {},
   "outputs": [],
   "source": [
    "randomArray = np.random.rand(5, 10, 2)"
   ]
  },
  {
   "cell_type": "code",
   "execution_count": 67,
   "id": "62997536",
   "metadata": {},
   "outputs": [
    {
     "name": "stdout",
     "output_type": "stream",
     "text": [
      "(0, (0.2, array([[0.82302088, 0.37792811],\n",
      "       [0.74323094, 0.67941961],\n",
      "       [0.65243223, 0.62895429],\n",
      "       [0.87862748, 0.5830489 ],\n",
      "       [0.26722581, 0.02221184],\n",
      "       [0.15070991, 0.39683946],\n",
      "       [0.37307021, 0.88750885],\n",
      "       [0.99548891, 0.84159908],\n",
      "       [0.50615261, 0.79539292],\n",
      "       [0.40791089, 0.26690216]])))\n",
      "(1, (0.2, array([[0.89063073, 0.40475457],\n",
      "       [0.66734177, 0.42056628],\n",
      "       [0.48615172, 0.26473204],\n",
      "       [0.66329613, 0.2524    ],\n",
      "       [0.04438459, 0.54642439],\n",
      "       [0.20692022, 0.30226253],\n",
      "       [0.67789106, 0.46103   ],\n",
      "       [0.58911298, 0.87573684],\n",
      "       [0.87045144, 0.48951049],\n",
      "       [0.04214462, 0.65507193]])))\n",
      "(2, (0.2, array([[0.29345633, 0.2983669 ],\n",
      "       [0.10941158, 0.25864589],\n",
      "       [0.11627458, 0.86697051],\n",
      "       [0.06004838, 0.89951133],\n",
      "       [0.60900275, 0.29980687],\n",
      "       [0.35945286, 0.78471413],\n",
      "       [0.93041229, 0.57578095],\n",
      "       [0.01632424, 0.4869603 ],\n",
      "       [0.35312515, 0.36824641],\n",
      "       [0.25438555, 0.85604597]])))\n",
      "(3, (0.2, array([[0.14056927, 0.89570897],\n",
      "       [0.81584967, 0.9354692 ],\n",
      "       [0.74938816, 0.11111864],\n",
      "       [0.66834996, 0.35603015],\n",
      "       [0.61070208, 0.65344613],\n",
      "       [0.97877816, 0.64847675],\n",
      "       [0.27761706, 0.39218144],\n",
      "       [0.46520528, 0.10677374],\n",
      "       [0.94878877, 0.59333442],\n",
      "       [0.79961367, 0.11012566]])))\n",
      "(4, (0.2, array([[0.75375988, 0.27201798],\n",
      "       [0.08994623, 0.34413099],\n",
      "       [0.2886885 , 0.4297675 ],\n",
      "       [0.17354851, 0.63867585],\n",
      "       [0.39249173, 0.61661811],\n",
      "       [0.59396852, 0.43169017],\n",
      "       [0.09962112, 0.73082555],\n",
      "       [0.25906019, 0.59396392],\n",
      "       [0.15689158, 0.78929166],\n",
      "       [0.65264024, 0.29995631]])))\n"
     ]
    }
   ],
   "source": [
    "for r in zip(ratio_array, randomArray):\n",
    "    \n",
    "    print(r)"
   ]
  },
  {
   "cell_type": "code",
   "execution_count": 58,
   "id": "7e285204",
   "metadata": {},
   "outputs": [
    {
     "data": {
      "text/plain": [
       "5"
      ]
     },
     "execution_count": 58,
     "metadata": {},
     "output_type": "execute_result"
    }
   ],
   "source": [
    "dataArray.shape[0]"
   ]
  },
  {
   "cell_type": "code",
   "execution_count": 69,
   "id": "cb79a522",
   "metadata": {},
   "outputs": [
    {
     "data": {
      "text/plain": [
       "array([[0.2, 0.2],\n",
       "       [0.2, 0.2],\n",
       "       [0.2, 0.2],\n",
       "       [0.2, 0.2],\n",
       "       [0.2, 0.2]])"
      ]
     },
     "execution_count": 69,
     "metadata": {},
     "output_type": "execute_result"
    }
   ],
   "source": [
    "ratio_array_n_by_2"
   ]
  },
  {
   "cell_type": "code",
   "execution_count": 72,
   "id": "48dffdb7",
   "metadata": {},
   "outputs": [],
   "source": [
    "randomArray = np.random.rand(5, 10, 2)"
   ]
  },
  {
   "cell_type": "code",
   "execution_count": 76,
   "id": "296b12f7",
   "metadata": {},
   "outputs": [],
   "source": [
    "weightedArray = [np.multiply(item,  r)  for r, item in zip(ratio_array, randomArray)]"
   ]
  },
  {
   "cell_type": "code",
   "execution_count": 81,
   "id": "2c958c87",
   "metadata": {},
   "outputs": [
    {
     "data": {
      "text/plain": [
       "[array([[0.07366666, 0.09857044],\n",
       "        [0.06948778, 0.1969857 ],\n",
       "        [0.16301708, 0.07239084],\n",
       "        [0.18795541, 0.12471493],\n",
       "        [0.10681681, 0.18938969],\n",
       "        [0.08332576, 0.18440712],\n",
       "        [0.1651833 , 0.14073937],\n",
       "        [0.08865421, 0.0611399 ],\n",
       "        [0.14838349, 0.1089557 ],\n",
       "        [0.07523064, 0.15465027]]),\n",
       " array([[0.03395744, 0.19815035],\n",
       "        [0.17919476, 0.08097432],\n",
       "        [0.03148991, 0.1368209 ],\n",
       "        [0.01750354, 0.01709535],\n",
       "        [0.01626561, 0.05911781],\n",
       "        [0.16123882, 0.04369223],\n",
       "        [0.08557889, 0.07902533],\n",
       "        [0.02480763, 0.08064676],\n",
       "        [0.11390643, 0.08049003],\n",
       "        [0.12375822, 0.18368592]]),\n",
       " array([[0.14658694, 0.03574438],\n",
       "        [0.1937319 , 0.10601792],\n",
       "        [0.01943927, 0.00481311],\n",
       "        [0.09637938, 0.00039337],\n",
       "        [0.00129655, 0.05130162],\n",
       "        [0.00620846, 0.17746323],\n",
       "        [0.03869769, 0.09279964],\n",
       "        [0.10827713, 0.06017768],\n",
       "        [0.19426706, 0.13737161],\n",
       "        [0.00297996, 0.15439897]]),\n",
       " array([[0.08973649, 0.04618045],\n",
       "        [0.07986688, 0.00535705],\n",
       "        [0.03840537, 0.09676568],\n",
       "        [0.05320405, 0.08265651],\n",
       "        [0.07245357, 0.10337445],\n",
       "        [0.18500114, 0.12503317],\n",
       "        [0.07358027, 0.16433593],\n",
       "        [0.18071683, 0.07957495],\n",
       "        [0.0150742 , 0.01629568],\n",
       "        [0.0218596 , 0.11850462]]),\n",
       " array([[0.09906257, 0.13746999],\n",
       "        [0.05114214, 0.13327604],\n",
       "        [0.09291986, 0.0711121 ],\n",
       "        [0.14592979, 0.09452991],\n",
       "        [0.06104347, 0.12320479],\n",
       "        [0.07288705, 0.07989398],\n",
       "        [0.05336451, 0.13869984],\n",
       "        [0.03110716, 0.00828763],\n",
       "        [0.06845541, 0.10744351],\n",
       "        [0.11877537, 0.00785496]])]"
      ]
     },
     "execution_count": 81,
     "metadata": {},
     "output_type": "execute_result"
    }
   ],
   "source": [
    "weightedArray"
   ]
  },
  {
   "cell_type": "code",
   "execution_count": 79,
   "id": "cc9e2a87",
   "metadata": {},
   "outputs": [
    {
     "data": {
      "text/plain": [
       "array([[0.4430101 , 0.51611561],\n",
       "       [0.57342347, 0.52261103],\n",
       "       [0.34527148, 0.38190263],\n",
       "       [0.50097217, 0.31939006],\n",
       "       [0.25787602, 0.52638837],\n",
       "       [0.50866123, 0.61048973],\n",
       "       [0.41640465, 0.61560012],\n",
       "       [0.43356296, 0.28982692],\n",
       "       [0.5400866 , 0.45055654],\n",
       "       [0.34260379, 0.61909474]])"
      ]
     },
     "execution_count": 79,
     "metadata": {},
     "output_type": "execute_result"
    }
   ],
   "source": [
    "np.sum(weightedArray, axis = 0)"
   ]
  },
  {
   "cell_type": "code",
   "execution_count": 75,
   "id": "0cfc6823",
   "metadata": {},
   "outputs": [
    {
     "data": {
      "text/plain": [
       "array([[1.16172115, 1.33194396],\n",
       "       [0.78770125, 0.959699  ],\n",
       "       [0.80786435, 0.82048152],\n",
       "       [0.80989839, 0.83807848],\n",
       "       [0.79468734, 0.90177276]])"
      ]
     },
     "execution_count": 75,
     "metadata": {},
     "output_type": "execute_result"
    }
   ],
   "source": [
    "\n",
    "np.sum([np.multiply(item,  r)  for r, item in zip(ratio_array, randomArray)], axis = 1)"
   ]
  },
  {
   "cell_type": "code",
   "execution_count": 24,
   "id": "be0492c1",
   "metadata": {},
   "outputs": [
    {
     "data": {
      "text/plain": [
       "array([0.2, 0.2, 0.2, 0.2, 0.2])"
      ]
     },
     "execution_count": 24,
     "metadata": {},
     "output_type": "execute_result"
    }
   ],
   "source": [
    "ratio"
   ]
  },
  {
   "cell_type": "code",
   "execution_count": 28,
   "id": "ef997bdd",
   "metadata": {
    "scrolled": false
   },
   "outputs": [
    {
     "name": "stderr",
     "output_type": "stream",
     "text": [
      "<ipython-input-28-e1f79c12c1fb>:2: VisibleDeprecationWarning: Creating an ndarray from ragged nested sequences (which is a list-or-tuple of lists-or-tuples-or ndarrays with different lengths or shapes) is deprecated. If you meant to do this, you must specify 'dtype=object' when creating the ndarray.\n",
      "  [np.multiply(item,  r)  for r, item in enumerate(zip(ratio, np.random.rand(5, 10, 2)))]\n"
     ]
    },
    {
     "data": {
      "text/plain": [
       "[array([0.0, array([[0., 0.],\n",
       "                    [0., 0.],\n",
       "                    [0., 0.],\n",
       "                    [0., 0.],\n",
       "                    [0., 0.],\n",
       "                    [0., 0.],\n",
       "                    [0., 0.],\n",
       "                    [0., 0.],\n",
       "                    [0., 0.],\n",
       "                    [0., 0.]])], dtype=object),\n",
       " array([0.2, array([[0.37171702, 0.6134067 ],\n",
       "                    [0.68737951, 0.96174691],\n",
       "                    [0.33428527, 0.72817671],\n",
       "                    [0.16016573, 0.67197895],\n",
       "                    [0.87761866, 0.123189  ],\n",
       "                    [0.37640925, 0.98097873],\n",
       "                    [0.75657258, 0.25864431],\n",
       "                    [0.13072283, 0.25523755],\n",
       "                    [0.0250623 , 0.33669778],\n",
       "                    [0.37221785, 0.18202753]])], dtype=object),\n",
       " array([0.4, array([[0.39831568, 0.22338926],\n",
       "                    [0.1229712 , 1.95080785],\n",
       "                    [1.38680192, 1.55109812],\n",
       "                    [1.45513283, 1.59065577],\n",
       "                    [0.77119477, 1.08785263],\n",
       "                    [0.86169093, 1.4019207 ],\n",
       "                    [1.80693243, 1.68269329],\n",
       "                    [0.24229742, 0.90687153],\n",
       "                    [1.02031013, 0.78353115],\n",
       "                    [1.1025448 , 0.86429812]])], dtype=object),\n",
       " array([0.6000000000000001, array([[2.39584788, 2.57127312],\n",
       "                                   [2.56792958, 0.48872764],\n",
       "                                   [2.12561876, 0.07429063],\n",
       "                                   [0.23099001, 1.28630257],\n",
       "                                   [1.05611099, 2.38795549],\n",
       "                                   [2.33218593, 0.35037378],\n",
       "                                   [2.10237275, 2.72176515],\n",
       "                                   [0.16607112, 2.68343507],\n",
       "                                   [1.77812251, 0.59642614],\n",
       "                                   [1.92945366, 0.30082031]])],\n",
       "       dtype=object),\n",
       " array([0.8, array([[3.36680833, 0.8237293 ],\n",
       "                    [3.18055003, 1.11743718],\n",
       "                    [0.90321146, 3.37542408],\n",
       "                    [1.2706165 , 2.59791336],\n",
       "                    [1.43533984, 0.92862283],\n",
       "                    [0.88325506, 3.72559542],\n",
       "                    [3.06322811, 3.76982008],\n",
       "                    [0.0448595 , 2.65929832],\n",
       "                    [1.69941885, 2.85839529],\n",
       "                    [2.4029239 , 2.09403565]])], dtype=object)]"
      ]
     },
     "execution_count": 28,
     "metadata": {},
     "output_type": "execute_result"
    }
   ],
   "source": [
    "ratio = n_array / total_N\n",
    "[np.multiply(item,  r)  for r, item in enumerate(zip(ratio, np.random.rand(5, 10, 2)))]"
   ]
  },
  {
   "cell_type": "code",
   "execution_count": 14,
   "id": "b905c3f5",
   "metadata": {},
   "outputs": [
    {
     "data": {
      "text/plain": [
       "array([[[0.85400075, 0.78634171],\n",
       "        [0.45509725, 0.63652105],\n",
       "        [0.8913475 , 0.11527186],\n",
       "        [0.58285505, 0.64004218],\n",
       "        [0.89867315, 0.3880855 ],\n",
       "        [0.61098873, 0.98322279],\n",
       "        [0.52289958, 0.01419751],\n",
       "        [0.12435054, 0.56492711],\n",
       "        [0.95748913, 0.30056516],\n",
       "        [0.14160116, 0.5954643 ]],\n",
       "\n",
       "       [[0.9886705 , 0.27406434],\n",
       "        [0.26690382, 0.24357805],\n",
       "        [0.12867269, 0.5128755 ],\n",
       "        [0.9763045 , 0.98164568],\n",
       "        [0.69859437, 0.69141897],\n",
       "        [0.18397591, 0.13360821],\n",
       "        [0.80975274, 0.12256251],\n",
       "        [0.87565934, 0.62978503],\n",
       "        [0.54791902, 0.78630903],\n",
       "        [0.15855284, 0.28962583]],\n",
       "\n",
       "       [[0.87500189, 0.09042574],\n",
       "        [0.18498994, 0.10896876],\n",
       "        [0.68003709, 0.07863994],\n",
       "        [0.19250184, 0.27676071],\n",
       "        [0.55200821, 0.67178085],\n",
       "        [0.60017292, 0.2017931 ],\n",
       "        [0.86787603, 0.67617656],\n",
       "        [0.60895787, 0.0779123 ],\n",
       "        [0.98742463, 0.69033407],\n",
       "        [0.02936033, 0.25891303]],\n",
       "\n",
       "       [[0.17815284, 0.5204937 ],\n",
       "        [0.27468926, 0.85023274],\n",
       "        [0.84675855, 0.72335334],\n",
       "        [0.98920538, 0.41561613],\n",
       "        [0.09704977, 0.57801331],\n",
       "        [0.2153392 , 0.92944404],\n",
       "        [0.23770887, 0.49672705],\n",
       "        [0.03386209, 0.87438834],\n",
       "        [0.11313209, 0.57719883],\n",
       "        [0.63194218, 0.95960213]],\n",
       "\n",
       "       [[0.51631186, 0.12971728],\n",
       "        [0.63744073, 0.83038768],\n",
       "        [0.24773346, 0.03142493],\n",
       "        [0.76372588, 0.99448484],\n",
       "        [0.03884275, 0.84161591],\n",
       "        [0.43818086, 0.91000307],\n",
       "        [0.39332923, 0.73095811],\n",
       "        [0.0124697 , 0.43097875],\n",
       "        [0.25066618, 0.14249308],\n",
       "        [0.22213802, 0.00970582]]])"
      ]
     },
     "execution_count": 14,
     "metadata": {},
     "output_type": "execute_result"
    }
   ],
   "source": [
    "np.random.rand(5, 10, 2)"
   ]
  },
  {
   "cell_type": "code",
   "execution_count": 2,
   "id": "2fd1114c",
   "metadata": {},
   "outputs": [],
   "source": [
    "import os"
   ]
  },
  {
   "cell_type": "markdown",
   "id": "5a90acc0",
   "metadata": {},
   "source": [
    "# upload file to server through ssh"
   ]
  },
  {
   "cell_type": "code",
   "execution_count": 114,
   "id": "8df29e22",
   "metadata": {},
   "outputs": [],
   "source": [
    "fileNameArray = [\n",
    "#                  \"coupled_flux_qubit_protocol/coupled_flux_qubit_data_gallery/6ba93082ae3f794e8e44ec11a9d40878e864e525dd9732ac9fda2337f3c7f8c1_final_state.npy\",\n",
    "#                 \"parallel_cfqr_parameter_sweep.py\",\n",
    "                \"parallel_cfqr_N_subdivide.py\",\n",
    "                \"PARAMETER_INPUT.py\",\n",
    "#                 \"edward_tools/cfq_batch_sweep.py\"\n",
    "]\n",
    "\n",
    "for fileName in fileNameArray:\n",
    "    command = f\"scp /Users/edwardtang/Project/source/{fileName} tkwtang@mothra.csc.ucdavis.edu:source/{fileName}\"\n",
    "    os.system(command)"
   ]
  },
  {
   "cell_type": "markdown",
   "id": "71bf8023",
   "metadata": {},
   "source": [
    "## zip data of the gallery"
   ]
  },
  {
   "cell_type": "code",
   "execution_count": 3,
   "id": "d573b502",
   "metadata": {},
   "outputs": [
    {
     "data": {
      "text/plain": [
       "65280"
      ]
     },
     "execution_count": 3,
     "metadata": {},
     "output_type": "execute_result"
    }
   ],
   "source": [
    "command = f\"ssh -t Mothra 'cd source; bash -s zip_data.sh'\"\n",
    "os.system(command)"
   ]
  },
  {
   "cell_type": "markdown",
   "id": "ace03511",
   "metadata": {},
   "source": [
    "## update the local machine gallery"
   ]
  },
  {
   "cell_type": "code",
   "execution_count": 5,
   "id": "d93bd2e3",
   "metadata": {},
   "outputs": [
    {
     "data": {
      "text/plain": [
       "0"
      ]
     },
     "execution_count": 5,
     "metadata": {},
     "output_type": "execute_result"
    }
   ],
   "source": [
    "command = f\"python update_gallery.py\"\n",
    "os.system(command)"
   ]
  },
  {
   "cell_type": "code",
   "execution_count": null,
   "id": "282761be",
   "metadata": {},
   "outputs": [],
   "source": []
  }
 ],
 "metadata": {
  "interpreter": {
   "hash": "c48eea1d6fe0303de93a25029b75a26fa311fe2cfce1f013702fed1a8d75264d"
  },
  "kernelspec": {
   "display_name": "Python 3",
   "language": "python",
   "name": "python3"
  },
  "language_info": {
   "codemirror_mode": {
    "name": "ipython",
    "version": 3
   },
   "file_extension": ".py",
   "mimetype": "text/x-python",
   "name": "python",
   "nbconvert_exporter": "python",
   "pygments_lexer": "ipython3",
   "version": "3.8.5"
  }
 },
 "nbformat": 4,
 "nbformat_minor": 5
}
