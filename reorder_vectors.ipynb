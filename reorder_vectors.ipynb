{
 "cells": [
  {
   "cell_type": "code",
   "execution_count": 19,
   "id": "33090c6e-f47d-48b1-9a49-03a087c0bee9",
   "metadata": {},
   "outputs": [],
   "source": [
    "import numpy as np\n",
    "from sus.protocol_designer import System, Protocol, Potential, Compound_Protocol\n",
    "from sus.protocol_designer.protocol import sequential_protocol\n",
    "from IPython import display\n",
    "from IPython.display import HTML\n",
    "from quick_sim import setup_sim\n",
    "from edward_tools.coupled_fq_potential import coupled_flux_qubit_pot, coupled_flux_qubit_force, coupled_fq_pot\n",
    "import edward_tools.fq_runner as fq_runner\n",
    "from edward_tools.visualization import animate_sim_flux_qubit\n",
    "from edward_tools.initial_state_sampling import extra_constraint_00_and_11_only\n",
    "from PARAMETER_INPUT import *\n",
    "from PARAMETER_INPUT import _lambda, _theta, _eta\n",
    "\n",
    "\n",
    "import kyle_tools as kt\n",
    "import matplotlib.pyplot as plt\n",
    "\n",
    "import importlib, os, datetime\n",
    "from edward_tools import coupled_fq_protocol_library, cfq_runner\n",
    "from edward_tools import coupled_fq_protocol_library\n",
    "import edward_tools.cfq_batch_sweep as cfq_batch_sweep\n",
    "\n",
    "coupled_fq_protocol_library = importlib.reload(coupled_fq_protocol_library)\n",
    "create_system = coupled_fq_protocol_library.create_system\n",
    "get_potential_shot_at_different_t = coupled_fq_protocol_library.get_potential_shot_at_different_t\n",
    "get_potential_shot_at_different_t_1D = coupled_fq_protocol_library.get_potential_shot_at_different_t_1D\n",
    "create_simple_protocol_parameter_dict = coupled_fq_protocol_library.create_simple_protocol_parameter_dict\n",
    "coupled_fq_runner = importlib.reload(cfq_runner)\n",
    "coupled_fq_protocol_library = importlib.reload(coupled_fq_protocol_library)\n",
    "create_system = coupled_fq_protocol_library.create_system\n"
   ]
  },
  {
   "cell_type": "code",
   "execution_count": 2,
   "id": "60061294-95f2-41e5-ae55-b60b3b38291f",
   "metadata": {},
   "outputs": [],
   "source": [
    "# 4. Szilard engine test"
   ]
  },
  {
   "cell_type": "code",
   "execution_count": null,
   "id": "f86e6245-d6b7-4b24-9695-9a8f3e3c4bd8",
   "metadata": {},
   "outputs": [],
   "source": []
  },
  {
   "cell_type": "code",
   "execution_count": null,
   "id": "05c22db9-5450-4029-bf4e-43702098ba70",
   "metadata": {},
   "outputs": [],
   "source": []
  },
  {
   "cell_type": "code",
   "execution_count": 3,
   "id": "62e71d79-b271-4a79-81dc-c723492da5de",
   "metadata": {},
   "outputs": [],
   "source": [
    "_lambda = np.array([lambda_1, lambda_2, lambda_3, lambda_4])\n",
    "_theta  = np.array([theta_1, theta_2, theta_3, theta_4])\n",
    "_eta  =   np.array([eta_1, eta_2, eta_3, eta_4])"
   ]
  },
  {
   "cell_type": "code",
   "execution_count": 4,
   "id": "133f1439-aa2f-48ff-9aa2-eba3ba195938",
   "metadata": {},
   "outputs": [],
   "source": [
    "\"\"\"\n",
    "# step 0: modify parameters\n",
    "- All the parameters are stored in a separate file PARAMETER_INPUT\n",
    "- You can override some of the parameters here.\n",
    "\"\"\"\n",
    "params = {}\n",
    "params['N'] = 10_000\n",
    "params['dt'] = 1/1_000\n",
    "params['lambda'] = 1\n",
    "params['beta'] = 1\n",
    "params['sim_params'] = [_lambda, _theta, _eta]\n",
    "params['target_work'] = None\n",
    "params['comment'] = \"new protocol with varying dt\"\n",
    "\n"
   ]
  },
  {
   "cell_type": "code",
   "execution_count": 5,
   "id": "b12a15af-a4ec-4e36-a8ff-899bbb7df540",
   "metadata": {},
   "outputs": [],
   "source": [
    "\"\"\"\n",
    "# step 1: Define potential\n",
    "\"\"\"\n",
    "coupled_fq_default_param = [1, 1, 0, 0, 0, 0, 0, 0, 0, 0, 0, 0, 0, x_c]\n",
    "[phi_1_bound, phi_2_bound, phi_1dc_bound, phi_2dc_bound] = np.array([4, 4, 4, 4])/time_scale_factor\n",
    "\n",
    "coupled_fq_domain = [[-phi_1_bound, -phi_2_bound, -phi_1dc_bound, -phi_2dc_bound], \\\n",
    "                     [phi_1_bound, phi_2_bound, phi_1dc_bound, phi_2dc_bound]]\n",
    "\n",
    "coupled_fq_pot = Potential(coupled_flux_qubit_pot, coupled_flux_qubit_force, 14, 4,\\\n",
    "                           default_params = coupled_fq_default_param,  relevant_domain = coupled_fq_domain)"
   ]
  },
  {
   "cell_type": "code",
   "execution_count": 6,
   "id": "5c112dc6-adb0-4b14-87e7-fa3cd323b5b8",
   "metadata": {},
   "outputs": [],
   "source": [
    "\"\"\"\n",
    "# step 2: Define initial condition and protocol\n",
    "\"\"\"\n",
    "manual_domain=[np.array([-5, -5]), np.array([5, 5])]\n",
    "# phi_1_dcx, phi_2_dcx = 3, 3\n",
    "phi_1_dcx, phi_2_dcx = 0, 0\n",
    "phi_1_dc, phi_2_dc = phi_1_dcx, phi_2_dcx\n",
    "\n",
    "phi_1_dcx_off = 0\n",
    "phi_2_dcx_off = 0\n",
    "M_12_off = 0\n",
    "\n",
    "# bookmark\n",
    "phi_1_dcx_on = 3.0\n",
    "phi_2_dcx_on = 3.0\n",
    "M_12_on = -0.6\n",
    "\n",
    "initial_parameter_dict = {\n",
    "        \"U0_1\": U0_1,     \"U0_2\": U0_2,     \"gamma_1\": gamma,  \"gamma_2\": gamma,\n",
    "        \"beta_1\": beta_1,   \"beta_2\": beta_2,   \"d_beta_1\": d_beta_1 ,   \"d_beta_2\": d_beta_2,\n",
    "        \"phi_1_x\": 0,  \"phi_2_x\": 0,  \"phi_1_dcx\": phi_1_dcx_off,  \"phi_2_dcx\": phi_1_dcx_off,\n",
    "        \"M_12\": M_12_off, 'x_c': x_c\n",
    "}\n",
    "\n"
   ]
  },
  {
   "cell_type": "code",
   "execution_count": 22,
   "id": "3317f5d6-f643-412f-9de0-09213111380d",
   "metadata": {},
   "outputs": [
    {
     "name": "stdout",
     "output_type": "stream",
     "text": [
      "[array([0.00269542, 0.00269542, 0.00269542, 0.00269542]), array([1., 1., 4., 4.]), array([0.01853177, 0.01853177, 0.01853177, 0.01853177])]\n",
      "3.0 0 0\n",
      "{'duration': 40, 'phi_1_dcx': 0, 'phi_2_dcx': 3.0, 'M_12': 0, 'name': '(1) mix in y direction'}\n",
      "{'duration': 40, 'phi_1_dcx': 0, 'phi_2_dcx': 3.0, 'M_12': -0.6, 'name': '(2) conditional tilt'}\n",
      "{'duration': 40, 'phi_1_dcx': 0, 'phi_2_dcx': 0, 'M_12': -0.6, 'name': '(3) raise the barrier'}\n",
      "{'duration': 40, 'phi_1_dcx': 3.0, 'phi_2_dcx': 0, 'M_12': -0.6, 'name': '(4) conditional tilt in x'}\n",
      "{'duration': 40, 'phi_1_dcx': 3.0, 'phi_2_dcx': 0, 'M_12': 0, 'name': '(5) mix in x direction'}\n",
      "{'duration': 40, 'phi_1_dcx': 0, 'phi_2_dcx': 0, 'M_12': 0, 'name': '(6) 4 well potential'}\n"
     ]
    }
   ],
   "source": [
    "zeroDissipation = False\n",
    "params['sim_params'] = [_lambda, _theta, _eta]\n",
    "if zeroDissipation:\n",
    "    params['sim_params'] = [_lambda * 0, _theta, _eta * 0]\n",
    "\n",
    "\n",
    "\n",
    "\"\"\"\n",
    "1 <-> -1     (0, 0, 0), (0, 3, 0), (0, 0, 0)\n",
    "2 <-> -2     (0, 3, 0), (0, 3, -0.05), (0, 3, 0)\n",
    "3 <-> -3     (0, 3, -0.05), (0, 0, -0.05), (0, 3, -0.05)\n",
    "4 <-> -4     (0, 0, -0.05), (0, 0, 0), (0, 0, -0.05)\n",
    "5 <-> -5     (0, 0, 0), (3, 0, 0), (0, 0, 0)\n",
    "6 <-> -6     (3, 0, 0), (0, 0, 0), (3, 0, 0)\n",
    "\"\"\"\n",
    "TR_initial_condition = [\n",
    "    (phi_1_dcx_off, phi_2_dcx_off, M_12_off), \n",
    "    (phi_1_dcx_off, phi_2_dcx_on,  M_12_off), \n",
    "    (phi_1_dcx_off, phi_2_dcx_on,  M_12_on), \n",
    "    (phi_1_dcx_off, phi_2_dcx_off, M_12_on), \n",
    "    (phi_1_dcx_off, phi_2_dcx_off, M_12_off), \n",
    "    (phi_1_dcx_on,  phi_2_dcx_off, M_12_off)]\n",
    "\n",
    "protocol_index = 0\n",
    "\n",
    "# bookmark\n",
    "# initial_parameter_dict[\"phi_1_dcx\"], initial_parameter_dict[\"phi_2_dcx\"], initial_parameter_dict[\"M_12\"] = TR_initial_condition[protocol_index-1]\n",
    "initial_parameter_dict[\"phi_1_dcx\"], initial_parameter_dict[\"phi_2_dcx\"], initial_parameter_dict[\"M_12\"] = \\\n",
    "TR_initial_condition[5]\n",
    "\n",
    "rest = lambda t: {\"duration\": t, \"name\":\"rest\"}\n",
    "duration_t = 40\n",
    "protocol_list = [\n",
    "    # forward\n",
    "    {\"duration\":duration_t, \"phi_1_dcx\": phi_1_dcx_off, \"phi_2_dcx\": phi_2_dcx_on,  \"M_12\": M_12_off,  \"name\":\"(1) mix in y direction\"},\n",
    "    {\"duration\":duration_t, \"phi_1_dcx\": phi_1_dcx_off, \"phi_2_dcx\": phi_2_dcx_on,  \"M_12\": M_12_on,   \"name\":\"(2) conditional tilt\"},\n",
    "    {\"duration\":duration_t, \"phi_1_dcx\": phi_1_dcx_off, \"phi_2_dcx\": phi_2_dcx_off, \"M_12\": M_12_on,   \"name\":\"(3) raise the barrier\"},\n",
    "    {\"duration\":duration_t, \"phi_1_dcx\": phi_1_dcx_on,  \"phi_2_dcx\": phi_2_dcx_off, \"M_12\": M_12_on,  \"name\": \"(4) conditional tilt in x\"}, \n",
    "    {\"duration\":duration_t, \"phi_1_dcx\": phi_1_dcx_on,  \"phi_2_dcx\": phi_2_dcx_off, \"M_12\": M_12_off,  \"name\":\"(5) mix in x direction\"}, \n",
    "    {\"duration\":duration_t, \"phi_1_dcx\": phi_1_dcx_off, \"phi_2_dcx\": phi_2_dcx_off, \"M_12\": M_12_off,  \"name\":\"(6) 4 well potential\"}, \n",
    "    \n",
    "]\n",
    "\n",
    "# protocol_list = [\n",
    "#     {\"duration\": 40, \"phi_1_dcx\": phi_1_dcx_off, \"phi_2_dcx\": phi_2_dcx_on,  \"M_12\": M_12_off,  \"name\":\"(1) mix in y direction\"},\n",
    "#     {\"duration\": 120, \"phi_1_dcx\": phi_1_dcx_off, \"phi_2_dcx\": phi_2_dcx_on,  \"M_12\": M_12_on,   \"name\":\"(2) conditional tilt\"},\n",
    "#     {\"duration\": 40, \"phi_1_dcx\": phi_1_dcx_off, \"phi_2_dcx\": phi_2_dcx_off, \"M_12\": M_12_on,   \"name\":\"(3) raise the barrier\"},\n",
    "#     {\"duration\": 40, \"phi_1_dcx\": phi_1_dcx_off,  \"phi_2_dcx\": phi_2_dcx_off, \"M_12\": M_12_off,  \"name\":\"(4) 4 well potential 1st time\"}, \n",
    "#     {\"duration\": 40, \"phi_1_dcx\": phi_1_dcx_on,  \"phi_2_dcx\": phi_2_dcx_off, \"M_12\": M_12_off,  \"name\":\"(5) mix in x direction\"}, \n",
    "#     {\"duration\": 40, \"phi_1_dcx\": phi_1_dcx_off, \"phi_2_dcx\": phi_2_dcx_off, \"M_12\": M_12_off,  \"name\":\"(6) 4 well potential\"}, \n",
    "# ]\n",
    "\n",
    "protocol_time_array = [item[\"duration\"] for item in protocol_list]\n",
    "protocol_time_array.insert(0, 0)\n",
    "\n",
    "print(params['sim_params'])\n",
    "print(initial_parameter_dict[\"phi_1_dcx\"], initial_parameter_dict[\"phi_2_dcx\"], initial_parameter_dict[\"M_12\"])\n",
    "for x in protocol_list:\n",
    "    print(x)\n",
    "\n",
    "# print(protocol_list[0][\"phi_1_dcx\"], protocol_list[0][\"phi_2_dcx\"], protocol_list[0][\"M_12\"], )\n",
    "# print(protocol_list[1][\"phi_1_dcx\"], protocol_list[1][\"phi_2_dcx\"], protocol_list[1][\"M_12\"], )\n",
    "# print(protocol_list)"
   ]
  },
  {
   "cell_type": "code",
   "execution_count": 23,
   "id": "1d298164-abc9-46b6-8f49-f9b77fa27fde",
   "metadata": {},
   "outputs": [],
   "source": [
    "\n",
    "\"\"\"\n",
    "# step 3: create the relevant storage protocol and computation protocol\n",
    "\"\"\"\n",
    "computation_protocol_parameter_dict = coupled_fq_protocol_library.customizedProtocol(initial_parameter_dict, \\\n",
    "                                                                    protocol_list)\n",
    "storage_protocol, comp_protocol = create_system(computation_protocol_parameter_dict)"
   ]
  },
  {
   "cell_type": "code",
   "execution_count": 26,
   "id": "8c4afb53-d880-4641-ac19-312230f8938f",
   "metadata": {},
   "outputs": [
    {
     "name": "stdout",
     "output_type": "stream",
     "text": [
      "generating new initial_state\n",
      "using a lower resolution for searching a space in >3 dimensions\n",
      "new resolution is 50\n",
      " found 10000 samples out of 10000\n",
      "from system: finish the while loop in sampling.\n",
      "as step value: slice(None, None, None), sampleSize: 10000\n",
      "slice(None, None, None)\n",
      "from cfq_runner.py, The as_step is slice(None, None, None) and dt is 0.001\n",
      "from quick_sim.py\n",
      "gamma: [0.00269542 0.00269542 0.00269542 0.00269542], theta: [1. 1. 4. 4.] and eta: [0.01853177 0.01853177 0.01853177 0.01853177]\n",
      "from quick_sim.py: system.protocol.t_i = 0.0, system.protocol.t_f = 240.0\n",
      "from simulation.py: number of steps: 240000, dt: 0.001\n"
     ]
    }
   ],
   "source": [
    "\"\"\"\n",
    "# step 4: create the coupled_fq_runner\n",
    "\"\"\"\n",
    "cfqr = cfq_runner.coupledFluxQubitRunner(potential = coupled_fq_pot, params = params, \\\n",
    "                                                storage_protocol= storage_protocol, \\\n",
    "                                                computation_protocol= comp_protocol)\n",
    "cfqr.initialize_sim()\n",
    "# cfqr.set_sim_attributes(extra_constraint=extra_constraint_00_and_11_only)\n",
    "cfqr.set_sim_attributes()\n",
    "init_state_saved = cfqr.init_state"
   ]
  },
  {
   "cell_type": "code",
   "execution_count": 27,
   "id": "7d9081bd-5e7a-48f2-be31-8c8fd34fe941",
   "metadata": {},
   "outputs": [
    {
     "data": {
      "image/png": "[encoded data removed]",
      "text/plain": [
       "<Figure size 640x480 with 1 Axes>"
      ]
     },
     "metadata": {},
     "output_type": "display_data"
    }
   ],
   "source": [
    "cfqr.show_initial_state()"
   ]
  },
  {
   "cell_type": "code",
   "execution_count": null,
   "id": "3cd3a990-44e6-4bd8-a92c-8980a95ed2f5",
   "metadata": {},
   "outputs": [],
   "source": []
  },
  {
   "cell_type": "code",
   "execution_count": 22,
   "id": "5359ebb3-d444-434f-b3f9-a939bac8e6e6",
   "metadata": {},
   "outputs": [],
   "source": [
    "manual_domain=[np.array([-5, -5])/time_scale_factor, np.array([5, 5])/time_scale_factor]\n",
    "mapping_state_1_to_state_2_dict = {\"00\": [\"00\", \"10\"], \"01\": [\"00\", \"10\"], \"10\": [\"01\", \"11\"], \"11\": [\"01\", \"11\"]}"
   ]
  },
  {
   "cell_type": "code",
   "execution_count": 23,
   "id": "6b4fd636-532b-431a-8a87-0db6aaff283d",
   "metadata": {},
   "outputs": [
    {
     "name": "stdout",
     "output_type": "stream",
     "text": [
      "\n",
      " initializing...\n",
      "use old initial_state\n",
      "as step value: slice(None, None, None), sampleSize: 10000\n",
      "slice(None, None, None)\n",
      "from cfq_runner.py, The as_step is slice(None, None, None) and dt is 0.001\n",
      "from quick_sim.py\n",
      "gamma: [0.00269542 0.00269542 0.00269542 0.00269542], theta: [1. 1. 4. 4.] and eta: [0.01853177 0.01853177 0.01853177 0.01853177]\n",
      "from quick_sim.py: system.protocol.t_i = 0.0, system.protocol.t_f = 240.0\n",
      "from simulation.py: number of steps: 240000, dt: 0.001\n",
      "\n",
      " running sim...\n",
      "final_statestep 239999\n",
      "work_done\n",
      "\n",
      " analyzing output...\n",
      "(1719.1092867851257,)\n"
     ]
    }
   ],
   "source": [
    "# step 5: perform simulations\n",
    "\n",
    "simResult = cfq_batch_sweep.simulateSingleCoupledFluxQubit(params, initial_parameter_dict, protocol_list, \\\n",
    "                        potential = coupled_fq_pot, potential_default_param = coupled_fq_default_param,            \n",
    "                        initial_state = init_state_saved, manual_domain = manual_domain, \\\n",
    "                        phi_1_dcx = phi_1_dcx,  phi_2_dcx = phi_2_dcx, \\\n",
    "                        percentage = 1, as_step = np.s_[::])"
   ]
  },
  {
   "cell_type": "code",
   "execution_count": null,
   "id": "8c30a253-6bb1-4567-b80a-bd0b75f1ca47",
   "metadata": {},
   "outputs": [],
   "source": [
    "simResult[\"fidelity\"]"
   ]
  },
  {
   "cell_type": "code",
   "execution_count": null,
   "id": "890922fc-14be-4ea5-9ae7-1a1691a99844",
   "metadata": {},
   "outputs": [],
   "source": []
  },
  {
   "cell_type": "code",
   "execution_count": null,
   "id": "d13efcc5-b0ef-45a6-9165-43069e2baa4e",
   "metadata": {},
   "outputs": [],
   "source": []
  },
  {
   "cell_type": "markdown",
   "id": "6c145a8d-6b68-4c68-af10-898b689ef5db",
   "metadata": {},
   "source": [
    "# animations"
   ]
  },
  {
   "cell_type": "code",
   "execution_count": null,
   "id": "8a863812-605f-4047-ae40-96445fd9a8db",
   "metadata": {},
   "outputs": [],
   "source": [
    "# # animations\n",
    "# vmin, vmax = 0, 100\n",
    "# frame_skip = 100\n",
    "# # phi_1_dc, phi_2_dc = phi_1_dcx, phi_2_dcx\n",
    "# particle_number = 0\n",
    "# # all_state = simResult[\"cfqr\"].sim.output.all_state['states'][particle_number:particle_number+1, :, :, :]\n",
    "# all_state = simResult[\"cfqr\"].sim.output.all_state['states']\n",
    "# simResult[\"cfqr\"].system.protocol_list = protocol_list\n",
    "# time_range = (computation_protocol_parameter_dict[\"t\"][0], computation_protocol_parameter_dict[\"t\"][-1])\n",
    "\n",
    "# ani,_,_ = animate_sim_flux_qubit(all_state, system = simResult[\"cfqr\"].system ,\n",
    "#                                    times = time_range, frame_skip=frame_skip, color_by_state=True,\n",
    "#                                    vmin = vmin, vmax = vmax,\n",
    "#                                    manual_domain = manual_domain)\n",
    "\n"
   ]
  },
  {
   "cell_type": "code",
   "execution_count": null,
   "id": "e03f3ca1-0cc3-4775-a6d8-461ae253e996",
   "metadata": {},
   "outputs": [],
   "source": [
    "# # from IPython.display import HTML\n",
    "# from IPython import display\n",
    "# video = ani.to_html5_video()\n",
    "# html = display.HTML(video)\n",
    "# display.display(html)"
   ]
  },
  {
   "cell_type": "markdown",
   "id": "37e3d4d7-24f0-41c3-a32e-d0451c114757",
   "metadata": {},
   "source": [
    "# work analysis"
   ]
  },
  {
   "cell_type": "code",
   "execution_count": null,
   "id": "326a7e50-4b93-4a80-b810-061cde76f785",
   "metadata": {},
   "outputs": [],
   "source": [
    "# %%notify\n",
    "step_time_array = np.cumsum(np.array([x[\"duration\"] for x in protocol_list]))/params['dt']\n",
    "name_array = [x[\"name\"] for x in protocol_list]\n",
    "\n",
    "\n",
    "plt.hist(simResult[\"work_distribution\"], bins = 45)\n",
    "plt.show()\n",
    "mean_work = np.mean(simResult[\"work_distribution\"])\n",
    "jarzyn_term = np.mean(np.exp(-\n",
    "                             simResult[\"work_distribution\"]))\n",
    "print(f'jarzyn = {jarzyn_term}, mean work = {mean_work}')\n",
    "print([x[\"duration\"] for x in protocol_list])"
   ]
  },
  {
   "cell_type": "code",
   "execution_count": null,
   "id": "a6fbb47f-0281-4c65-9903-67cab6606060",
   "metadata": {},
   "outputs": [],
   "source": [
    "\n",
    "\n",
    "step_array = np.arange(simResult[\"work_statistic\"][:,0].shape[0])\n",
    "skip_step = int(len(step_array) * 0.01)\n",
    "work_mean = simResult[\"work_statistic\"][:,0]\n",
    "work_std = simResult[\"work_statistic\"][:,1]\n",
    "\n",
    "coarse_step_array = step_array[::skip_step]\n",
    "coarse_step_array = np.append(coarse_step_array, step_array[-1])\n",
    "coarse_work_mean_array = work_mean[::skip_step]\n",
    "coarse_work_mean_array = np.append(coarse_work_mean_array, work_mean[-1])\n",
    "coarse_work_std_array = np.append(work_std[::skip_step], work_std[-1])\n",
    "\n",
    "plt.errorbar(coarse_step_array, coarse_work_mean_array, yerr = coarse_work_std_array)\n",
    "\n",
    "for i, t in enumerate(step_time_array):\n",
    "    plt.axvline(x = t, color = 'b', label = 'axvline - full height')\n",
    "    # plt.text('2017-07-02 16:30:00',0.005,'BigNews1',rotation=90,va='top')\n",
    "    plt.annotate(f\"{i+1}\", \n",
    "            xy=(t, 4.5),  \n",
    "            # xytext=(quantile_75, 2.05*1e9),\n",
    "            color='red', \n",
    "            ha='center', \n",
    "            size=16)\n",
    "\n",
    "\n",
    "\n",
    "first_half = work_mean[0: len(work_mean)//2]\n",
    "second_half = work_mean[len(work_mean)//2:][::-1]\n",
    "abs_error = np.abs(first_half - second_half)\n",
    "# plt.plot(step_array[0:len(step_array)//2], abs_error)\n",
    "print(max(abs_error), min(abs_error))\n",
    "print(f'jarzyn = {jarzyn_term}')\n",
    "print([x[\"duration\"] for x in protocol_list])"
   ]
  },
  {
   "cell_type": "code",
   "execution_count": null,
   "id": "c7ebc432-5fa0-483c-af08-b83d960bbee5",
   "metadata": {},
   "outputs": [],
   "source": [
    "# 100, w_mena = 1.37, jarzyn = 0.342\n",
    "# 80, w_mena = 1.37, jarzyn = 0.342\n",
    "# 40, w_mena = 1.36, jarzyn = 0.34\n",
    "cfq_batch_sweep.saveSimulationResult(simResult, U0_1, timeOrStep = 'step', save = True, save_final_state = False)"
   ]
  },
  {
   "cell_type": "code",
   "execution_count": 25,
   "id": "1ae4b358-9ccd-4ba7-ba13-c82ff3c849cf",
   "metadata": {},
   "outputs": [
    {
     "data": {
      "text/plain": [
       "{'simulation_time': (168.38428211212158,),\n",
       " 'simulation_date': '2024-01-21 14:04:19.727387',\n",
       " 'simulation_id': 'ffe59a9f19167e42cd6abbafc6176ed1a9ec874a42e6b4ebb9f572c180f88aff',\n",
       " 'simulation_computer': 'mothra.local',\n",
       " 'saveTime': '1705875006.787257'}"
      ]
     },
     "execution_count": 25,
     "metadata": {},
     "output_type": "execute_result"
    }
   ],
   "source": [
    "simResult['simulation_data']"
   ]
  },
  {
   "cell_type": "code",
   "execution_count": 24,
   "id": "da522dae-ada7-4dda-9bc4-4e90e913fc45",
   "metadata": {},
   "outputs": [
    {
     "name": "stdout",
     "output_type": "stream",
     "text": [
      "dw = 0.001, dt = 0.0002, N = 5000\n",
      "LHS: number of +W, RHS = number of -W * np.exp(+W)]\n"
     ]
    },
    {
     "data": {
      "image/png": "[encoded data removed]",
      "text/plain": [
       "<Figure size 640x480 with 1 Axes>"
      ]
     },
     "metadata": {},
     "output_type": "display_data"
    }
   ],
   "source": [
    "# crook analysis\n",
    "# np.linspace(0.005, 0.2, 100)\n",
    "test_w = np.linspace(-0.025, 0.0025, 21)\n",
    "dw = 0.001\n",
    "crook_analysis_result = []\n",
    "\n",
    "for _w in test_w:\n",
    "    array = simResult[\"work_distribution\"]\n",
    "\n",
    "    # The 0 index is to remove the single element array\n",
    "    number_of_plus_W = len(np.where(np.logical_and(array <= _w + dw, array >= _w - dw))[0])\n",
    "    number_of_minus_W = len(np.where(np.logical_and(array <= -_w + dw, array >= -_w - dw))[0])\n",
    "    crook_analysis_result.append(np.array([_w, number_of_plus_W, number_of_minus_W * np.exp(_w)]))\n",
    "\n",
    "crook_analysis_result = np.array(crook_analysis_result)    \n",
    "print(f\"dw = {dw}, dt = {params['dt']}, N = {params['N']}\")\n",
    "print(\"LHS: number of +W, RHS = number of -W * np.exp(+W)]\")\n",
    "all_w = crook_analysis_result[:, 0]\n",
    "all_lhs = crook_analysis_result[:, 1]\n",
    "all_rhs = crook_analysis_result[:, 2]\n",
    "plt.xlabel(\"W\")\n",
    "plt.ylim([0, 2])\n",
    "plt.plot(all_w, all_lhs/all_rhs, \"*\", label = \"LHS\")\n",
    "# plt.plot(all_w, all_rhs, \"-\", label = \"RHS\")\n",
    "plt.legend()\n",
    "plt.show()\n",
    "# print(\"p(W) = p(-W) exp(W)\")\n",
    "# print(f\"LHS = {number_of_plus_W}, RHS = {number_of_minus_W * np.exp(test_w)}\")\n",
    "# print(f\"mean work = {avg_W:.3f} and the std error of W = {error_W:.5f}\")\n",
    "# print(f'jarzyn = {jarzyn_term:.3f}, std error= {jarzyn_term_error:.5f}')\n",
    "# print([x[\"duration\"] for x in protocol_list])\n",
    "# print(time_length_1, time_length_2, time_length_3, time_length_4, time_length_5, time_length_6)"
   ]
  },
  {
   "cell_type": "code",
   "execution_count": null,
   "id": "26b958ed-fa74-460c-81ab-d6abf8b4f2b2",
   "metadata": {},
   "outputs": [],
   "source": []
  },
  {
   "cell_type": "code",
   "execution_count": 25,
   "id": "342f61eb-16e1-429f-9603-4ff04c61b088",
   "metadata": {},
   "outputs": [],
   "source": [
    "counts, bin_edges = np.histogram(simResult[\"work_distribution\"], bins = np.linspace(-2, 2, 50),density=True)\n",
    "counts, bin_edges = np.histogram(simResult[\"work_distribution\"], bins = np.linspace(-0.01, 0.01, 20),density=True)"
   ]
  },
  {
   "cell_type": "code",
   "execution_count": 26,
   "id": "67d93dd3-35dc-4dc2-b6b4-6313aa9e7159",
   "metadata": {},
   "outputs": [
    {
     "name": "stderr",
     "output_type": "stream",
     "text": [
      "/var/folders/lg/s5mcr4vx5p76ymtpjnvb304m0000gq/T/ipykernel_8983/3448178815.py:1: RuntimeWarning: divide by zero encountered in divide\n",
      "  log_P_ratio = np.log(counts / counts[::-1])\n",
      "/var/folders/lg/s5mcr4vx5p76ymtpjnvb304m0000gq/T/ipykernel_8983/3448178815.py:1: RuntimeWarning: divide by zero encountered in log\n",
      "  log_P_ratio = np.log(counts / counts[::-1])\n"
     ]
    }
   ],
   "source": [
    "log_P_ratio = np.log(counts / counts[::-1])"
   ]
  },
  {
   "cell_type": "code",
   "execution_count": 27,
   "id": "a0654ae8-a135-46d9-b1bd-aa75160ec925",
   "metadata": {},
   "outputs": [
    {
     "data": {
      "text/plain": [
       "Text(0, 0.5, 'log ratio')"
      ]
     },
     "execution_count": 27,
     "metadata": {},
     "output_type": "execute_result"
    },
    {
     "data": {
      "image/png": "[encoded data removed]",
      "text/plain": [
       "<Figure size 500x500 with 1 Axes>"
      ]
     },
     "metadata": {},
     "output_type": "display_data"
    }
   ],
   "source": [
    "plt.figure(figsize=(5, 5))\n",
    "plt.plot(bin_edges[1:], bin_edges[1:], \"--\")\n",
    "plt.scatter(bin_edges[:-1], log_P_ratio)\n",
    "plt.xlabel(\"W\")\n",
    "plt.ylabel(\"log ratio\")"
   ]
  },
  {
   "cell_type": "code",
   "execution_count": null,
   "id": "b64f157d-39b9-4f6b-9f24-5654562bd55e",
   "metadata": {},
   "outputs": [],
   "source": []
  },
  {
   "cell_type": "code",
   "execution_count": 23,
   "id": "f4fb4954-26c9-4cd7-a49e-76750b21ec46",
   "metadata": {},
   "outputs": [
    {
     "name": "stdout",
     "output_type": "stream",
     "text": [
      "dw = 0.001, dt = 0.0002, N = 5000\n",
      "LHS: number of +W, RHS = number of -W * np.exp(+W)]\n"
     ]
    },
    {
     "data": {
      "image/png": "[encoded data removed]",
      "text/plain": [
       "<Figure size 640x480 with 1 Axes>"
      ]
     },
     "metadata": {},
     "output_type": "display_data"
    },
    {
     "ename": "NameError",
     "evalue": "name 'avg_W' is not defined",
     "output_type": "error",
     "traceback": [
      "\u001b[0;31m---------------------------------------------------------------------------\u001b[0m",
      "\u001b[0;31mNameError\u001b[0m                                 Traceback (most recent call last)",
      "Cell \u001b[0;32mIn[23], line 28\u001b[0m\n\u001b[1;32m     25\u001b[0m plt\u001b[38;5;241m.\u001b[39mshow()\n\u001b[1;32m     26\u001b[0m \u001b[38;5;66;03m# print(\"p(W) = p(-W) exp(W)\")\u001b[39;00m\n\u001b[1;32m     27\u001b[0m \u001b[38;5;66;03m# print(f\"LHS = {number_of_plus_W}, RHS = {number_of_minus_W * np.exp(test_w)}\")\u001b[39;00m\n\u001b[0;32m---> 28\u001b[0m \u001b[38;5;28mprint\u001b[39m(\u001b[38;5;124mf\u001b[39m\u001b[38;5;124m\"\u001b[39m\u001b[38;5;124mmean work = \u001b[39m\u001b[38;5;132;01m{\u001b[39;00mavg_W\u001b[38;5;132;01m:\u001b[39;00m\u001b[38;5;124m.3f\u001b[39m\u001b[38;5;132;01m}\u001b[39;00m\u001b[38;5;124m and the std error of W = \u001b[39m\u001b[38;5;132;01m{\u001b[39;00merror_W\u001b[38;5;132;01m:\u001b[39;00m\u001b[38;5;124m.5f\u001b[39m\u001b[38;5;132;01m}\u001b[39;00m\u001b[38;5;124m\"\u001b[39m)\n\u001b[1;32m     29\u001b[0m \u001b[38;5;28mprint\u001b[39m(\u001b[38;5;124mf\u001b[39m\u001b[38;5;124m'\u001b[39m\u001b[38;5;124mjarzyn = \u001b[39m\u001b[38;5;132;01m{\u001b[39;00mjarzyn_term\u001b[38;5;132;01m:\u001b[39;00m\u001b[38;5;124m.3f\u001b[39m\u001b[38;5;132;01m}\u001b[39;00m\u001b[38;5;124m, std error= \u001b[39m\u001b[38;5;132;01m{\u001b[39;00mjarzyn_term_error\u001b[38;5;132;01m:\u001b[39;00m\u001b[38;5;124m.5f\u001b[39m\u001b[38;5;132;01m}\u001b[39;00m\u001b[38;5;124m'\u001b[39m)\n\u001b[1;32m     30\u001b[0m \u001b[38;5;28mprint\u001b[39m([x[\u001b[38;5;124m\"\u001b[39m\u001b[38;5;124mduration\u001b[39m\u001b[38;5;124m\"\u001b[39m] \u001b[38;5;28;01mfor\u001b[39;00m x \u001b[38;5;129;01min\u001b[39;00m protocol_list])\n",
      "\u001b[0;31mNameError\u001b[0m: name 'avg_W' is not defined"
     ]
    }
   ],
   "source": [
    "# crook analysis\n",
    "# np.linspace(0.005, 0.2, 100)\n",
    "test_w = np.linspace(-0.02, 0.02, 20)\n",
    "dw = 0.001\n",
    "crook_analysis_result = []\n",
    "\n",
    "for _w in test_w:\n",
    "    array = simResult[\"work_distribution\"]\n",
    "\n",
    "    # The 0 index is to remove the single element array\n",
    "    number_of_plus_W = len(np.where(np.logical_and(array <= _w + dw, array >= _w - dw))[0])\n",
    "    number_of_minus_W = len(np.where(np.logical_and(array <= -_w + dw, array >= -_w - dw))[0])\n",
    "    crook_analysis_result.append(np.array([_w, number_of_plus_W, number_of_minus_W * np.exp(_w)]))\n",
    "\n",
    "crook_analysis_result = np.array(crook_analysis_result)    \n",
    "print(f\"dw = {dw}, dt = {params['dt']}, N = {params['N']}\")\n",
    "print(\"LHS: number of +W, RHS = number of -W * np.exp(+W)]\")\n",
    "all_w = crook_analysis_result[:, 0]\n",
    "all_lhs = crook_analysis_result[:, 1]\n",
    "all_rhs = crook_analysis_result[:, 2]\n",
    "plt.xlabel(\"W\")\n",
    "plt.plot(all_w, all_lhs, \"x\", label = \"LHS\")\n",
    "plt.plot(all_w, all_rhs, \"x\", label = \"RHS\")\n",
    "plt.legend()\n",
    "plt.show()\n",
    "# print(\"p(W) = p(-W) exp(W)\")\n",
    "# print(f\"LHS = {number_of_plus_W}, RHS = {number_of_minus_W * np.exp(test_w)}\")\n",
    "print(f\"mean work = {avg_W:.3f} and the std error of W = {error_W:.5f}\")\n",
    "print(f'jarzyn = {jarzyn_term:.3f}, std error= {jarzyn_term_error:.5f}')\n",
    "print([x[\"duration\"] for x in protocol_list])\n",
    "print(time_length_1, time_length_2, time_length_3, time_length_4, time_length_5, time_length_6)"
   ]
  },
  {
   "cell_type": "code",
   "execution_count": null,
   "id": "05ccea5b-41e4-4379-b74a-816ad1f2c40c",
   "metadata": {},
   "outputs": [],
   "source": []
  },
  {
   "cell_type": "markdown",
   "id": "bf743426-c2a0-4d6d-a905-763d760f1bc2",
   "metadata": {},
   "source": [
    "# fidelity analysis"
   ]
  },
  {
   "cell_type": "code",
   "execution_count": 53,
   "id": "7de20b7e-5136-4db7-9053-da8f5d8a5c81",
   "metadata": {},
   "outputs": [
    {
     "data": {
      "text/plain": [
       "['initial\\nfinal\\nfinal_percentage',\n",
       " 'initial\\nfinal\\nfinal_percentage',\n",
       " 'initial\\nfinal\\nfinal_percentage',\n",
       " 'initial\\nfinal\\nfinal_percentage']"
      ]
     },
     "execution_count": 53,
     "metadata": {},
     "output_type": "execute_result"
    }
   ],
   "source": []
  },
  {
   "cell_type": "code",
   "execution_count": 54,
   "id": "329ea7bf-480b-42c8-84cf-693d4454409b",
   "metadata": {},
   "outputs": [
    {
     "data": {
      "text/plain": [
       "array([['0.504', '0.494', '0.000', '0.002'],\n",
       "       ['0.000', '0.001', '0.522', '0.560'],\n",
       "       ['0.495', '0.504', '0.001', '0.002'],\n",
       "       ['0.002', '0.001', '0.477', '0.437']], dtype='<U5')"
      ]
     },
     "execution_count": 54,
     "metadata": {},
     "output_type": "execute_result"
    }
   ],
   "source": [
    "final_percentage_matrix"
   ]
  },
  {
   "cell_type": "code",
   "execution_count": null,
   "id": "a463d6c1-f126-42bd-a9f3-c467803dc14d",
   "metadata": {},
   "outputs": [],
   "source": []
  },
  {
   "cell_type": "code",
   "execution_count": 6,
   "id": "cead7a54-6194-4901-81e7-b2ad12b9bd79",
   "metadata": {},
   "outputs": [
    {
     "data": {
      "text/plain": [
       "<matplotlib.collections.LineCollection at 0x16ec92800>"
      ]
     },
     "execution_count": 6,
     "metadata": {},
     "output_type": "execute_result"
    },
    {
     "data": {
      "image/png": "[encoded data removed]",
      "text/plain": [
       "<Figure size 1000x400 with 2 Axes>"
      ]
     },
     "metadata": {},
     "output_type": "display_data"
    }
   ],
   "source": [
    "# final_percentage_matrix = np.array([d[\"final_percentage\"] for d in simResult[\"fidelity\"]]).T\n",
    "# text_box_array = [\"\\n\".join(row) for row in final_percentage_matrix]\n",
    "\n",
    "fig, ax = plt.subplots(1, 2, figsize = [10, 4])\n",
    "# plt.figure(figsize=[4, 4])\n",
    "# plt.title(f\"N = {item['N']}, dt = {item['dt']}, t1 = {item['protocol_list'][-1]['duration']} \")\n",
    "# _ax = ax[1]\n",
    "# _ax.set_xlim(-5, 5);plt.ylim(-5, 5);\n",
    "# _ax.text(-3.25, -3.5, text_box_array[0]); _ax.text(-3.25, 1.5, text_box_array[1])\n",
    "# _ax.text(1.75, -3.5, text_box_array[2]); _ax.text(1.75, 1.5, text_box_array[3])\n",
    "# _ax.vlines(0, ymin = -5, ymax = 5); _ax.hlines(0, xmin = -5, xmax = 5)\n",
    "\n",
    "ideal_fidelity = np.array([['0.500', '0.000', '0.500', '0.000'], ['0.500', '0.000', '0.500', '0.000'],\n",
    "                          ['0.000', '0.500', '0.000', '0.500'], ['0.000', '0.500', '0.000', '0.500']]).T\n",
    "text_box_array = [\"\\n\".join(row) for row in ideal_fidelity]\n",
    "# plt.figure(figsize=[4, 4])\n",
    "# plt.title(f\"N = {item['N']}, dt = {item['dt']}, t1 = {item['protocol_list'][-1]['duration']} \")\n",
    "_ax = ax[0]\n",
    "_ax.set_xlim(-5, 5);plt.ylim(-5, 5);\n",
    "_ax.text(-3.25, -3.5, text_box_array[0]); _ax.text(-3.25, 1.5, text_box_array[1])\n",
    "_ax.text(1.75, -3.5, text_box_array[2]); _ax.text(1.75, 1.5, text_box_array[3])\n",
    "_ax.vlines(0, ymin = -5, ymax = 5); _ax.hlines(0, xmin = -5, xmax = 5)"
   ]
  },
  {
   "cell_type": "code",
   "execution_count": 34,
   "id": "48cefdbf-3987-4e89-8bb1-1a794e02a942",
   "metadata": {},
   "outputs": [],
   "source": [
    "import copy"
   ]
  },
  {
   "cell_type": "code",
   "execution_count": 51,
   "id": "2bcfe2eb-f152-4f06-a3d3-56b9e846cef4",
   "metadata": {},
   "outputs": [],
   "source": [
    "ideal_fidelity = copy.deepcopy(final_percentage_matrix)"
   ]
  },
  {
   "cell_type": "code",
   "execution_count": 56,
   "id": "52c29b60-9901-4f66-ad62-26df3d497105",
   "metadata": {},
   "outputs": [],
   "source": []
  },
  {
   "cell_type": "code",
   "execution_count": 49,
   "id": "81adbd49-dc52-4885-aab5-68d89e9184f6",
   "metadata": {},
   "outputs": [
    {
     "ename": "IndexError",
     "evalue": "only integers, slices (`:`), ellipsis (`...`), numpy.newaxis (`None`) and integer or boolean arrays are valid indices",
     "output_type": "error",
     "traceback": [
      "\u001b[0;31m---------------------------------------------------------------------------\u001b[0m",
      "\u001b[0;31mIndexError\u001b[0m                                Traceback (most recent call last)",
      "Cell \u001b[0;32mIn[49], line 1\u001b[0m\n\u001b[0;32m----> 1\u001b[0m ideal_fidelity[\u001b[38;5;241m0\u001b[39m][\u001b[38;5;124m\"\u001b[39m\u001b[38;5;124mfinal_percentage\u001b[39m\u001b[38;5;124m\"\u001b[39m] \u001b[38;5;241m=\u001b[39m [\u001b[38;5;124m'\u001b[39m\u001b[38;5;124m0.500\u001b[39m\u001b[38;5;124m'\u001b[39m, \u001b[38;5;124m'\u001b[39m\u001b[38;5;124m0.000\u001b[39m\u001b[38;5;124m'\u001b[39m, \u001b[38;5;124m'\u001b[39m\u001b[38;5;124m0.500\u001b[39m\u001b[38;5;124m'\u001b[39m, \u001b[38;5;124m'\u001b[39m\u001b[38;5;124m0.000\u001b[39m\u001b[38;5;124m'\u001b[39m]\n\u001b[1;32m      2\u001b[0m ideal_fidelity[\u001b[38;5;241m1\u001b[39m][\u001b[38;5;124m\"\u001b[39m\u001b[38;5;124mfinal_percentage\u001b[39m\u001b[38;5;124m\"\u001b[39m] \u001b[38;5;241m=\u001b[39m [\u001b[38;5;124m'\u001b[39m\u001b[38;5;124m0.500\u001b[39m\u001b[38;5;124m'\u001b[39m, \u001b[38;5;124m'\u001b[39m\u001b[38;5;124m0.000\u001b[39m\u001b[38;5;124m'\u001b[39m, \u001b[38;5;124m'\u001b[39m\u001b[38;5;124m0.500\u001b[39m\u001b[38;5;124m'\u001b[39m, \u001b[38;5;124m'\u001b[39m\u001b[38;5;124m0.000\u001b[39m\u001b[38;5;124m'\u001b[39m]\n\u001b[1;32m      3\u001b[0m ideal_fidelity[\u001b[38;5;241m2\u001b[39m][\u001b[38;5;124m\"\u001b[39m\u001b[38;5;124mfinal_percentage\u001b[39m\u001b[38;5;124m\"\u001b[39m] \u001b[38;5;241m=\u001b[39m [\u001b[38;5;124m'\u001b[39m\u001b[38;5;124m0.000\u001b[39m\u001b[38;5;124m'\u001b[39m, \u001b[38;5;124m'\u001b[39m\u001b[38;5;124m0.500\u001b[39m\u001b[38;5;124m'\u001b[39m, \u001b[38;5;124m'\u001b[39m\u001b[38;5;124m0.000\u001b[39m\u001b[38;5;124m'\u001b[39m, \u001b[38;5;124m'\u001b[39m\u001b[38;5;124m0.500\u001b[39m\u001b[38;5;124m'\u001b[39m]\n",
      "\u001b[0;31mIndexError\u001b[0m: only integers, slices (`:`), ellipsis (`...`), numpy.newaxis (`None`) and integer or boolean arrays are valid indices"
     ]
    }
   ],
   "source": [
    "ideal_fidelity[0][\"final_percentage\"] = ['0.500', '0.000', '0.500', '0.000']\n",
    "ideal_fidelity[1][\"final_percentage\"] = ['0.500', '0.000', '0.500', '0.000']\n",
    "ideal_fidelity[2][\"final_percentage\"] = ['0.000', '0.500', '0.000', '0.500']\n",
    "ideal_fidelity[3][\"final_percentage\"] = ['0.000', '0.500', '0.000', '0.500']"
   ]
  },
  {
   "cell_type": "code",
   "execution_count": 52,
   "id": "656464e8-ecea-4a3d-a7fb-cc2953353ff4",
   "metadata": {},
   "outputs": [
    {
     "data": {
      "text/plain": [
       "array([['0.504', '0.494', '0.000', '0.002'],\n",
       "       ['0.000', '0.001', '0.522', '0.560'],\n",
       "       ['0.495', '0.504', '0.001', '0.002'],\n",
       "       ['0.002', '0.001', '0.477', '0.437']], dtype='<U5')"
      ]
     },
     "execution_count": 52,
     "metadata": {},
     "output_type": "execute_result"
    }
   ],
   "source": [
    "ideal_fidelity"
   ]
  },
  {
   "cell_type": "code",
   "execution_count": null,
   "id": "6d31b7f9-34f6-434d-9cc3-e35381221ec7",
   "metadata": {},
   "outputs": [],
   "source": []
  }
 ],
 "metadata": {
  "kernelspec": {
   "display_name": "Python 3 (ipykernel)",
   "language": "python",
   "name": "python3"
  },
  "language_info": {
   "codemirror_mode": {
    "name": "ipython",
    "version": 3
   },
   "file_extension": ".py",
   "mimetype": "text/x-python",
   "name": "python",
   "nbconvert_exporter": "python",
   "pygments_lexer": "ipython3",
   "version": "3.10.9"
  }
 },
 "nbformat": 4,
 "nbformat_minor": 5
}
