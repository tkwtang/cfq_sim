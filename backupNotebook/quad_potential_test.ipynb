{
 "cells": [
  {
   "cell_type": "code",
   "execution_count": 14,
   "id": "68ed26df-7f95-4412-9597-715cf9082e87",
   "metadata": {},
   "outputs": [
    {
     "name": "stdout",
     "output_type": "stream",
     "text": [
      "The jupyternotify extension is already loaded. To reload it, use:\n",
      "  %reload_ext jupyternotify\n"
     ]
    }
   ],
   "source": [
    "import numpy as np\n",
    "from sus.protocol_designer import System, Protocol, Potential, Compound_Protocol\n",
    "from sus.protocol_designer.protocol import sequential_protocol\n",
    "from IPython import display\n",
    "from IPython.display import HTML\n",
    "from quick_sim import setup_sim\n",
    "from edward_tools.coupled_fq_potential import coupled_flux_qubit_pot, coupled_flux_qubit_force, coupled_fq_pot\n",
    "import edward_tools.fq_runner as fq_runner\n",
    "from edward_tools.visualization import animate_sim_flux_qubit\n",
    "\n",
    "import kyle_tools as kt\n",
    "import matplotlib.pyplot as plt\n",
    "\n",
    "import importlib, os\n",
    "from edward_tools import coupled_fq_protocol_library, cfq_runner\n",
    "from PARAMETER_INPUT import *\n",
    "from PARAMETER_INPUT import _lambda, _theta, _eta\n",
    "\n",
    "from edward_tools import coupled_fq_protocol_library\n",
    "import edward_tools.cfq_batch_sweep as cfq_batch_sweep\n",
    "%load_ext jupyternotify\n",
    "\n",
    "coupled_fq_protocol_library = importlib.reload(coupled_fq_protocol_library)\n",
    "create_system = coupled_fq_protocol_library.create_system\n",
    "get_potential_shot_at_different_t = coupled_fq_protocol_library.get_potential_shot_at_different_t\n",
    "get_potential_shot_at_different_t_1D = coupled_fq_protocol_library.get_potential_shot_at_different_t_1D\n",
    "create_simple_protocol_parameter_dict = coupled_fq_protocol_library.create_simple_protocol_parameter_dict\n",
    "create_system_from_storage_and_computation_protocol = coupled_fq_protocol_library.create_system_from_storage_and_computation_protocol\n",
    "coupled_fq_runner = importlib.reload(cfq_runner)\n",
    "coupled_fq_protocol_library = importlib.reload(coupled_fq_protocol_library)\n",
    "create_system = coupled_fq_protocol_library.create_system\n"
   ]
  },
  {
   "cell_type": "markdown",
   "id": "38829e06-c992-4e4d-a3c3-9c40d5b70ae7",
   "metadata": {},
   "source": [
    "# basic settings"
   ]
  },
  {
   "cell_type": "code",
   "execution_count": 15,
   "id": "924f788c-741c-4b25-b1c2-e38763cf4996",
   "metadata": {},
   "outputs": [],
   "source": [
    "\"\"\"\n",
    "# step 0: modify parameters\n",
    "- All the parameters are stored in a separate file PARAMETER_INPUT\n",
    "- You can override some of the parameters here.\n",
    "\"\"\"\n",
    "params['N'] = 10_000\n",
    "params['dt'] = 1.0/100"
   ]
  },
  {
   "cell_type": "code",
   "execution_count": 16,
   "id": "4d2f3589-b70f-4536-9af9-50e72eecd6f3",
   "metadata": {},
   "outputs": [],
   "source": [
    "\"\"\"\n",
    "# step 1: Define potential\n",
    "\"\"\"\n",
    "coupled_fq_default_param = [1, 1, 0, 0, 0, 0, 0, 0, 0, 0, 0, 0, 0, x_c0]\n",
    "[phi_1_bound, phi_2_bound, phi_1dc_bound, phi_2dc_bound] = np.array([4, 4, 4, 4])/time_scale_factor\n",
    "\n",
    "coupled_fq_domain = [[-phi_1_bound, -phi_2_bound, -phi_1dc_bound, -phi_2dc_bound], \\\n",
    "                     [phi_1_bound, phi_2_bound, phi_1dc_bound, phi_2dc_bound]]\n",
    "\n",
    "coupled_fq_pot = Potential(coupled_flux_qubit_pot, coupled_flux_qubit_force, 14, 4,\\\n",
    "                           default_params = coupled_fq_default_param,  relevant_domain = coupled_fq_domain)"
   ]
  },
  {
   "cell_type": "code",
   "execution_count": 17,
   "id": "f62625ac-9b87-4597-98f1-c568c68a70ef",
   "metadata": {},
   "outputs": [],
   "source": [
    "\"\"\"\n",
    "# step 2: Define initial condition and protocol\n",
    "\"\"\"\n",
    "zeroDissipation = True\n",
    "params['sim_params'] = [_lambda, _theta, _eta]\n",
    "if zeroDissipation:\n",
    "    params['sim_params'] = [_lambda * 0, _theta, _eta * 0]\n",
    "\n",
    "\n",
    "manual_domain=[np.array([-5, -5]), np.array([5, 5])]\n",
    "phi_1_dcx, phi_2_dcx = 0, 0\n",
    "phi_1_dc, phi_2_dc = phi_1_dcx, phi_2_dcx\n",
    "\n",
    "time_length_1 = 80\n",
    "phi_1_dcx_off = 0; phi_2_dcx_off = 0; M_12_off = 0\n",
    "phi_1_dcx_on = 3.0; phi_2_dcx_on = 3.0; M_12_on = -0.7\n",
    "\n",
    "k_i = 20\n",
    "k_f = 1\n",
    "initial_parameter_dict = {\n",
    "        \"U0_1\": U0_1,     \"U0_2\": U0_2,     \"gamma_1\": k_i,  \"gamma_2\": k_i,\n",
    "        \"beta_1\": beta_1,   \"beta_2\": beta_2,   \"d_beta_1\": d_beta_1 ,   \"d_beta_2\": d_beta_2,\n",
    "        \"phi_1_x\": 0,  \"phi_2_x\": 0,  \"phi_1_dcx\": phi_1_dcx_off,  \"phi_2_dcx\": phi_1_dcx_off,\n",
    "        \"M_12\": M_12_off, 'x_c': x_c\n",
    "}"
   ]
  },
  {
   "cell_type": "code",
   "execution_count": 18,
   "id": "c188e855-c269-4693-95e2-42598f9f9078",
   "metadata": {},
   "outputs": [],
   "source": [
    "protocol_list_options = [\n",
    "    {\"placeholder\": \"\"},\n",
    "    {\"duration\":2000, \"gamma_1\": k_f,  \"name\":\"(1) mix in y direction\"},\n",
    "]"
   ]
  },
  {
   "cell_type": "code",
   "execution_count": 19,
   "id": "e8f711ba-3d9d-4603-8446-53e3094ca03e",
   "metadata": {},
   "outputs": [
    {
     "name": "stdout",
     "output_type": "stream",
     "text": [
      "[array([0.00269542, 0.00269542, 0.00269542, 0.00269542]), array([1., 4., 1., 4.]), array([0.01310394, 0.02620788, 0.01310394, 0.02620788])]\n",
      "20\n",
      "{'duration': 2000, 'gamma_1': 1, 'name': '(1) mix in y direction'}\n"
     ]
    }
   ],
   "source": [
    "params['sim_params'] = [_lambda, _theta, _eta]\n",
    "# params['sim_params'] = [_lambda * 0, _theta, _eta * 0]\n",
    "\n",
    "protocol_list = [protocol_list_options[1]]\n",
    "print(params['sim_params'])\n",
    "print(initial_parameter_dict[\"gamma_1\"])\n",
    "for x in protocol_list:\n",
    "    print(x)"
   ]
  },
  {
   "cell_type": "code",
   "execution_count": 20,
   "id": "fa5a72c5-6fb3-431f-b724-f68ebbf62bdb",
   "metadata": {},
   "outputs": [],
   "source": [
    "\"\"\"\n",
    "# First system\n",
    "\"\"\"\n",
    "\n",
    "t_array = np.linspace(0, 80, 100)\n",
    "computation_protocol_parameter_dict = coupled_fq_protocol_library.customizedProtocol(initial_parameter_dict, \\\n",
    "                                                                    protocol_list)\n",
    "storage_protocol, comp_protocol = create_system(computation_protocol_parameter_dict)\n",
    "\n",
    "\n",
    "\n"
   ]
  },
  {
   "cell_type": "code",
   "execution_count": null,
   "id": "1fca38e2-8296-4028-94ac-eb6d35f1d394",
   "metadata": {},
   "outputs": [],
   "source": []
  },
  {
   "cell_type": "code",
   "execution_count": 21,
   "id": "3fa87e3d-87ec-44b4-b151-e52326e0cbbd",
   "metadata": {},
   "outputs": [],
   "source": [
    "comp_protocol.protocol_array[0].interpolation = \"linear\""
   ]
  },
  {
   "cell_type": "code",
   "execution_count": 22,
   "id": "7f856710-f2b9-4a19-a628-fb57f06dd242",
   "metadata": {},
   "outputs": [
    {
     "name": "stderr",
     "output_type": "stream",
     "text": [
      "/Users/tkwtang/source/sus/protocol_designer/protocol.py:220: RuntimeWarning: invalid value encountered in divide\n",
      "  lambda_t = init / (1 - t/total_time + np.sqrt(init / final) * (t/total_time))**2\n"
     ]
    }
   ],
   "source": [
    "p_array_sigmoid = [comp_protocol.protocol_array[0].get_params(t)[2] for t in t_array]"
   ]
  },
  {
   "cell_type": "code",
   "execution_count": 23,
   "id": "64560ad5-3244-4f62-94d5-bcff136d742b",
   "metadata": {},
   "outputs": [
    {
     "data": {
      "text/plain": [
       "[<matplotlib.lines.Line2D at 0x14e8fee00>]"
      ]
     },
     "execution_count": 23,
     "metadata": {},
     "output_type": "execute_result"
    },
    {
     "data": {
      "image/png": "[encoded data removed]",
      "text/plain": [
       "<Figure size 640x480 with 1 Axes>"
      ]
     },
     "metadata": {},
     "output_type": "display_data"
    }
   ],
   "source": [
    "plt.plot(t_array, p_array_sigmoid)"
   ]
  },
  {
   "cell_type": "code",
   "execution_count": null,
   "id": "c2adfeca-3799-472a-adb3-1bcbaac292e6",
   "metadata": {},
   "outputs": [],
   "source": []
  },
  {
   "cell_type": "markdown",
   "id": "25c82a4f-1561-444e-8895-0b9e8ca53b28",
   "metadata": {
    "tags": []
   },
   "source": [
    "# Computation protocol interpolation method investigation"
   ]
  },
  {
   "cell_type": "code",
   "execution_count": null,
   "id": "cc866911-0c7e-4933-a41c-2ebbf6c21fd3",
   "metadata": {},
   "outputs": [],
   "source": []
  },
  {
   "cell_type": "code",
   "execution_count": null,
   "id": "feee254e-0b89-4e54-8fe8-0c8b3dc7e8ea",
   "metadata": {},
   "outputs": [],
   "source": []
  },
  {
   "cell_type": "code",
   "execution_count": null,
   "id": "f94c399c-de59-45cb-9cf4-929baa441c99",
   "metadata": {},
   "outputs": [],
   "source": []
  },
  {
   "cell_type": "markdown",
   "id": "ad7a27c8-014d-4a43-84c2-b7f986b70725",
   "metadata": {},
   "source": [
    "# run simulation"
   ]
  },
  {
   "cell_type": "code",
   "execution_count": 24,
   "id": "d7cb6680-3c7f-4219-9a92-a0a4ebf2f176",
   "metadata": {},
   "outputs": [
    {
     "name": "stdout",
     "output_type": "stream",
     "text": [
      "generating new initial_state\n",
      "using a lower resolution for searching a space in >3 dimensions\n",
      "new resolution is 50\n",
      " found 10007 samples out of 10000\n",
      "from system: finish the while loop in sampling.\n",
      "as step value: slice(None, None, None), sampleSize: 10000\n",
      "slice(None, None, None)\n",
      "from cfq_runner.py, The as_step is slice(None, None, None) and dt is 0.01\n",
      "from quick_sim.py: system.protocol.t_i = 0.0, system.protocol.t_f = 2000.0\n",
      "from simulation.py: number of steps: 200000, dt: 0.01\n"
     ]
    }
   ],
   "source": [
    "cfqr = cfq_runner.coupledFluxQubitRunner(potential = coupled_fq_pot, params = params, \\\n",
    "                                                storage_protocol= storage_protocol, \\\n",
    "                                                computation_protocol= comp_protocol, percentage=1.0)\n",
    "cfqr.has_velocity = False\n",
    "cfqr.initialize_sim()\n",
    "cfqr.set_sim_attributes()\n",
    "init_state_saved = cfqr.init_state"
   ]
  },
  {
   "cell_type": "code",
   "execution_count": null,
   "id": "f633cbc3-6404-439a-af5f-9d4b7b0787c7",
   "metadata": {},
   "outputs": [],
   "source": []
  },
  {
   "cell_type": "code",
   "execution_count": null,
   "id": "019b6a33-ed02-4107-9a73-d6f89aae74d5",
   "metadata": {},
   "outputs": [
    {
     "name": "stdout",
     "output_type": "stream",
     "text": [
      "\n",
      " initializing...\n",
      "generating new initial_state\n",
      "using a lower resolution for searching a space in >3 dimensions\n",
      "new resolution is 50\n",
      " found 11020 samples out of 10000\n",
      "from system: finish the while loop in sampling.\n",
      "as step value: slice(None, None, None), sampleSize: 10000\n",
      "slice(None, None, None)\n",
      "from cfq_runner.py, The as_step is slice(None, None, None) and dt is 0.01\n",
      "from quick_sim.py\n",
      "gamma: [0.00269542 0.00269542 0.00269542 0.00269542], theta: [1. 4. 1. 4.] and eta: [0.01310394 0.02620788 0.01310394 0.02620788]\n",
      "from quick_sim.py: system.protocol.t_i = 0.0, system.protocol.t_f = 2000.0\n",
      "from simulation.py: number of steps: 200000, dt: 0.01\n",
      "\n",
      " running sim...\n",
      "final_statestep 199999\n",
      "all_state\n",
      "work_done\n",
      "\n",
      " analyzing output...\n",
      "For the states, \n"
     ]
    }
   ],
   "source": [
    "# step 5: perform simulations\n",
    "\n",
    "simResult = cfq_batch_sweep.simulateSingleCoupledFluxQubit(params, initial_parameter_dict, protocol_list, \\\n",
    "                                        initial_state = None, manual_domain = manual_domain, \\\n",
    "                                        phi_1_dcx = phi_1_dcx,  phi_2_dcx = phi_2_dcx, \\\n",
    "                                        percentage = 1, \\\n",
    "                                        as_step = np.s_[::])"
   ]
  },
  {
   "cell_type": "code",
   "execution_count": null,
   "id": "e93965cf-0bed-42c6-9184-6e578b546d13",
   "metadata": {},
   "outputs": [],
   "source": []
  },
  {
   "cell_type": "markdown",
   "id": "349cf5b7-d972-4c47-8cae-bd5d434b2d69",
   "metadata": {},
   "source": [
    "# animations"
   ]
  },
  {
   "cell_type": "code",
   "execution_count": null,
   "id": "86d43706-4637-4f4b-b9b3-a4de123b3711",
   "metadata": {},
   "outputs": [],
   "source": [
    "# # animations\n",
    "# vmin, vmax = 0, 100\n",
    "# frame_skip = 50\n",
    "# # phi_1_dc, phi_2_dc = phi_1_dcx, phi_2_dcx\n",
    "# all_state = simResult[\"cfqr\"].sim.output.all_state['states']\n",
    "# simResult[\"cfqr\"].system.protocol_list = protocol_list\n",
    "# time_range = (computation_protocol_parameter_dict[\"t\"][0], computation_protocol_parameter_dict[\"t\"][-1])\n",
    "\n",
    "# ani,_,_ = animate_sim_flux_qubit(all_state, system = simResult[\"cfqr\"].system ,\n",
    "#                                    times = time_range, frame_skip=frame_skip, color_by_state=True,\n",
    "#                                    vmin = vmin, vmax = vmax,\n",
    "#                                    manual_domain = manual_domain)"
   ]
  },
  {
   "cell_type": "code",
   "execution_count": null,
   "id": "6c7e914e-a421-420c-b28d-7319e0d67726",
   "metadata": {},
   "outputs": [],
   "source": [
    "# from IPython import display\n",
    "# video = ani.to_html5_video()\n",
    "# html = display.HTML(video)\n",
    "# display.display(html)"
   ]
  },
  {
   "cell_type": "code",
   "execution_count": null,
   "id": "18205e5a-f4dc-40be-a2da-d2a0faab1881",
   "metadata": {},
   "outputs": [],
   "source": []
  },
  {
   "cell_type": "markdown",
   "id": "75978de5-b688-4e63-b7c3-eb69de2e1053",
   "metadata": {},
   "source": [
    "# work analysis"
   ]
  },
  {
   "cell_type": "code",
   "execution_count": null,
   "id": "08b7c01a-0a06-443d-8830-001aa8ea02a5",
   "metadata": {},
   "outputs": [],
   "source": [
    "step_time_array = np.cumsum(np.array([x[\"duration\"] for x in protocol_list]))/params['dt']\n",
    "name_array = [x[\"name\"] for x in protocol_list]\n",
    "\n",
    "\n",
    "plt.hist(simResult[\"work_distribution\"], bins = 45)\n",
    "plt.show()\n",
    "jarzyn_term = np.mean(np.exp(-simResult[\"work_distribution\"]))\n",
    "cal_dF = -np.log(jarzyn_term)\n",
    "analytic_dF = 1/2 * np.log(k_f/k_i)\n",
    "print(f\"mean work = {np.mean(simResult['work_distribution'])}\")\n",
    "print(f'jarzyn = {jarzyn_term}')\n",
    "print(f'cal_∆F = {cal_dF}, analytic_df = {analytic_dF}')\n",
    "print([x[\"duration\"] for x in protocol_list])"
   ]
  },
  {
   "cell_type": "code",
   "execution_count": null,
   "id": "f3f25f76-33c7-4f3d-b6cb-ce590b437328",
   "metadata": {},
   "outputs": [],
   "source": []
  },
  {
   "cell_type": "code",
   "execution_count": null,
   "id": "4612a3dd-7dae-4fa0-b8cc-73f8b4398cf8",
   "metadata": {},
   "outputs": [],
   "source": []
  },
  {
   "cell_type": "code",
   "execution_count": null,
   "id": "fb77d333-4ec1-4e4b-b9a3-7581f0dd180f",
   "metadata": {},
   "outputs": [],
   "source": []
  },
  {
   "cell_type": "code",
   "execution_count": null,
   "id": "8e96788b-191c-4d4b-b4c0-3a26055fd3d6",
   "metadata": {},
   "outputs": [],
   "source": []
  }
 ],
 "metadata": {
  "kernelspec": {
   "display_name": "Python 3 (ipykernel)",
   "language": "python",
   "name": "python3"
  },
  "language_info": {
   "codemirror_mode": {
    "name": "ipython",
    "version": 3
   },
   "file_extension": ".py",
   "mimetype": "text/x-python",
   "name": "python",
   "nbconvert_exporter": "python",
   "pygments_lexer": "ipython3",
   "version": "3.10.9"
  }
 },
 "nbformat": 4,
 "nbformat_minor": 5
}
