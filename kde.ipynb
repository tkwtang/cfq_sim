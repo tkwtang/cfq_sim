{
 "cells": [
  {
   "cell_type": "code",
   "execution_count": 3,
   "id": "c55580cf",
   "metadata": {},
   "outputs": [
    {
     "name": "stderr",
     "output_type": "stream",
     "text": [
      "<frozen importlib._bootstrap>:219: RuntimeWarning: scipy._lib.messagestream.MessageStream size changed, may indicate binary incompatibility. Expected 56 from C header, got 64 from PyObject\n"
     ]
    },
    {
     "name": "stdout",
     "output_type": "stream",
     "text": [
      "[0.26954178 0.26954178 0.26954178 0.26954178] [1. 4. 1. 4.] [0.13103938 0.26207875 0.13103938 0.26207875]\n"
     ]
    }
   ],
   "source": [
    "import numpy as np\n",
    "from sus.protocol_designer import System, Protocol, Potential, Compound_Protocol\n",
    "from sus.protocol_designer.protocol import sequential_protocol\n",
    "from IPython import display\n",
    "from IPython.display import HTML\n",
    "from quick_sim import setup_sim\n",
    "from edward_tools.coupled_fq_potential import coupled_flux_qubit_pot, coupled_flux_qubit_force, coupled_fq_pot\n",
    "import edward_tools.fq_runner as fq_runner\n",
    "from edward_tools.visualization import animate_sim_flux_qubit\n",
    "\n",
    "import kyle_tools as kt\n",
    "import matplotlib.pyplot as plt\n",
    "\n",
    "import importlib, os\n",
    "from edward_tools import coupled_fq_protocol_library, cfq_runner\n",
    "\n",
    "\n",
    "from edward_tools import coupled_fq_protocol_library\n",
    "import edward_tools.cfq_batch_sweep as cfq_batch_sweep\n",
    "\n",
    "coupled_fq_protocol_library = importlib.reload(coupled_fq_protocol_library)\n",
    "create_system = coupled_fq_protocol_library.create_system\n",
    "get_potential_shot_at_different_t = coupled_fq_protocol_library.get_potential_shot_at_different_t\n",
    "get_potential_shot_at_different_t_1D = coupled_fq_protocol_library.get_potential_shot_at_different_t_1D\n",
    "create_simple_protocol_parameter_dict = coupled_fq_protocol_library.create_simple_protocol_parameter_dict\n",
    "create_system_from_storage_and_computation_protocol = coupled_fq_protocol_library.create_system_from_storage_and_computation_protocol\n",
    "coupled_fq_runner = importlib.reload(cfq_runner)\n",
    "coupled_fq_protocol_library = importlib.reload(coupled_fq_protocol_library)\n",
    "create_system = coupled_fq_protocol_library.create_system\n",
    "\n",
    "import numpy as np\n",
    "from sus.protocol_designer import System, Protocol, Potential, Compound_Protocol\n",
    "from sus.protocol_designer.protocol import sequential_protocol\n",
    "from IPython.display import HTML\n",
    "from quick_sim import setup_sim\n",
    "from edward_tools.coupled_fq_potential import coupled_flux_qubit_pot, coupled_flux_qubit_force, coupled_fq_pot\n",
    "from edward_tools.visualization import animate_sim_flux_qubit\n",
    "import kyle_tools as kt\n",
    "import matplotlib.pyplot as plt\n",
    "import importlib, os, hashlib, json\n",
    "from edward_tools import coupled_fq_protocol_library, cfq_runner\n",
    "\n",
    "base_path = \"coupled_flux_qubit_protocol/coupled_flux_qubit_initial_state/\"\n",
    "\n",
    "from edward_tools import coupled_fq_protocol_library\n",
    "coupled_fq_protocol_library = importlib.reload(coupled_fq_protocol_library)\n",
    "create_system = coupled_fq_protocol_library.create_system\n",
    "get_potential_shot_at_different_t = coupled_fq_protocol_library.get_potential_shot_at_different_t\n",
    "create_simple_protocol_parameter_dict = coupled_fq_protocol_library.create_simple_protocol_parameter_dict\n",
    "create_system_from_storage_and_computation_protocol = coupled_fq_protocol_library.create_system_from_storage_and_computation_protocol\n",
    "coupled_fq_runner = importlib.reload(cfq_runner)\n",
    "\n",
    "back_up_initial_state = None\n",
    "\n",
    "PHI_0 = 2.067833848 * 1e-15\n",
    "k_B = 1.38e-23\n",
    "T = 0.5\n",
    "k_BT = k_B * T\n",
    "time_scale_factor = 100\n",
    "\n",
    "prefactor = 1\n",
    "I_p_1, I_p_2 = 2e-6 * prefactor, 2e-6 * prefactor  # Amp\n",
    "I_m_1, I_m_2 = 0, 0                                # Amp\n",
    "R_1, R_2 = 371, 371                                # ohm\n",
    "C_1, C_2 = 4e-9, 4e-9                              # F\n",
    "L_1, L_2 = 1e-9, 1e-9                              # H\n",
    "\n",
    "quick_doubler = lambda x1, x2: np.hstack([np.array([x1] * 2), np.array([x2]*2)])\n",
    "I_p, I_m = quick_doubler(I_p_1, I_p_2), quick_doubler(I_m_1, I_m_2)\n",
    "R, L, C = quick_doubler(R_1, R_2), quick_doubler(L_1, L_2), quick_doubler(C_1, C_2)\n",
    "m = np.array([1, 1/4, 1, 1/4])\n",
    "nu = np.array([2, 1/2, 2, 1/2]) \n",
    "\n",
    "nu_c = 1/R\n",
    "t_c = time_scale_factor * np.sqrt(L * C)\n",
    "x_c0 = PHI_0 / (2 * np.pi)\n",
    "x_c = time_scale_factor * x_c0\n",
    "m_c = C\n",
    "U0_1, _, U0_2, _ = m_c * x_c**2 / t_c**2 / k_BT\n",
    "U0 = quick_doubler(U0_1, U0_2)\n",
    "keppa = np.array([1/U0_1, 1/U0_1, 1/U0_2, 1/U0_2])\n",
    "\n",
    "beta_1 = 2 * np.pi * L_1 * I_p_1 / PHI_0\n",
    "beta_2 = 2 * np.pi * L_2 * I_p_2 / PHI_0\n",
    "\n",
    "d_beta_1 = 2 * np.pi * L_1 * I_m_1 / PHI_0\n",
    "d_beta_2 = 2 * np.pi * L_2 * I_m_2 / PHI_0\n",
    "\n",
    "def get_lambda(m_c, nu_c, t_c, m, nu):\n",
    "    return nu_c * t_c * nu / (m * m_c)\n",
    "\n",
    "def get_theta(nu_c, U0, t_c, m_c, nu, keppa, m):\n",
    "    return U0 * k_BT * t_c**2 / (m * m_c * x_c**2)\n",
    "#     return 1/m\n",
    "\n",
    "def get_eta(nu_c, U0, t_c, m_c, nu, keppa, m):\n",
    "#     return np.sqrt(nu_c * U0 * t_c**3 * nu * keppa / x_c**2) / (m_c* m)\n",
    "    return np.sqrt(nu_c * nu * U0 * k_BT * keppa * t_c**3) / (m_c* m * x_c)\n",
    "#     return np.sqrt(_lambda * keppa / m)\n",
    "\n",
    "_lambda = get_lambda(m_c, nu_c, t_c, m, nu)\n",
    "_theta = get_theta(nu_c, U0, t_c, m_c, nu, keppa, m)\n",
    "_eta = get_eta(nu_c, U0, t_c, m_c, nu, keppa, m)\n",
    "\n",
    "params = {}\n",
    "params['N'] = 10_00\n",
    "params['dt'] = 1/1_000\n",
    "params['lambda'] = 1\n",
    "params['beta'] = 1\n",
    "params['sim_params'] = [_lambda, _theta, _eta]\n",
    "params['target_work'] = None\n",
    "print(_lambda, _theta, _eta)\n",
    "\n",
    "# step 1: import potential\n",
    "coupled_fq_default_param = [1, 1, 0, 0, 0, 0, 0, 0, 0, 0, 0, 0, 0, x_c0]\n",
    "[phi_1_bound, phi_2_bound, phi_1dc_bound, phi_2dc_bound] = np.array([4, 4, 4, 4])/time_scale_factor\n",
    "\n",
    "coupled_fq_domain = [[-phi_1_bound, -phi_2_bound, -phi_1dc_bound, -phi_2dc_bound], \\\n",
    "                     [phi_1_bound, phi_2_bound, phi_1dc_bound, phi_2dc_bound]]\n",
    "\n",
    "coupled_fq_pot = Potential(coupled_flux_qubit_pot, coupled_flux_qubit_force, 14, 4,\\\n",
    "                           default_params = coupled_fq_default_param,  relevant_domain = coupled_fq_domain)\n",
    "\n",
    "\n",
    "# step 2: define initial condition and protocol\n",
    "\n",
    "manual_domain=[np.array([-5, -5])/time_scale_factor, np.array([5, 5])/time_scale_factor]\n",
    "# phi_1_dcx, phi_2_dcx = 3, 3\n",
    "phi_1_dcx, phi_2_dcx = 0, 0\n",
    "phi_1_dc, phi_2_dc = phi_1_dcx, phi_2_dcx\n",
    "\n",
    "# gamma, beta_1, beta_2 = 0, 0, 0\n",
    "gamma = 20\n",
    "# d_beta_1, d_beta_2 = 0.6, 0.6\n",
    "d_beta_1, d_beta_2 = 0, 0\n",
    "params['sim_params'] = [_lambda, _theta, _eta]\n",
    "\n",
    "initial_parameter_dict = {\n",
    "        \"U0_1\": U0_1,     \"U0_2\": U0_2,     \"gamma_1\": gamma,  \"gamma_2\": gamma,\n",
    "        \"beta_1\": beta_1,   \"beta_2\": beta_2,   \"d_beta_1\": d_beta_1 ,   \"d_beta_2\": d_beta_2,\n",
    "        \"phi_1_x\": 0,  \"phi_2_x\": 0,  \"phi_1_dcx\": phi_1_dcx,  \"phi_2_dcx\": phi_2_dcx,\n",
    "        \"M_12\": 0, 'x_c': x_c\n",
    "}\n",
    "\n",
    "protocol_list = [\n",
    "        {\"duration\": 1, \"phi_2_dcx\": 3/time_scale_factor, \"name\": \"mix in y direction\"}, # mix in y direction\n",
    "#         {\"duration\": 7.5, \"phi_2_dcx\": 0, \"name\": \"return\"}, # return to initial state\n",
    "#     {\"duration\": 2, \"name\": \"mix in y direction (constant)\"},\n",
    "    {\"duration\": 1, \"M_12\": -0.9, \"name\": \"conditional tilt\"}, # conditional tilt\n",
    "    {\"duration\": 1, \"phi_2_dcx\": 0, \"name\": \"conditional tilt\"}, # conditional tilt\n",
    "    {\"duration\": 1, \"phi_2_dcx\": 0, \"M_12\": 0, \"name\": \"4 well potential (constant)\"}, # 4 well potential\n",
    "]\n",
    "\n",
    "\n",
    "# step 3: create the relevant storage protocol and computation protocol\n",
    "computation_protocol_parameter_dict = coupled_fq_protocol_library.customizedProtocol(initial_parameter_dict, \\\n",
    "                                                                    protocol_list)\n",
    "storage_protocol, comp_protocol = create_system(computation_protocol_parameter_dict)\n",
    "\n",
    "manual_domain=[np.array([-5, -5])/time_scale_factor, np.array([5, 5])/time_scale_factor]\n",
    "mapping_state_1_to_state_2_dict = {\"00\": [\"00\", \"10\"], \"01\": [\"00\", \"10\"], \"10\": [\"01\", \"11\"], \"11\": [\"01\", \"11\"]}\n",
    "\n",
    "\n",
    "\n",
    "# step 4: create the coupled_fq_runner\n",
    "cfqr = coupled_fq_runner.coupledFluxQubitRunner(potential = coupled_fq_pot, params = params, \\\n",
    "                                                storage_protocol= storage_protocol, \\\n",
    "                                                computation_protocol= comp_protocol)\n",
    "cfqr.initialize_sim()\n",
    "# cfqr.set_sim_attributes()\n",
    "# init_state_saved = cfqr.init_state"
   ]
  },
  {
   "cell_type": "code",
   "execution_count": 4,
   "id": "b0f82350",
   "metadata": {},
   "outputs": [],
   "source": []
  },
  {
   "cell_type": "code",
   "execution_count": 5,
   "id": "e62695ea",
   "metadata": {},
   "outputs": [],
   "source": []
  },
  {
   "cell_type": "code",
   "execution_count": 30,
   "id": "3332c847",
   "metadata": {},
   "outputs": [],
   "source": [
    "from sklearn.neighbors import KernelDensity\n",
    "import numpy as np\n",
    "kernel = \"tophat\"\n",
    "kernel = \"gaussian\"\n",
    "resolution = 50\n",
    "\n",
    "# tried to resolution = 10, 20, 50 and 100\n",
    "x_range = np.linspace(-4, 4, resolution)\n",
    "X, Y, Z, A = np.meshgrid(x_range, x_range, x_range, x_range)\n",
    "meshgrid = np.transpose([X.ravel(), Y.ravel(), Z.ravel(), A.ravel()])\n",
    "\n",
    "\n",
    "params = cfqr.protocol.get_params(0)\n",
    "weight = np.exp(-cfqr.potential.potential(*meshgrid.T, params=params))\n",
    "\n",
    "bandwidthArray = [0.2, 0.5, 1.0, 2.0]\n",
    "kdeArray = [KernelDensity(kernel=kernel, bandwidth=_bandwidth).fit(meshgrid, weight) for \\\n",
    "           _bandwidth in bandwidthArray]\n",
    "\n",
    "sampleArray = [_kde.sample(10000) for _kde in kdeArray]\n",
    "# kde = KernelDensity(kernel='gaussian', bandwidth=2).fit(meshgrid, weight)"
   ]
  },
  {
   "cell_type": "code",
   "execution_count": 31,
   "id": "0dc20706",
   "metadata": {},
   "outputs": [
    {
     "name": "stdout",
     "output_type": "stream",
     "text": [
      "CPU times: user 53min 26s, sys: 16.9 s, total: 53min 43s\n",
      "Wall time: 1h 2min 59s\n"
     ]
    }
   ],
   "source": [
    "%%time\n",
    "score_0 = kdeArray[0].score_samples(sampleArray[0])\n",
    "probability_kde_model_0 = np.exp(score_0)"
   ]
  },
  {
   "cell_type": "code",
   "execution_count": null,
   "id": "a78fd5ed",
   "metadata": {},
   "outputs": [],
   "source": [
    "%%time\n",
    "score_1 = kdeArray[1].score_samples(sampleArray[1])\n",
    "probability_kde_model_1 = np.exp(score_1)\n"
   ]
  },
  {
   "cell_type": "code",
   "execution_count": null,
   "id": "f8d63009",
   "metadata": {},
   "outputs": [],
   "source": [
    "%%time\n",
    "score_2 = kdeArray[2].score_samples(sampleArray[2])\n",
    "probability_kde_model_2 = np.exp(score_2)"
   ]
  },
  {
   "cell_type": "code",
   "execution_count": null,
   "id": "b0e0ab9e",
   "metadata": {},
   "outputs": [],
   "source": [
    "%%time\n",
    "score_3 = kdeArray[3].score_samples(sampleArray[3])\n",
    "probability_kde_model_3 = np.exp(score_3)\n",
    "# score_2 = kde.score(samples)"
   ]
  },
  {
   "cell_type": "code",
   "execution_count": null,
   "id": "c65c3cd3",
   "metadata": {},
   "outputs": [],
   "source": [
    "%%time\n",
    "# score_samples function: To compute the log-likelihood of each sample under the model\n",
    "# evaluate the probability of each sample by the model\n",
    "# 10 -> 31.6ms, 20 -> 6.53 s, 50 -> 6min 34s, 100 -> ??? for bandwidth = 0.5 (for gaussian)\n",
    "\n",
    "# 10 -> 76.6 ms, 20 -> 52.4 ms, 50 -> 296 ms for bandwidth = 0.2 (for tophat)\n",
    "# 10 -> 81.4 ms, 20 -> 174 ms,  50 -> 1.38 s for bandwidth = 0.5 (for tophat)\n",
    "# 10 -> 142  ms, 20 -> 495 ms,  50 -> 7.68 s for bandwidth = 1.0 (for tophat)\n",
    "# 10 -> 340  ms, 20 -> 2.21 ms, 50 -> 58.1 s for bandwidth = 2.0 (for tophat)\n",
    "\n",
    "# 10 -> 1.81 s, 20 -> 28.1 s, 50 -> 296 ms for bandwidth = 0.2 (for gaussian)\n",
    "# 10 -> 2.26 s, 20 -> 33.9 s,  50 -> 1.38 s for bandwidth = 0.5 (for gaussian)\n",
    "# 10 -> 3.44 s, 20 -> 53.2 s,  50 -> 7.68 s for bandwidth = 1.0 (for gaussian)\n",
    "# 10 -> 3.63 s, 20 -> 58 s, 50 -> 58.1 s for bandwidth = 2.0 (for gaussian)\n"
   ]
  },
  {
   "cell_type": "code",
   "execution_count": null,
   "id": "444b5d08",
   "metadata": {},
   "outputs": [],
   "source": [
    "def plotEstimation(kernel, resolution, samples, bandwidthArray):\n",
    "    fig, ax = plt.subplots(4, 4, figsize=(18,11))\n",
    "    fig.suptitle(f\"{kernel}, resolution={resolution}\", fontsize=16)\n",
    "    plt.subplots_adjust(bottom=0.2)\n",
    "\n",
    "    \n",
    "    for i, _sample in enumerate(samples):\n",
    "        ax[i][0].hist(_sample[:, 0], 100)\n",
    "        ax[i][0].title.set_text(f'phi_1 ({bandwidthArray[i]})')\n",
    "\n",
    "        ax[i][1].hist(_sample[:, 1], 100)\n",
    "        ax[i][1].title.set_text(f'phi_1_dc ({bandwidthArray[i]})')\n",
    "\n",
    "        ax[i][2].hist(_sample[:, 2], 100)\n",
    "        ax[i][2].title.set_text(f'phi_2 ({bandwidthArray[i]})')\n",
    "\n",
    "        ax[i][3].hist(_sample[:, 3], 100)\n",
    "        ax[i][3].title.set_text(f'phi_2_dc ({bandwidthArray[i]})')\n",
    "    fig.tight_layout() \n",
    "    plt.savefig(f\"{kernel}, resolution={resolution}.png\")\n",
    "    plt.show()\n"
   ]
  },
  {
   "cell_type": "code",
   "execution_count": null,
   "id": "2a4d19fa",
   "metadata": {},
   "outputs": [],
   "source": [
    "plotEstimation(kernel, resolution, sampleArray, bandwidthArray)"
   ]
  },
  {
   "cell_type": "code",
   "execution_count": 2,
   "id": "24eb876b",
   "metadata": {},
   "outputs": [],
   "source": [
    "import numpy as np"
   ]
  },
  {
   "cell_type": "code",
   "execution_count": 3,
   "id": "97fe89bb",
   "metadata": {},
   "outputs": [],
   "source": [
    "work_dist = np.load(\"coupled_flux_qubit_protocol/coupled_flux_qubit_data_gallery/69dcb56fcb42134bd027f6a7b784c57a6ebb4081879f52c2302e6d2881f49e37_work_distribution.npy\")"
   ]
  },
  {
   "cell_type": "code",
   "execution_count": 8,
   "id": "20abe354",
   "metadata": {},
   "outputs": [
    {
     "data": {
      "text/plain": [
       "252121.12150064562"
      ]
     },
     "execution_count": 8,
     "metadata": {},
     "output_type": "execute_result"
    }
   ],
   "source": [
    "np.mean(np.exp(-work_dist*15.697209423173168))"
   ]
  },
  {
   "cell_type": "code",
   "execution_count": null,
   "id": "e2cc786f",
   "metadata": {},
   "outputs": [],
   "source": []
  }
 ],
 "metadata": {
  "kernelspec": {
   "display_name": "Python 3",
   "language": "python",
   "name": "python3"
  },
  "language_info": {
   "codemirror_mode": {
    "name": "ipython",
    "version": 3
   },
   "file_extension": ".py",
   "mimetype": "text/x-python",
   "name": "python",
   "nbconvert_exporter": "python",
   "pygments_lexer": "ipython3",
   "version": "3.8.5"
  }
 },
 "nbformat": 4,
 "nbformat_minor": 5
}
