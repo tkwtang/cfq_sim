{
 "cells": [
  {
   "cell_type": "code",
   "execution_count": 1,
   "id": "03c2ddb7",
   "metadata": {},
   "outputs": [],
   "source": [
    "import numpy as np\n",
    "import matplotlib.pyplot as plt"
   ]
  },
  {
   "cell_type": "code",
   "execution_count": 10,
   "id": "77e9f44d",
   "metadata": {},
   "outputs": [
    {
     "data": {
      "image/png": "[encoded data removed]",
      "text/plain": [
       "<Figure size 432x288 with 1 Axes>"
      ]
     },
     "metadata": {
      "needs_background": "light"
     },
     "output_type": "display_data"
    }
   ],
   "source": [
    "dist = np.load(\"6d5f7a268a45ac832b73a1dea77a5412ae6442db74357d3df042f1a939fbbe61_work_distribution.npy\")\n",
    "\n",
    "plt.hist(dist, bins = 100)\n",
    "\n",
    "plt.show()"
   ]
  },
  {
   "cell_type": "code",
   "execution_count": 11,
   "id": "bbf5ed22",
   "metadata": {},
   "outputs": [],
   "source": [
    "def MFT_check(dist, target_work, upper_limit = 12, lower_limit = -12, number_of_bins = 50):\n",
    "    # 1. define the positive and negative distribution\n",
    "    positive_dist = dist[dist >= 0]\n",
    "    negative_dist = dist[dist < 0]\n",
    "    \n",
    "    # 2. define the bins for positive and negative dist\n",
    "    t_range = np.linspace(lower_limit, upper_limit, 200)\n",
    "    p_range = np.linspace(0, upper_limit, number_of_bins)\n",
    "    n_range = np.linspace(lower_limit, 0, number_of_bins)\n",
    "    \n",
    "    # 3. find the bins and counts for the +ve and -ve dist\n",
    "    positive_counts, positive_bins = np.histogram(positive_dist, bins = p_range)\n",
    "    negative_counts, negative_bins = np.histogram(negative_dist, bins = n_range)\n",
    "    \n",
    "    # 4. find the counts for the target work you want to compare\n",
    "    p_target_bin_index = np.where(p_range >= target_work)[0][0]\n",
    "    n_target_bin_index = np.where(n_range <= -target_work)[0][-1]\n",
    "    p_target_bin_value = positive_bins[p_target_bin_index]\n",
    "    n_target_bin_value = negative_bins[n_target_bin_index]\n",
    "    p_target_count = positive_counts[p_target_bin_index]\n",
    "    n_target_count = negative_counts[n_target_bin_index]\n",
    "    \n",
    "    print(f\"the number of count in the bin value {p_target_bin_value}: {p_target_count}\")\n",
    "    print(f\"the number of count in the bin value {n_target_bin_value}: {n_target_count}\")\n",
    "\n",
    "    # 5. find the probability of p(+W) and p(-W) * exp(W)\n",
    "    \n",
    "    total_number = len(dist)\n",
    "    prob_p_W = p_target_count / total_number\n",
    "    prob_n_W = n_target_count / total_number\n",
    "    LHS = prob_p_W\n",
    "    RHS = prob_n_W * np.exp(target_work)\n",
    "    print(f\"work = {target_work}\")\n",
    "    print(f\"LHS [p(+W)] = {LHS}\")\n",
    "    print(f\"RHS [p(-W) * exp(W)] = {RHS}\")\n",
    "    print(\"-\" * 20)\n",
    "    return (LHS, RHS)"
   ]
  },
  {
   "cell_type": "code",
   "execution_count": 12,
   "id": "890eb48f",
   "metadata": {},
   "outputs": [
    {
     "name": "stdout",
     "output_type": "stream",
     "text": [
      "the number of count in the bin value 5.877551020408163: 46\n",
      "the number of count in the bin value -5.877551020408164: 0\n",
      "work = 5.7173943851194124\n",
      "LHS [p(+W)] = 0.00046\n",
      "RHS [p(-W) * exp(W)] = 0.0\n",
      "--------------------\n",
      "the number of count in the bin value 0.4897959183673469: 10654\n",
      "the number of count in the bin value -0.4897959183673475: 2195\n",
      "work = 0.29196836598717857\n",
      "LHS [p(+W)] = 0.10654\n",
      "RHS [p(-W) * exp(W)] = 0.029392381423504907\n",
      "--------------------\n",
      "the number of count in the bin value 1.9591836734693877: 5127\n",
      "the number of count in the bin value -1.9591836734693882: 30\n",
      "work = 1.956186471789502\n",
      "LHS [p(+W)] = 0.05127\n",
      "RHS [p(-W) * exp(W)] = 0.002121691541491976\n",
      "--------------------\n",
      "the number of count in the bin value 4.8979591836734695: 190\n",
      "the number of count in the bin value -4.8979591836734695: 0\n",
      "work = 4.762552345879605\n",
      "LHS [p(+W)] = 0.0019\n",
      "RHS [p(-W) * exp(W)] = 0.0\n",
      "--------------------\n",
      "the number of count in the bin value 8.816326530612244: 0\n",
      "the number of count in the bin value -8.816326530612244: 0\n",
      "work = 8.652040151964865\n",
      "LHS [p(+W)] = 0.0\n",
      "RHS [p(-W) * exp(W)] = 0.0\n",
      "--------------------\n",
      "the number of count in the bin value 11.020408163265305: 0\n",
      "the number of count in the bin value -11.020408163265307: 0\n",
      "work = 10.837587310678618\n",
      "LHS [p(+W)] = 0.0\n",
      "RHS [p(-W) * exp(W)] = 0.0\n",
      "--------------------\n",
      "the number of count in the bin value 0.24489795918367346: 8916\n",
      "the number of count in the bin value -0.24489795918367463: 3911\n",
      "work = 0.11187237614662626\n",
      "LHS [p(+W)] = 0.08916\n",
      "RHS [p(-W) * exp(W)] = 0.04373945542575586\n",
      "--------------------\n",
      "the number of count in the bin value 9.306122448979592: 0\n",
      "the number of count in the bin value -9.306122448979592: 0\n",
      "work = 9.261139403038449\n",
      "LHS [p(+W)] = 0.0\n",
      "RHS [p(-W) * exp(W)] = 0.0\n",
      "--------------------\n",
      "the number of count in the bin value 5.63265306122449: 63\n",
      "the number of count in the bin value -5.63265306122449: 0\n",
      "work = 5.456104240825811\n",
      "LHS [p(+W)] = 0.00063\n",
      "RHS [p(-W) * exp(W)] = 0.0\n",
      "--------------------\n",
      "the number of count in the bin value 10.53061224489796: 0\n",
      "the number of count in the bin value -10.53061224489796: 0\n",
      "work = 10.475274980847345\n",
      "LHS [p(+W)] = 0.0\n",
      "RHS [p(-W) * exp(W)] = 0.0\n",
      "--------------------\n"
     ]
    }
   ],
   "source": [
    "for x in np.random.uniform(0, 12, 10):\n",
    "    MFT_check(dist, x, number_of_bins = 50)"
   ]
  },
  {
   "cell_type": "code",
   "execution_count": null,
   "id": "f31a7a51",
   "metadata": {},
   "outputs": [],
   "source": []
  }
 ],
 "metadata": {
  "kernelspec": {
   "display_name": "Python 3",
   "language": "python",
   "name": "python3"
  },
  "language_info": {
   "codemirror_mode": {
    "name": "ipython",
    "version": 3
   },
   "file_extension": ".py",
   "mimetype": "text/x-python",
   "name": "python",
   "nbconvert_exporter": "python",
   "pygments_lexer": "ipython3",
   "version": "3.8.5"
  }
 },
 "nbformat": 4,
 "nbformat_minor": 5
}
