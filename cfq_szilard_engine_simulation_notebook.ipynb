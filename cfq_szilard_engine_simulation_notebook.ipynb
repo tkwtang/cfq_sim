{
 "cells": [
  {
   "cell_type": "code",
   "execution_count": null,
   "id": "0ca92511",
   "metadata": {},
   "outputs": [],
   "source": [
    "import numpy as np\n",
    "from sus.protocol_designer import System, Protocol, Potential, Compound_Protocol\n",
    "from sus.protocol_designer.protocol import sequential_protocol\n",
    "from IPython import display\n",
    "from IPython.display import HTML\n",
    "from quick_sim import setup_sim\n",
    "from edward_tools.coupled_fq_potential import coupled_flux_qubit_pot, coupled_flux_qubit_force, coupled_fq_pot\n",
    "import edward_tools.fq_runner as fq_runner\n",
    "from edward_tools.visualization import animate_sim_flux_qubit\n",
    "\n",
    "import kyle_tools as kt\n",
    "import matplotlib.pyplot as plt\n",
    "\n",
    "import importlib, os\n",
    "from edward_tools import coupled_fq_protocol_library, cfq_runner\n",
    "from PARAMETER_INPUT import *\n",
    "from PARAMETER_INPUT import _lambda, _theta, _eta\n",
    "\n",
    "from edward_tools import coupled_fq_protocol_library\n",
    "import edward_tools.cfq_batch_sweep as cfq_batch_sweep\n",
    "\n",
    "coupled_fq_protocol_library = importlib.reload(coupled_fq_protocol_library)\n",
    "create_system = coupled_fq_protocol_library.create_system\n",
    "get_potential_shot_at_different_t = coupled_fq_protocol_library.get_potential_shot_at_different_t\n",
    "get_potential_shot_at_different_t_1D = coupled_fq_protocol_library.get_potential_shot_at_different_t_1D\n",
    "create_simple_protocol_parameter_dict = coupled_fq_protocol_library.create_simple_protocol_parameter_dict\n",
    "create_system_from_storage_and_computation_protocol = coupled_fq_protocol_library.create_system_from_storage_and_computation_protocol\n",
    "coupled_fq_runner = importlib.reload(cfq_runner)\n",
    "coupled_fq_protocol_library = importlib.reload(coupled_fq_protocol_library)\n",
    "create_system = coupled_fq_protocol_library.create_system\n"
   ]
  },
  {
   "cell_type": "code",
   "execution_count": null,
   "id": "8e115ea5",
   "metadata": {},
   "outputs": [],
   "source": []
  },
  {
   "cell_type": "markdown",
   "id": "4f66bbe7",
   "metadata": {},
   "source": [
    "# 4. Szilard engine test"
   ]
  },
  {
   "cell_type": "code",
   "execution_count": null,
   "id": "68ea9f08",
   "metadata": {},
   "outputs": [],
   "source": [
    "import numpy as np\n",
    "from sus.protocol_designer import System, Protocol, Potential, Compound_Protocol\n",
    "from sus.protocol_designer.protocol import sequential_protocol\n",
    "from IPython.display import HTML\n",
    "from quick_sim import setup_sim\n",
    "from edward_tools.coupled_fq_potential import coupled_flux_qubit_pot, coupled_flux_qubit_force, coupled_fq_pot\n",
    "from edward_tools.visualization import animate_sim_flux_qubit\n",
    "import kyle_tools as kt\n",
    "import matplotlib.pyplot as plt\n",
    "import importlib, os, hashlib, json\n",
    "from edward_tools import coupled_fq_protocol_library, cfq_runner"
   ]
  },
  {
   "cell_type": "code",
   "execution_count": null,
   "id": "4d4481b6",
   "metadata": {},
   "outputs": [],
   "source": [
    "# from edward_tools import coupled_fq_protocol_library\n",
    "# coupled_fq_protocol_library = importlib.reload(coupled_fq_protocol_library)\n",
    "# create_system = coupled_fq_protocol_library.create_system\n",
    "# get_potential_shot_at_different_t = coupled_fq_protocol_library.get_potential_shot_at_different_t\n",
    "# create_simple_protocol_parameter_dict = coupled_fq_protocol_library.create_simple_protocol_parameter_dict\n",
    "# create_system_from_storage_and_computation_protocol = coupled_fq_protocol_library.create_system_from_storage_and_computation_protocol\n",
    "# coupled_fq_runner = importlib.reload(cfq_runner)\n"
   ]
  },
  {
   "cell_type": "code",
   "execution_count": null,
   "id": "cbeb086e",
   "metadata": {},
   "outputs": [],
   "source": [
    "\"\"\"\n",
    "# step 0: modify parameters\n",
    "- All the parameters are stored in a separate file PARAMETER_INPUT\n",
    "- You can override some of the parameters here.\n",
    "\"\"\"\n",
    "params['N'] = 1_00\n",
    "params['dt'] = 1.0/1_0\n",
    "\n",
    "\n",
    "zeroDissipation = False\n",
    "if zeroDissipation:\n",
    "    _lambda = _lambda * 0\n",
    "    _eta = _eta * 0\n"
   ]
  },
  {
   "cell_type": "code",
   "execution_count": null,
   "id": "1290dead",
   "metadata": {},
   "outputs": [],
   "source": [
    "\"\"\"\n",
    "# step 1: Define potential\n",
    "\"\"\"\n",
    "coupled_fq_default_param = [1, 1, 0, 0, 0, 0, 0, 0, 0, 0, 0, 0, 0, x_c0]\n",
    "[phi_1_bound, phi_2_bound, phi_1dc_bound, phi_2dc_bound] = np.array([4, 4, 4, 4])/time_scale_factor\n",
    "\n",
    "coupled_fq_domain = [[-phi_1_bound, -phi_2_bound, -phi_1dc_bound, -phi_2dc_bound], \\\n",
    "                     [phi_1_bound, phi_2_bound, phi_1dc_bound, phi_2dc_bound]]\n",
    "\n",
    "coupled_fq_pot = Potential(coupled_flux_qubit_pot, coupled_flux_qubit_force, 14, 4,\\\n",
    "                           default_params = coupled_fq_default_param,  relevant_domain = coupled_fq_domain)"
   ]
  },
  {
   "cell_type": "code",
   "execution_count": null,
   "id": "020e7dfb",
   "metadata": {},
   "outputs": [],
   "source": [
    "\"\"\"\n",
    "# step 2: Define initial condition and protocol\n",
    "\"\"\"\n",
    "manual_domain=[np.array([-5, -5]), np.array([5, 5])]\n",
    "# phi_1_dcx, phi_2_dcx = 3, 3\n",
    "phi_1_dcx, phi_2_dcx = 0, 0\n",
    "phi_1_dc, phi_2_dc = phi_1_dcx, phi_2_dcx\n",
    "\n",
    "# gamma, beta_1, beta_2 = 0, 0, 0\n",
    "gamma = 20\n",
    "# d_beta_1, d_beta_2 = 0.6, 0.6\n",
    "d_beta_1, d_beta_2 = 0, 0\n",
    "params['sim_params'] = [_lambda, _theta, _eta]\n",
    "\n",
    "# this is the initial parameter used\n",
    "initial_parameter_dict = {\n",
    "        \"U0_1\": U0_1,     \"U0_2\": U0_2,     \"gamma_1\": gamma,  \"gamma_2\": gamma,\n",
    "        \"beta_1\": beta_1,   \"beta_2\": beta_2,   \"d_beta_1\": d_beta_1 ,   \"d_beta_2\": d_beta_2,\n",
    "        \"phi_1_x\": 0,  \"phi_2_x\": 0,  \"phi_1_dcx\": phi_1_dcx,  \"phi_2_dcx\": phi_2_dcx,\n",
    "        \"M_12\": 0, 'x_c': x_c\n",
    "}\n",
    "\n",
    "\n",
    "# Time symmetric protocol\n",
    "# THis part is how you change the protocol. You can specify each substep by duration, the variables you want to \n",
    "# change and the name of the substep.\n",
    "protocol_list = [\n",
    "    {\"duration\":200,\"phi_2_dcx\":2.9,\"name\":\"mix in y direction\"},\n",
    "    {\"duration\":100,\"name\":\"fix\"},\n",
    "    {\"duration\":200,\"M_12\":-0.05,\"name\":\"conditional tilt\"},\n",
    "    {\"duration\":100,\"name\":\"fix\"},\n",
    "    {\"duration\":200,\"phi_2_dcx\":0,\"name\":\"raise the barrier\"},\n",
    "    {\"duration\":100,\"name\":\"fix\"},\n",
    "    {\"duration\":200,\"M_12\":0,\"name\":\"4 well potential (constant)\"},\n",
    "    {\"duration\":100,\"name\":\"fix\"},\n",
    "    {\"duration\":200,\"phi_1_dcx\":2.9,\"name\":\"mix in x direction\"},\n",
    "    {\"duration\":100,\"name\":\"fix\"},\n",
    "    {\"duration\":200,\"phi_1_dcx\":0,\"M_12\":0,\"name\":\"4 well potential \"},\n",
    "    {\"duration\":100,\"name\":\"4 well potential (constant)\"}\n",
    "]"
   ]
  },
  {
   "cell_type": "code",
   "execution_count": null,
   "id": "a45c7dd1",
   "metadata": {},
   "outputs": [],
   "source": [
    "\n",
    "\"\"\"\n",
    "# step 3: create the relevant storage protocol and computation protocol\n",
    "\"\"\"\n",
    "computation_protocol_parameter_dict = coupled_fq_protocol_library.customizedProtocol(initial_parameter_dict, \\\n",
    "                                                                    protocol_list)\n",
    "storage_protocol, comp_protocol = create_system(computation_protocol_parameter_dict)"
   ]
  },
  {
   "cell_type": "code",
   "execution_count": null,
   "id": "5bfd3ed3",
   "metadata": {},
   "outputs": [],
   "source": [
    "\"\"\"\n",
    "# step 4: create the coupled_fq_runner\n",
    "\"\"\"\n",
    "cfqr = cfq_runner.coupledFluxQubitRunner(potential = coupled_fq_pot, params = params, \\\n",
    "                                                storage_protocol= storage_protocol, \\\n",
    "                                                computation_protocol= comp_protocol)\n",
    "cfqr.initialize_sim()\n",
    "cfqr.set_sim_attributes()\n",
    "init_state_saved = cfqr.init_state"
   ]
  },
  {
   "cell_type": "code",
   "execution_count": null,
   "id": "246bb6fe",
   "metadata": {},
   "outputs": [],
   "source": []
  },
  {
   "cell_type": "code",
   "execution_count": null,
   "id": "325993fe",
   "metadata": {},
   "outputs": [],
   "source": [
    "manual_domain=[np.array([-5, -5])/time_scale_factor, np.array([5, 5])/time_scale_factor]\n",
    "mapping_state_1_to_state_2_dict = {\"00\": [\"00\", \"10\"], \"01\": [\"00\", \"10\"], \"10\": [\"01\", \"11\"], \"11\": [\"01\", \"11\"]}"
   ]
  },
  {
   "cell_type": "code",
   "execution_count": null,
   "id": "7199d4b0",
   "metadata": {},
   "outputs": [],
   "source": [
    "# step 5: perform simulations\n",
    "\n",
    "simResult = cfq_batch_sweep.simulateSingleCoupledFluxQubit(params, initial_parameter_dict, protocol_list, \\\n",
    "                                        initial_state = init_state_saved, manual_domain = manual_domain, \\\n",
    "                                        phi_1_dcx = phi_1_dcx,  phi_2_dcx = phi_2_dcx)\n",
    "\n",
    "cfqr = simResult[\"cfqr\"]"
   ]
  },
  {
   "cell_type": "code",
   "execution_count": null,
   "id": "5458827d",
   "metadata": {},
   "outputs": [],
   "source": [
    "len(simResult[\"work_distribution\"])"
   ]
  },
  {
   "cell_type": "code",
   "execution_count": null,
   "id": "ecd26e29",
   "metadata": {},
   "outputs": [],
   "source": [
    "# display work distribution\n",
    "\n",
    "plt.hist(simResult[\"work_distribution\"], bins = 45)\n",
    "plt.show()\n",
    "jarzyn_term = np.mean(np.exp(-simResult[\"work_distribution\"]))\n",
    "print(f'jarzyn = {jarzyn_term}')"
   ]
  },
  {
   "cell_type": "code",
   "execution_count": null,
   "id": "62dfdf57",
   "metadata": {},
   "outputs": [],
   "source": [
    "step_array = np.arange(simResult[\"work_statistic\"][:,0].shape[0])\n",
    "skip_step = int(len(step_array) * 0.05)\n",
    "work_mean = simResult[\"work_statistic\"][:,0]\n",
    "work_std = simResult[\"work_statistic\"][:,1]\n",
    "\n",
    "\n",
    "plt.errorbar(step_array[::skip_step], work_mean[::skip_step], yerr = work_std[::skip_step])\n",
    "\n",
    "# plt.errorbar(work_avg, work_error)"
   ]
  },
  {
   "cell_type": "markdown",
   "id": "bc97eeea",
   "metadata": {},
   "source": [
    "# M analysis"
   ]
  },
  {
   "cell_type": "code",
   "execution_count": null,
   "id": "5e48ef25",
   "metadata": {},
   "outputs": [],
   "source": [
    "M_12_value = protocol_list[2][\"M_12\"]\n",
    "average_work = work_mean[-1]\n",
    "fidelity_data = simResult[\"fidelity\"]\n",
    "\n",
    "saveData = {\n",
    "    \"M_12\":         M_12_value,\n",
    "    \"fidelity\":     fidelity_data,\n",
    "    \"average_work\": average_work,\n",
    "    \"jarzyn_term\":  jarzyn_term\n",
    "}\n",
    "\n",
    "json_path = \"coupled_flux_qubit_protocol/M_analysis.json\"\n",
    "with open(json_path) as f:\n",
    "    jsonData = json.load(f)\n",
    "    jsonData.append(saveData)\n",
    "    with open(json_path, \"w+\") as fw:\n",
    "        json.dump(saveData, fw)"
   ]
  },
  {
   "cell_type": "code",
   "execution_count": null,
   "id": "3d0252de",
   "metadata": {},
   "outputs": [],
   "source": [
    "simResult[\"fidelity\"]"
   ]
  },
  {
   "cell_type": "markdown",
   "id": "de9ddccd",
   "metadata": {},
   "source": [
    "# dt_analysis"
   ]
  },
  {
   "cell_type": "code",
   "execution_count": null,
   "id": "f5526a0c",
   "metadata": {},
   "outputs": [],
   "source": [
    "import csv\n",
    "sim_time = simResult[\"simulation_data\"][\"simulation_time\"]\n",
    "\n",
    "# with open('dt_data.csv', 'a+', newline='') as csvfile:\n",
    "#     writer = csv.writer(csvfile)\n",
    "#     writer.writerow([\"dt\", \"N\", \"jarzyn_term\", \"avg_work\", \"simulation_time\"])\n",
    "#     writer.writerow([params[\"dt\"], params[\"N\"], jarzyn_term, average_work, sim_time])"
   ]
  },
  {
   "cell_type": "code",
   "execution_count": null,
   "id": "1af3a322",
   "metadata": {},
   "outputs": [],
   "source": [
    "# from IPython.display import HTML\n",
    "from IPython import display\n",
    "video = simResult['ani'].to_html5_video()\n",
    "html = display.HTML(video)\n",
    "display.display(html)"
   ]
  },
  {
   "cell_type": "code",
   "execution_count": null,
   "id": "7869cc5b",
   "metadata": {},
   "outputs": [],
   "source": []
  },
  {
   "cell_type": "code",
   "execution_count": null,
   "id": "16b3f17a",
   "metadata": {},
   "outputs": [],
   "source": [
    "# step 6: save the results\n",
    "\n",
    "cfq_batch_sweep.saveSimulationResult(simResult, U0_1, timeOrStep = 'step', save = True, save_final_state = True)"
   ]
  },
  {
   "cell_type": "code",
   "execution_count": null,
   "id": "3e93883e",
   "metadata": {},
   "outputs": [],
   "source": [
    "import csv\n",
    "import pandas as pd"
   ]
  },
  {
   "cell_type": "code",
   "execution_count": null,
   "id": "173d9ec4",
   "metadata": {},
   "outputs": [],
   "source": [
    "df = pd.read_csv(\"dt_data.csv\")"
   ]
  },
  {
   "cell_type": "code",
   "execution_count": null,
   "id": "237a3cb5",
   "metadata": {},
   "outputs": [],
   "source": [
    "N = 10000\n",
    "df_N = df[df['N'] == N]\n",
    "dt_data = df_N[\"dt\"]\n",
    "jarzyn_term_data = df_N[\"jarzyn_term\"]\n",
    "avg_work_data = df_N[\"avg_work\"]\n",
    "simulation_time_data = df_N[\"simulation_time\"]"
   ]
  },
  {
   "cell_type": "code",
   "execution_count": null,
   "id": "43169aa6",
   "metadata": {},
   "outputs": [],
   "source": [
    "fig, ax = plt.subplots(1, 3, figsize=(20,4))\n",
    "fig.suptitle(f\"N = {N}\", fontsize=20, y=1.05)\n",
    "\n",
    "ax[0].plot(dt_data, jarzyn_term_data, \"x\", markersize= 10)\n",
    "# ax[0].set_ylabel(\"jarzyn_term\", font)\n",
    "ax[0].set_xscale(\"log\")\n",
    "ax[0].set_title('dt vs Jarzyn_term', fontsize=15)\n",
    "\n",
    "ax[1].plot(dt_data, avg_work_data, \"x\", markersize= 10)\n",
    "ax[1].set_xscale(\"log\")\n",
    "ax[1].set_title('dt vs avg work', fontsize=15)\n",
    "\n",
    "ax[2].plot(dt_data, simulation_time_data, \"x\", markersize= 10)\n",
    "ax[2].set_xscale(\"log\")\n",
    "ax[2].set_title('dt vs sim time (s)', fontsize=15)\n",
    "\n",
    "plt.show()"
   ]
  },
  {
   "cell_type": "code",
   "execution_count": null,
   "id": "ce9d7c9a",
   "metadata": {},
   "outputs": [],
   "source": []
  }
 ],
 "metadata": {
  "language_info": {
   "name": "python"
  }
 },
 "nbformat": 4,
 "nbformat_minor": 5
}
