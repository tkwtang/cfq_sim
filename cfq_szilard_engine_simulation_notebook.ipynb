{
 "cells": [
  {
   "cell_type": "code",
   "execution_count": 11,
   "id": "07447e29",
   "metadata": {},
   "outputs": [],
   "source": [
    "import numpy as np\n",
    "from sus.protocol_designer import System, Protocol, Potential, Compound_Protocol\n",
    "from sus.protocol_designer.protocol import sequential_protocol\n",
    "from IPython import display\n",
    "from IPython.display import HTML\n",
    "from quick_sim import setup_sim\n",
    "from edward_tools.coupled_fq_potential import coupled_flux_qubit_pot, coupled_flux_qubit_force, coupled_fq_pot\n",
    "import edward_tools.fq_runner as fq_runner\n",
    "from edward_tools.visualization import animate_sim_flux_qubit\n",
    "\n",
    "import kyle_tools as kt\n",
    "import matplotlib.pyplot as plt\n",
    "\n",
    "import importlib, os\n",
    "from edward_tools import coupled_fq_protocol_library, cfq_runner\n",
    "from PARAMETER_INPUT import *\n",
    "from PARAMETER_INPUT import _lambda, _theta, _eta\n",
    "\n",
    "from edward_tools import coupled_fq_protocol_library\n",
    "import edward_tools.cfq_batch_sweep as cfq_batch_sweep\n",
    "\n",
    "coupled_fq_protocol_library = importlib.reload(coupled_fq_protocol_library)\n",
    "create_system = coupled_fq_protocol_library.create_system\n",
    "get_potential_shot_at_different_t = coupled_fq_protocol_library.get_potential_shot_at_different_t\n",
    "get_potential_shot_at_different_t_1D = coupled_fq_protocol_library.get_potential_shot_at_different_t_1D\n",
    "create_simple_protocol_parameter_dict = coupled_fq_protocol_library.create_simple_protocol_parameter_dict\n",
    "create_system_from_storage_and_computation_protocol = coupled_fq_protocol_library.create_system_from_storage_and_computation_protocol\n",
    "coupled_fq_runner = importlib.reload(cfq_runner)\n",
    "coupled_fq_protocol_library = importlib.reload(coupled_fq_protocol_library)\n",
    "create_system = coupled_fq_protocol_library.create_system\n"
   ]
  },
  {
   "cell_type": "code",
   "execution_count": null,
   "id": "1b07740f",
   "metadata": {},
   "outputs": [],
   "source": []
  },
  {
   "cell_type": "markdown",
   "id": "691c43bb",
   "metadata": {},
   "source": [
    "# 4. Szilard engine test"
   ]
  },
  {
   "cell_type": "code",
   "execution_count": 12,
   "id": "a4dcb949",
   "metadata": {},
   "outputs": [],
   "source": [
    "import numpy as np\n",
    "from sus.protocol_designer import System, Protocol, Potential, Compound_Protocol\n",
    "from sus.protocol_designer.protocol import sequential_protocol\n",
    "from IPython.display import HTML\n",
    "from quick_sim import setup_sim\n",
    "from edward_tools.coupled_fq_potential import coupled_flux_qubit_pot, coupled_flux_qubit_force, coupled_fq_pot\n",
    "from edward_tools.visualization import animate_sim_flux_qubit\n",
    "import kyle_tools as kt\n",
    "import matplotlib.pyplot as plt\n",
    "import importlib, os, hashlib, json\n",
    "from edward_tools import coupled_fq_protocol_library, cfq_runner"
   ]
  },
  {
   "cell_type": "code",
   "execution_count": 13,
   "id": "a5d05614",
   "metadata": {},
   "outputs": [],
   "source": [
    "# from edward_tools import coupled_fq_protocol_library\n",
    "# coupled_fq_protocol_library = importlib.reload(coupled_fq_protocol_library)\n",
    "# create_system = coupled_fq_protocol_library.create_system\n",
    "# get_potential_shot_at_different_t = coupled_fq_protocol_library.get_potential_shot_at_different_t\n",
    "# create_simple_protocol_parameter_dict = coupled_fq_protocol_library.create_simple_protocol_parameter_dict\n",
    "# create_system_from_storage_and_computation_protocol = coupled_fq_protocol_library.create_system_from_storage_and_computation_protocol\n",
    "# coupled_fq_runner = importlib.reload(cfq_runner)\n"
   ]
  },
  {
   "cell_type": "code",
   "execution_count": 14,
   "id": "aee16350",
   "metadata": {},
   "outputs": [],
   "source": [
    "\"\"\"\n",
    "# step 0: modify parameters\n",
    "- All the parameters are stored in a separate file PARAMETER_INPUT\n",
    "- You can override some of the parameters here.\n",
    "\"\"\"\n",
    "params['N'] = 50_00\n",
    "params['dt'] = 1.0/10_00\n",
    "\n",
    "\n",
    "zeroDissipation = False\n",
    "if zeroDissipation:\n",
    "    _lambda = _lambda * 0\n",
    "    _eta = _eta * 0\n"
   ]
  },
  {
   "cell_type": "code",
   "execution_count": 15,
   "id": "d4bc1feb",
   "metadata": {},
   "outputs": [],
   "source": [
    "\"\"\"\n",
    "# step 1: Define potential\n",
    "\"\"\"\n",
    "coupled_fq_default_param = [1, 1, 0, 0, 0, 0, 0, 0, 0, 0, 0, 0, 0, x_c0]\n",
    "[phi_1_bound, phi_2_bound, phi_1dc_bound, phi_2dc_bound] = np.array([4, 4, 4, 4])/time_scale_factor\n",
    "\n",
    "coupled_fq_domain = [[-phi_1_bound, -phi_2_bound, -phi_1dc_bound, -phi_2dc_bound], \\\n",
    "                     [phi_1_bound, phi_2_bound, phi_1dc_bound, phi_2dc_bound]]\n",
    "\n",
    "coupled_fq_pot = Potential(coupled_flux_qubit_pot, coupled_flux_qubit_force, 14, 4,\\\n",
    "                           default_params = coupled_fq_default_param,  relevant_domain = coupled_fq_domain)"
   ]
  },
  {
   "cell_type": "code",
   "execution_count": 16,
   "id": "148ab743",
   "metadata": {},
   "outputs": [],
   "source": [
    "\"\"\"\n",
    "# step 2: Define initial condition and protocol\n",
    "\"\"\"\n",
    "manual_domain=[np.array([-5, -5]), np.array([5, 5])]\n",
    "# phi_1_dcx, phi_2_dcx = 3, 3\n",
    "phi_1_dcx, phi_2_dcx = 0, 0\n",
    "phi_1_dc, phi_2_dc = phi_1_dcx, phi_2_dcx\n",
    "\n",
    "# gamma, beta_1, beta_2 = 0, 0, 0\n",
    "gamma = 20\n",
    "# d_beta_1, d_beta_2 = 0.6, 0.6\n",
    "d_beta_1, d_beta_2 = 0, 0\n",
    "params['sim_params'] = [_lambda, _theta, _eta]\n",
    "\n",
    "# this is the initial parameter used\n",
    "initial_parameter_dict = {\n",
    "        \"U0_1\": U0_1,     \"U0_2\": U0_2,     \"gamma_1\": gamma,  \"gamma_2\": gamma,\n",
    "        \"beta_1\": beta_1,   \"beta_2\": beta_2,   \"d_beta_1\": d_beta_1 ,   \"d_beta_2\": d_beta_2,\n",
    "        \"phi_1_x\": 0,  \"phi_2_x\": 0,  \"phi_1_dcx\": phi_1_dcx,  \"phi_2_dcx\": phi_2_dcx,\n",
    "        \"M_12\": 0, 'x_c': x_c\n",
    "}\n",
    "\n",
    "\n",
    "# Time symmetric protocol\n",
    "# THis part is how you change the protocol. You can specify each substep by duration, the variables you want to \n",
    "# change and the name of the substep.\n",
    "protocol_list = [\n",
    "    {\"duration\":200,\"phi_2_dcx\":2.9,\"name\":\"mix in y direction\"},\n",
    "    {\"duration\":100,\"name\":\"fix\"},\n",
    "    {\"duration\":200,\"M_12\":-0.1,\"name\":\"conditional tilt\"},\n",
    "    {\"duration\":100,\"name\":\"fix\"},\n",
    "    {\"duration\":200,\"phi_2_dcx\":0,\"name\":\"raise the barrier\"},\n",
    "    {\"duration\":100,\"name\":\"fix\"},\n",
    "    {\"duration\":200,\"M_12\":0,\"name\":\"4 well potential (constant)\"},\n",
    "    {\"duration\":100,\"name\":\"fix\"},\n",
    "    {\"duration\":200,\"phi_1_dcx\":2.9,\"name\":\"mix in x direction\"},\n",
    "    {\"duration\":100,\"name\":\"fix\"},\n",
    "    {\"duration\":200,\"phi_1_dcx\":0,\"M_12\":0,\"name\":\"4 well potential \"},\n",
    "    {\"duration\":100,\"name\":\"4 well potential (constant)\"}\n",
    "]"
   ]
  },
  {
   "cell_type": "code",
   "execution_count": 17,
   "id": "a41a1786",
   "metadata": {},
   "outputs": [],
   "source": [
    "\n",
    "\"\"\"\n",
    "# step 3: create the relevant storage protocol and computation protocol\n",
    "\"\"\"\n",
    "computation_protocol_parameter_dict = coupled_fq_protocol_library.customizedProtocol(initial_parameter_dict, \\\n",
    "                                                                    protocol_list)\n",
    "storage_protocol, comp_protocol = create_system(computation_protocol_parameter_dict)"
   ]
  },
  {
   "cell_type": "code",
   "execution_count": 18,
   "id": "5d019dd1",
   "metadata": {
    "scrolled": false
   },
   "outputs": [
    {
     "name": "stdout",
     "output_type": "stream",
     "text": [
      "generating new initial_state\n",
      "using a lower resolution for searching a space in >3 dimensions\n",
      "new resolution is 50\n",
      " found 5000 samples out of 5000from system: finish the while loop.\n",
      "from cfq_runner.py, The as_tep is 3600\n",
      "from cfq_runner.py, The dt is 0.001\n",
      "from quick sim: [array([0.00269542, 0.00269542, 0.00269542, 0.00269542]), array([1., 4., 1., 4.]), array([0.01310394, 0.02620788, 0.01310394, 0.02620788])]\n",
      "from quick_sim.py\n",
      "gamma: [0.00269542 0.00269542 0.00269542 0.00269542], theta: [1. 4. 1. 4.] and eta: [0.01310394 0.02620788 0.01310394 0.02620788]\n",
      "from quick_sim.py: system.protocol.t_f = 1800.0, system.protocol.t_f = 0.0\n",
      "from simulation.py: number of steps: 1800000, dt: 0.001\n"
     ]
    }
   ],
   "source": [
    "\"\"\"\n",
    "# step 4: create the coupled_fq_runner\n",
    "\"\"\"\n",
    "cfqr = cfq_runner.coupledFluxQubitRunner(potential = coupled_fq_pot, params = params, \\\n",
    "                                                storage_protocol= storage_protocol, \\\n",
    "                                                computation_protocol= comp_protocol)\n",
    "cfqr.initialize_sim()\n",
    "cfqr.set_sim_attributes()\n",
    "init_state_saved = cfqr.init_state"
   ]
  },
  {
   "cell_type": "code",
   "execution_count": null,
   "id": "8fcab0f9",
   "metadata": {
    "scrolled": true
   },
   "outputs": [],
   "source": []
  },
  {
   "cell_type": "code",
   "execution_count": 19,
   "id": "de19d225",
   "metadata": {},
   "outputs": [],
   "source": [
    "manual_domain=[np.array([-5, -5])/time_scale_factor, np.array([5, 5])/time_scale_factor]\n",
    "mapping_state_1_to_state_2_dict = {\"00\": [\"00\", \"10\"], \"01\": [\"00\", \"10\"], \"10\": [\"01\", \"11\"], \"11\": [\"01\", \"11\"]}"
   ]
  },
  {
   "cell_type": "code",
   "execution_count": 20,
   "id": "5166e54c",
   "metadata": {},
   "outputs": [
    {
     "name": "stdout",
     "output_type": "stream",
     "text": [
      "\n",
      " initializing...\n",
      "use old initial_state\n",
      "from cfq_runner.py, The as_tep is 3600\n",
      "from cfq_runner.py, The dt is 0.001\n",
      "from quick sim: [array([0.00269542, 0.00269542, 0.00269542, 0.00269542]), array([1., 4., 1., 4.]), array([0.01310394, 0.02620788, 0.01310394, 0.02620788])]\n",
      "from quick_sim.py\n",
      "gamma: [0.00269542 0.00269542 0.00269542 0.00269542], theta: [1. 4. 1. 4.] and eta: [0.01310394 0.02620788 0.01310394 0.02620788]\n",
      "from quick_sim.py: system.protocol.t_f = 1800.0, system.protocol.t_f = 0.0\n",
      "from simulation.py: number of steps: 1800000, dt: 0.001\n",
      "\n",
      " running sim...\n",
      "simulating step 571\r"
     ]
    },
    {
     "ename": "KeyboardInterrupt",
     "evalue": "",
     "output_type": "error",
     "traceback": [
      "\u001b[0;31m---------------------------------------------------------------------------\u001b[0m",
      "\u001b[0;31mKeyboardInterrupt\u001b[0m                         Traceback (most recent call last)",
      "\u001b[0;32m<ipython-input-20-a79ec73991f3>\u001b[0m in \u001b[0;36m<module>\u001b[0;34m\u001b[0m\n\u001b[1;32m      1\u001b[0m \u001b[0;31m# step 5: perform simulations\u001b[0m\u001b[0;34m\u001b[0m\u001b[0;34m\u001b[0m\u001b[0;34m\u001b[0m\u001b[0m\n\u001b[1;32m      2\u001b[0m \u001b[0;34m\u001b[0m\u001b[0m\n\u001b[0;32m----> 3\u001b[0;31m simResult = cfq_batch_sweep.simulateSingleCoupledFluxQubit(params, initial_parameter_dict, protocol_list, \\\n\u001b[0m\u001b[1;32m      4\u001b[0m                                         \u001b[0minitial_state\u001b[0m \u001b[0;34m=\u001b[0m \u001b[0minit_state_saved\u001b[0m\u001b[0;34m,\u001b[0m \u001b[0mmanual_domain\u001b[0m \u001b[0;34m=\u001b[0m \u001b[0mmanual_domain\u001b[0m\u001b[0;34m,\u001b[0m\u001b[0;31m \u001b[0m\u001b[0;31m\\\u001b[0m\u001b[0;34m\u001b[0m\u001b[0;34m\u001b[0m\u001b[0m\n\u001b[1;32m      5\u001b[0m                                         phi_1_dcx = phi_1_dcx,  phi_2_dcx = phi_2_dcx, frameRate = 10)\n",
      "\u001b[0;32m~/source/edward_tools/cfq_batch_sweep.py\u001b[0m in \u001b[0;36msimulateSingleCoupledFluxQubit\u001b[0;34m(params, initial_parameter_dict, protocol_list, mapping_state_1_to_state_2_dict, phi_1_dcx, phi_2_dcx, percentage, initial_state, manual_domain, frameRate, comment)\u001b[0m\n\u001b[1;32m     38\u001b[0m     \u001b[0mcfqr\u001b[0m \u001b[0;34m=\u001b[0m \u001b[0mcfq_runner\u001b[0m\u001b[0;34m.\u001b[0m\u001b[0mcoupledFluxQubitRunner\u001b[0m\u001b[0;34m(\u001b[0m\u001b[0mparams\u001b[0m \u001b[0;34m=\u001b[0m \u001b[0mparams\u001b[0m\u001b[0;34m,\u001b[0m \u001b[0mstorage_protocol\u001b[0m\u001b[0;34m=\u001b[0m \u001b[0mstorage_protocol\u001b[0m\u001b[0;34m,\u001b[0m  \u001b[0mcomputation_protocol\u001b[0m\u001b[0;34m=\u001b[0m \u001b[0mcomp_protocol\u001b[0m\u001b[0;34m)\u001b[0m\u001b[0;34m\u001b[0m\u001b[0;34m\u001b[0m\u001b[0m\n\u001b[1;32m     39\u001b[0m     \u001b[0mcfqr\u001b[0m\u001b[0;34m.\u001b[0m\u001b[0minitialize_sim\u001b[0m\u001b[0;34m(\u001b[0m\u001b[0;34m)\u001b[0m\u001b[0;34m\u001b[0m\u001b[0;34m\u001b[0m\u001b[0m\n\u001b[0;32m---> 40\u001b[0;31m     \u001b[0mcfqr\u001b[0m\u001b[0;34m.\u001b[0m\u001b[0mrun_sim\u001b[0m\u001b[0;34m(\u001b[0m\u001b[0minit_state\u001b[0m \u001b[0;34m=\u001b[0m \u001b[0minitial_state\u001b[0m\u001b[0;34m,\u001b[0m \u001b[0mpercentage\u001b[0m \u001b[0;34m=\u001b[0m \u001b[0mpercentage\u001b[0m\u001b[0;34m)\u001b[0m\u001b[0;34m\u001b[0m\u001b[0;34m\u001b[0m\u001b[0m\n\u001b[0m\u001b[1;32m     41\u001b[0m     \u001b[0mcfqr\u001b[0m\u001b[0;34m.\u001b[0m\u001b[0msystem\u001b[0m\u001b[0;34m.\u001b[0m\u001b[0mprotocol_list\u001b[0m \u001b[0;34m=\u001b[0m \u001b[0mprotocol_list\u001b[0m\u001b[0;34m\u001b[0m\u001b[0;34m\u001b[0m\u001b[0m\n\u001b[1;32m     42\u001b[0m \u001b[0;34m\u001b[0m\u001b[0m\n",
      "\u001b[0;32m~/source/kyle_tools/multisim.py\u001b[0m in \u001b[0;36mrun_sim\u001b[0;34m(self, verbose, init_state, manual_domain, axes, percentage, **kwargs)\u001b[0m\n\u001b[1;32m     27\u001b[0m \u001b[0;34m\u001b[0m\u001b[0m\n\u001b[1;32m     28\u001b[0m         \u001b[0;31m# return\u001b[0m\u001b[0;34m\u001b[0m\u001b[0;34m\u001b[0m\u001b[0;34m\u001b[0m\u001b[0m\n\u001b[0;32m---> 29\u001b[0;31m         \u001b[0mself\u001b[0m\u001b[0;34m.\u001b[0m\u001b[0msim\u001b[0m\u001b[0;34m.\u001b[0m\u001b[0moutput\u001b[0m \u001b[0;34m=\u001b[0m \u001b[0mself\u001b[0m\u001b[0;34m.\u001b[0m\u001b[0msim\u001b[0m\u001b[0;34m.\u001b[0m\u001b[0mrun\u001b[0m\u001b[0;34m(\u001b[0m\u001b[0;34m**\u001b[0m\u001b[0mkwargs\u001b[0m\u001b[0;34m)\u001b[0m\u001b[0;34m\u001b[0m\u001b[0;34m\u001b[0m\u001b[0m\n\u001b[0m\u001b[1;32m     30\u001b[0m         \u001b[0;32mif\u001b[0m \u001b[0mverbose\u001b[0m\u001b[0;34m:\u001b[0m\u001b[0;34m\u001b[0m\u001b[0;34m\u001b[0m\u001b[0m\n\u001b[1;32m     31\u001b[0m             \u001b[0mprint\u001b[0m\u001b[0;34m(\u001b[0m\u001b[0;34m'\\n analyzing output...'\u001b[0m\u001b[0;34m)\u001b[0m\u001b[0;34m\u001b[0m\u001b[0;34m\u001b[0m\u001b[0m\n",
      "\u001b[0;32m~/source/simtools/infoenginessims/simulation.py\u001b[0m in \u001b[0;36mrun\u001b[0;34m(self, verbose)\u001b[0m\n\u001b[1;32m    203\u001b[0m             \u001b[0mself\u001b[0m\u001b[0;34m.\u001b[0m\u001b[0mcurrent_time\u001b[0m \u001b[0;34m=\u001b[0m \u001b[0mtime\u001b[0m\u001b[0;34m\u001b[0m\u001b[0;34m\u001b[0m\u001b[0m\n\u001b[1;32m    204\u001b[0m \u001b[0;34m\u001b[0m\u001b[0m\n\u001b[0;32m--> 205\u001b[0;31m             \u001b[0mnext_state\u001b[0m\u001b[0;34m[\u001b[0m\u001b[0;34m...\u001b[0m\u001b[0;34m]\u001b[0m \u001b[0;34m=\u001b[0m \u001b[0mupdate_state\u001b[0m\u001b[0;34m(\u001b[0m\u001b[0mcurrent_state\u001b[0m\u001b[0;34m,\u001b[0m \u001b[0mtime\u001b[0m\u001b[0;34m,\u001b[0m \u001b[0mdt\u001b[0m\u001b[0;34m)\u001b[0m\u001b[0;34m\u001b[0m\u001b[0;34m\u001b[0m\u001b[0m\n\u001b[0m\u001b[1;32m    206\u001b[0m \u001b[0;34m\u001b[0m\u001b[0m\n\u001b[1;32m    207\u001b[0m             \u001b[0;31m# Do intermediate tasks\u001b[0m\u001b[0;34m\u001b[0m\u001b[0;34m\u001b[0m\u001b[0;34m\u001b[0m\u001b[0m\n",
      "\u001b[0;32m~/source/simtools/infoenginessims/integrators/rkdeterm_eulerstoch.py\u001b[0m in \u001b[0;36mupdate_state\u001b[0;34m(self, state, time, dt)\u001b[0m\n\u001b[1;32m     51\u001b[0m \u001b[0;34m\u001b[0m\u001b[0m\n\u001b[1;32m     52\u001b[0m         \u001b[0mk1\u001b[0m \u001b[0;34m=\u001b[0m \u001b[0mget_determ_dsdt\u001b[0m\u001b[0;34m(\u001b[0m\u001b[0mstate\u001b[0m\u001b[0;34m,\u001b[0m               \u001b[0mtime\u001b[0m\u001b[0;34m)\u001b[0m\u001b[0;34m\u001b[0m\u001b[0;34m\u001b[0m\u001b[0m\n\u001b[0;32m---> 53\u001b[0;31m         \u001b[0mk2\u001b[0m \u001b[0;34m=\u001b[0m \u001b[0mget_determ_dsdt\u001b[0m\u001b[0;34m(\u001b[0m\u001b[0mstate\u001b[0m \u001b[0;34m+\u001b[0m \u001b[0mk1\u001b[0m \u001b[0;34m*\u001b[0m \u001b[0mdt\u001b[0m \u001b[0;34m/\u001b[0m \u001b[0;36m2\u001b[0m\u001b[0;34m,\u001b[0m \u001b[0mtime\u001b[0m \u001b[0;34m+\u001b[0m \u001b[0mdt\u001b[0m \u001b[0;34m/\u001b[0m \u001b[0;36m2\u001b[0m\u001b[0;34m)\u001b[0m\u001b[0;34m\u001b[0m\u001b[0;34m\u001b[0m\u001b[0m\n\u001b[0m\u001b[1;32m     54\u001b[0m         \u001b[0mk3\u001b[0m \u001b[0;34m=\u001b[0m \u001b[0mget_determ_dsdt\u001b[0m\u001b[0;34m(\u001b[0m\u001b[0mstate\u001b[0m \u001b[0;34m+\u001b[0m \u001b[0mk2\u001b[0m \u001b[0;34m*\u001b[0m \u001b[0mdt\u001b[0m \u001b[0;34m/\u001b[0m \u001b[0;36m2\u001b[0m\u001b[0;34m,\u001b[0m \u001b[0mtime\u001b[0m \u001b[0;34m+\u001b[0m \u001b[0mdt\u001b[0m \u001b[0;34m/\u001b[0m \u001b[0;36m2\u001b[0m\u001b[0;34m)\u001b[0m\u001b[0;34m\u001b[0m\u001b[0;34m\u001b[0m\u001b[0m\n\u001b[1;32m     55\u001b[0m         \u001b[0mk4\u001b[0m \u001b[0;34m=\u001b[0m \u001b[0mget_determ_dsdt\u001b[0m\u001b[0;34m(\u001b[0m\u001b[0mstate\u001b[0m \u001b[0;34m+\u001b[0m \u001b[0mk3\u001b[0m \u001b[0;34m*\u001b[0m \u001b[0mdt\u001b[0m\u001b[0;34m,\u001b[0m     \u001b[0mtime\u001b[0m \u001b[0;34m+\u001b[0m \u001b[0mdt\u001b[0m\u001b[0;34m)\u001b[0m\u001b[0;34m\u001b[0m\u001b[0;34m\u001b[0m\u001b[0m\n",
      "\u001b[0;32m~/source/simtools/infoenginessims/dynamics/langevin_underdamped.py\u001b[0m in \u001b[0;36mget_determ_dsdt\u001b[0;34m(self, state, time)\u001b[0m\n\u001b[1;32m     47\u001b[0m \u001b[0;34m\u001b[0m\u001b[0m\n\u001b[1;32m     48\u001b[0m         \u001b[0mdeterm_dxdt\u001b[0m \u001b[0;34m=\u001b[0m \u001b[0mvelocity\u001b[0m\u001b[0;34m\u001b[0m\u001b[0;34m\u001b[0m\u001b[0m\n\u001b[0;32m---> 49\u001b[0;31m         \u001b[0mdeterm_dvdt\u001b[0m \u001b[0;34m=\u001b[0m \u001b[0mtheta\u001b[0m \u001b[0;34m*\u001b[0m \u001b[0mget_external_force\u001b[0m\u001b[0;34m(\u001b[0m\u001b[0mstate\u001b[0m\u001b[0;34m,\u001b[0m \u001b[0mtime\u001b[0m\u001b[0;34m)\u001b[0m \u001b[0;34m-\u001b[0m \u001b[0mgamma\u001b[0m \u001b[0;34m*\u001b[0m \u001b[0mvelocity\u001b[0m\u001b[0;34m\u001b[0m\u001b[0;34m\u001b[0m\u001b[0m\n\u001b[0m\u001b[1;32m     50\u001b[0m \u001b[0;34m\u001b[0m\u001b[0m\n\u001b[1;32m     51\u001b[0m         \u001b[0mdeterm_dsdt\u001b[0m \u001b[0;34m=\u001b[0m \u001b[0mempty\u001b[0m\u001b[0;34m(\u001b[0m\u001b[0mstate\u001b[0m\u001b[0;34m.\u001b[0m\u001b[0mshape\u001b[0m\u001b[0;34m)\u001b[0m\u001b[0;34m\u001b[0m\u001b[0;34m\u001b[0m\u001b[0m\n",
      "\u001b[0;32m~/source/sus/protocol_designer/system.py\u001b[0m in \u001b[0;36mget_external_force\u001b[0;34m(self, coords, t)\u001b[0m\n\u001b[1;32m    173\u001b[0m             \u001b[0mforce\u001b[0m \u001b[0;34m=\u001b[0m \u001b[0mself\u001b[0m\u001b[0;34m.\u001b[0m\u001b[0mpotential\u001b[0m\u001b[0;34m.\u001b[0m\u001b[0mexternal_force\u001b[0m\u001b[0;34m(\u001b[0m\u001b[0mpositions\u001b[0m\u001b[0;34m,\u001b[0m \u001b[0mparams\u001b[0m\u001b[0;34m)\u001b[0m\u001b[0;34m\u001b[0m\u001b[0;34m\u001b[0m\u001b[0m\n\u001b[1;32m    174\u001b[0m         \u001b[0;32melse\u001b[0m\u001b[0;34m:\u001b[0m\u001b[0;34m\u001b[0m\u001b[0;34m\u001b[0m\u001b[0m\n\u001b[0;32m--> 175\u001b[0;31m             \u001b[0mforce\u001b[0m \u001b[0;34m=\u001b[0m \u001b[0mself\u001b[0m\u001b[0;34m.\u001b[0m\u001b[0mpotential\u001b[0m\u001b[0;34m.\u001b[0m\u001b[0mexternal_force\u001b[0m\u001b[0;34m(\u001b[0m\u001b[0;34m*\u001b[0m\u001b[0mpositions\u001b[0m\u001b[0;34m,\u001b[0m \u001b[0mparams\u001b[0m\u001b[0;34m)\u001b[0m\u001b[0;34m\u001b[0m\u001b[0;34m\u001b[0m\u001b[0m\n\u001b[0m\u001b[1;32m    176\u001b[0m \u001b[0;34m\u001b[0m\u001b[0m\n\u001b[1;32m    177\u001b[0m         \u001b[0;32mreturn\u001b[0m \u001b[0mnp\u001b[0m\u001b[0;34m.\u001b[0m\u001b[0mtranspose\u001b[0m\u001b[0;34m(\u001b[0m\u001b[0mforce\u001b[0m\u001b[0;34m)\u001b[0m\u001b[0;34m\u001b[0m\u001b[0;34m\u001b[0m\u001b[0m\n",
      "\u001b[0;32m~/source/sus/protocol_designer/potential.py\u001b[0m in \u001b[0;36mexternal_force\u001b[0;34m(self, *args, **kwargs)\u001b[0m\n\u001b[1;32m     97\u001b[0m \u001b[0;34m\u001b[0m\u001b[0m\n\u001b[1;32m     98\u001b[0m         \"\"\"\n\u001b[0;32m---> 99\u001b[0;31m         \u001b[0;32mreturn\u001b[0m \u001b[0mnp\u001b[0m\u001b[0;34m.\u001b[0m\u001b[0mmultiply\u001b[0m\u001b[0;34m(\u001b[0m\u001b[0mself\u001b[0m\u001b[0;34m.\u001b[0m\u001b[0mscale\u001b[0m\u001b[0;34m,\u001b[0m \u001b[0mself\u001b[0m\u001b[0;34m.\u001b[0m\u001b[0mforce\u001b[0m\u001b[0;34m(\u001b[0m\u001b[0;34m*\u001b[0m\u001b[0margs\u001b[0m\u001b[0;34m,\u001b[0m \u001b[0;34m**\u001b[0m\u001b[0mkwargs\u001b[0m\u001b[0;34m)\u001b[0m\u001b[0;34m)\u001b[0m\u001b[0;34m\u001b[0m\u001b[0;34m\u001b[0m\u001b[0m\n\u001b[0m\u001b[1;32m    100\u001b[0m \u001b[0;34m\u001b[0m\u001b[0m\n\u001b[1;32m    101\u001b[0m     \u001b[0;32mdef\u001b[0m \u001b[0mtrivial_protocol\u001b[0m\u001b[0;34m(\u001b[0m\u001b[0mself\u001b[0m\u001b[0;34m,\u001b[0m \u001b[0mt_i\u001b[0m\u001b[0;34m=\u001b[0m\u001b[0;36m0.\u001b[0m\u001b[0;34m,\u001b[0m \u001b[0mt_f\u001b[0m\u001b[0;34m=\u001b[0m\u001b[0;36m1.\u001b[0m\u001b[0;34m)\u001b[0m\u001b[0;34m:\u001b[0m\u001b[0;34m\u001b[0m\u001b[0;34m\u001b[0m\u001b[0m\n",
      "\u001b[0;32m~/source/edward_tools/coupled_fq_potential.py\u001b[0m in \u001b[0;36mcoupled_flux_qubit_force\u001b[0;34m(phi_1, phi_2, phi_1dc, phi_2dc, params, phi_1_prefactor, phi_2_prefactor)\u001b[0m\n\u001b[1;32m     95\u001b[0m \u001b[0;34m\u001b[0m\u001b[0m\n\u001b[1;32m     96\u001b[0m     U_dp1dc = U0_1* (\n\u001b[0;32m---> 97\u001b[0;31m         \u001b[0mg_1\u001b[0m \u001b[0;34m*\u001b[0m \u001b[0;34m(\u001b[0m\u001b[0mphi_1dc\u001b[0m \u001b[0;34m-\u001b[0m \u001b[0mphi_1dcx\u001b[0m\u001b[0;34m)\u001b[0m\u001b[0;34m\u001b[0m\u001b[0;34m\u001b[0m\u001b[0m\n\u001b[0m\u001b[1;32m     98\u001b[0m         \u001b[0;34m-\u001b[0m \u001b[0;36m1\u001b[0m\u001b[0;34m/\u001b[0m\u001b[0;36m2\u001b[0m \u001b[0;34m*\u001b[0m \u001b[0mbeta_1\u001b[0m \u001b[0;34m*\u001b[0m \u001b[0mnp\u001b[0m\u001b[0;34m.\u001b[0m\u001b[0mcos\u001b[0m\u001b[0;34m(\u001b[0m\u001b[0mphi_1\u001b[0m\u001b[0;34m)\u001b[0m \u001b[0;34m*\u001b[0m \u001b[0mnp\u001b[0m\u001b[0;34m.\u001b[0m\u001b[0msin\u001b[0m\u001b[0;34m(\u001b[0m\u001b[0mphi_1dc\u001b[0m \u001b[0;34m/\u001b[0m \u001b[0;36m2\u001b[0m\u001b[0;34m)\u001b[0m\u001b[0;34m\u001b[0m\u001b[0;34m\u001b[0m\u001b[0m\n\u001b[1;32m     99\u001b[0m         \u001b[0;34m+\u001b[0m \u001b[0;36m1\u001b[0m\u001b[0;34m/\u001b[0m\u001b[0;36m2\u001b[0m \u001b[0;34m*\u001b[0m \u001b[0mdelta_beta_1\u001b[0m \u001b[0;34m*\u001b[0m \u001b[0mnp\u001b[0m\u001b[0;34m.\u001b[0m\u001b[0msin\u001b[0m\u001b[0;34m(\u001b[0m\u001b[0mphi_1\u001b[0m\u001b[0;34m)\u001b[0m \u001b[0;34m*\u001b[0m \u001b[0mnp\u001b[0m\u001b[0;34m.\u001b[0m\u001b[0mcos\u001b[0m\u001b[0;34m(\u001b[0m\u001b[0mphi_1dc\u001b[0m\u001b[0;34m/\u001b[0m\u001b[0;36m2\u001b[0m\u001b[0;34m)\u001b[0m\u001b[0;34m\u001b[0m\u001b[0;34m\u001b[0m\u001b[0m\n",
      "\u001b[0;31mKeyboardInterrupt\u001b[0m: "
     ]
    }
   ],
   "source": [
    "# step 5: perform simulations\n",
    "\n",
    "simResult = cfq_batch_sweep.simulateSingleCoupledFluxQubit(params, initial_parameter_dict, protocol_list, \\\n",
    "                                        initial_state = init_state_saved, manual_domain = manual_domain, \\\n",
    "                                        phi_1_dcx = phi_1_dcx,  phi_2_dcx = phi_2_dcx, frameRate = 10)\n",
    "\n",
    "cfqr = simResult[\"cfqr\"]"
   ]
  },
  {
   "cell_type": "code",
   "execution_count": null,
   "id": "b3dbaf54",
   "metadata": {},
   "outputs": [],
   "source": [
    "# display work distribution\n",
    "\n",
    "plt.hist(simResult[\"work_distribution\"], bins = 45)\n",
    "plt.show()\n",
    "\n",
    "print(f'jarzyn = {np.mean(np.exp(-simResult[\"work_distribution\"]))}')"
   ]
  },
  {
   "cell_type": "code",
   "execution_count": null,
   "id": "52370cea",
   "metadata": {},
   "outputs": [],
   "source": [
    "step_array = np.arange(simResult[\"work_statistic\"][:,0].shape[0])\n",
    "skip_step = int(len(step_array) * 0.05)\n",
    "work_mean = simResult[\"work_statistic\"][:,0]\n",
    "work_std = simResult[\"work_statistic\"][:,1]\n",
    "\n",
    "\n",
    "plt.errorbar(step_array[::skip_step], work_mean[::skip_step], yerr = work_std[::skip_step])\n",
    "\n",
    "# plt.errorbar(work_avg, work_error)"
   ]
  },
  {
   "cell_type": "code",
   "execution_count": null,
   "id": "acb8c42f",
   "metadata": {},
   "outputs": [],
   "source": [
    "# from IPython.display import HTML\n",
    "from IPython import display\n",
    "video = simResult['ani'].to_html5_video()\n",
    "html = display.HTML(video)\n",
    "display.display(html)"
   ]
  },
  {
   "cell_type": "code",
   "execution_count": null,
   "id": "bd2c39fa",
   "metadata": {},
   "outputs": [],
   "source": []
  },
  {
   "cell_type": "code",
   "execution_count": 57,
   "id": "f505c462",
   "metadata": {},
   "outputs": [
    {
     "data": {
      "image/png": "[encoded data removed]",
      "text/plain": [
       "<Figure size 720x504 with 1 Axes>"
      ]
     },
     "metadata": {
      "needs_background": "light"
     },
     "output_type": "display_data"
    },
    {
     "data": {
      "image/png": "[encoded data removed]",
      "text/plain": [
       "<Figure size 720x504 with 1 Axes>"
      ]
     },
     "metadata": {
      "needs_background": "light"
     },
     "output_type": "display_data"
    },
    {
     "data": {
      "image/png": "[encoded data removed]",
      "text/plain": [
       "<Figure size 720x504 with 1 Axes>"
      ]
     },
     "metadata": {
      "needs_background": "light"
     },
     "output_type": "display_data"
    }
   ],
   "source": [
    "# step 6: save the results\n",
    "\n",
    "cfq_batch_sweep.saveSimulationResult(simResult, U0_1, timeOrStep = 'step', save = True, save_final_state = True)"
   ]
  },
  {
   "cell_type": "code",
   "execution_count": null,
   "id": "e10b59fd",
   "metadata": {},
   "outputs": [],
   "source": []
  }
 ],
 "metadata": {
  "interpreter": {
   "hash": "c48eea1d6fe0303de93a25029b75a26fa311fe2cfce1f013702fed1a8d75264d"
  },
  "kernelspec": {
   "display_name": "Python 3",
   "language": "python",
   "name": "python3"
  },
  "language_info": {
   "codemirror_mode": {
    "name": "ipython",
    "version": 3
   },
   "file_extension": ".py",
   "mimetype": "text/x-python",
   "name": "python",
   "nbconvert_exporter": "python",
   "pygments_lexer": "ipython3",
   "version": "3.8.5"
  }
 },
 "nbformat": 4,
 "nbformat_minor": 5
}
