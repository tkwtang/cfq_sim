{
 "cells": [
  {
   "cell_type": "code",
   "execution_count": 1,
   "id": "0ca92511",
   "metadata": {},
   "outputs": [],
   "source": [
    "import numpy as np\n",
    "from sus.protocol_designer import System, Protocol, Potential, Compound_Protocol\n",
    "from sus.protocol_designer.protocol import sequential_protocol\n",
    "from IPython import display\n",
    "from IPython.display import HTML\n",
    "from quick_sim import setup_sim\n",
    "from edward_tools.coupled_fq_potential import coupled_flux_qubit_pot, coupled_flux_qubit_force, coupled_fq_pot\n",
    "import edward_tools.fq_runner as fq_runner\n",
    "from edward_tools.visualization import animate_sim_flux_qubit\n",
    "\n",
    "import kyle_tools as kt\n",
    "import matplotlib.pyplot as plt\n",
    "\n",
    "import importlib, os\n",
    "from edward_tools import coupled_fq_protocol_library, cfq_runner\n",
    "from PARAMETER_INPUT import *\n",
    "from PARAMETER_INPUT import _lambda, _theta, _eta\n",
    "from ControlParameter import *\n",
    "\n",
    "from edward_tools import coupled_fq_protocol_library\n",
    "import edward_tools.cfq_batch_sweep as cfq_batch_sweep\n",
    "\n",
    "coupled_fq_protocol_library = importlib.reload(coupled_fq_protocol_library)\n",
    "create_system = coupled_fq_protocol_library.create_system\n",
    "get_potential_shot_at_different_t = coupled_fq_protocol_library.get_potential_shot_at_different_t\n",
    "get_potential_shot_at_different_t_1D = coupled_fq_protocol_library.get_potential_shot_at_different_t_1D\n",
    "create_simple_protocol_parameter_dict = coupled_fq_protocol_library.create_simple_protocol_parameter_dict\n",
    "create_system_from_storage_and_computation_protocol = coupled_fq_protocol_library.create_system_from_storage_and_computation_protocol\n",
    "coupled_fq_runner = importlib.reload(cfq_runner)\n",
    "coupled_fq_protocol_library = importlib.reload(coupled_fq_protocol_library)\n",
    "create_system = coupled_fq_protocol_library.create_system\n"
   ]
  },
  {
   "cell_type": "code",
   "execution_count": null,
   "id": "8e115ea5",
   "metadata": {},
   "outputs": [],
   "source": []
  },
  {
   "cell_type": "markdown",
   "id": "4f66bbe7",
   "metadata": {},
   "source": [
    "# 4. Szilard engine test"
   ]
  },
  {
   "cell_type": "code",
   "execution_count": 2,
   "id": "68ea9f08",
   "metadata": {},
   "outputs": [],
   "source": [
    "import numpy as np\n",
    "from sus.protocol_designer import System, Protocol, Potential, Compound_Protocol\n",
    "from sus.protocol_designer.protocol import sequential_protocol\n",
    "from IPython.display import HTML\n",
    "from quick_sim import setup_sim\n",
    "from edward_tools.coupled_fq_potential import coupled_flux_qubit_pot, coupled_flux_qubit_force, coupled_fq_pot\n",
    "from edward_tools.visualization import animate_sim_flux_qubit\n",
    "import kyle_tools as kt\n",
    "import matplotlib.pyplot as plt\n",
    "import importlib, os, hashlib, json\n",
    "from edward_tools import coupled_fq_protocol_library, cfq_runner"
   ]
  },
  {
   "cell_type": "code",
   "execution_count": 3,
   "id": "4d4481b6",
   "metadata": {},
   "outputs": [],
   "source": [
    "# from edward_tools import coupled_fq_protocol_library\n",
    "# coupled_fq_protocol_library = importlib.reload(coupled_fq_protocol_library)\n",
    "# create_system = coupled_fq_protocol_library.create_system\n",
    "# get_potential_shot_at_different_t = coupled_fq_protocol_library.get_potential_shot_at_different_t\n",
    "# create_simple_protocol_parameter_dict = coupled_fq_protocol_library.create_simple_protocol_parameter_dict\n",
    "# create_system_from_storage_and_computation_protocol = coupled_fq_protocol_library.create_system_from_storage_and_computation_protocol\n",
    "# coupled_fq_runner = importlib.reload(cfq_runner)\n"
   ]
  },
  {
   "cell_type": "code",
   "execution_count": 4,
   "id": "cbeb086e",
   "metadata": {},
   "outputs": [],
   "source": [
    "\"\"\"\n",
    "# step 0: modify parameters\n",
    "- All the parameters are stored in a separate file PARAMETER_INPUT\n",
    "- You can override some of the parameters here.\n",
    "\"\"\"\n",
    "params['N'] = 5_000\n",
    "params['dt'] = 1.0/1_00\n",
    "\n",
    "\n",
    "zeroDissipation = False\n",
    "if zeroDissipation:\n",
    "    _lambda = _lambda * 0\n",
    "    _eta = _eta * 0\n"
   ]
  },
  {
   "cell_type": "code",
   "execution_count": 5,
   "id": "1290dead",
   "metadata": {},
   "outputs": [],
   "source": [
    "\"\"\"\n",
    "# step 1: Define potential\n",
    "\"\"\"\n",
    "coupled_fq_default_param = [1, 1, 0, 0, 0, 0, 0, 0, 0, 0, 0, 0, 0, x_c0]\n",
    "[phi_1_bound, phi_2_bound, phi_1dc_bound, phi_2dc_bound] = np.array([4, 4, 4, 4])/time_scale_factor\n",
    "\n",
    "coupled_fq_domain = [[-phi_1_bound, -phi_2_bound, -phi_1dc_bound, -phi_2dc_bound], \\\n",
    "                     [phi_1_bound, phi_2_bound, phi_1dc_bound, phi_2dc_bound]]\n",
    "\n",
    "coupled_fq_pot = Potential(coupled_flux_qubit_pot, coupled_flux_qubit_force, 14, 4,\\\n",
    "                           default_params = coupled_fq_default_param,  relevant_domain = coupled_fq_domain)"
   ]
  },
  {
   "cell_type": "code",
   "execution_count": 6,
   "id": "020e7dfb",
   "metadata": {},
   "outputs": [],
   "source": [
    "\"\"\"\n",
    "# step 2: Define initial condition and protocol\n",
    "\"\"\"\n",
    "manual_domain=[np.array([-5, -5]), np.array([5, 5])]\n",
    "# phi_1_dcx, phi_2_dcx = 3, 3\n",
    "phi_1_dcx, phi_2_dcx = 0, 0\n",
    "phi_1_dc, phi_2_dc = phi_1_dcx, phi_2_dcx\n",
    "\n",
    "# gamma, beta_1, beta_2 = 0, 0, 0\n",
    "gamma = 20\n",
    "# d_beta_1, d_beta_2 = 0.6, 0.6\n",
    "d_beta_1, d_beta_2 = 0, 0\n",
    "params['sim_params'] = [_lambda, _theta, _eta]\n",
    "\n",
    "# this is the initial parameter used\n",
    "initial_parameter_dict = {\n",
    "        \"U0_1\": U0_1,     \"U0_2\": U0_2,     \"gamma_1\": gamma,  \"gamma_2\": gamma,\n",
    "        \"beta_1\": beta_1,   \"beta_2\": beta_2,   \"d_beta_1\": d_beta_1 ,   \"d_beta_2\": d_beta_2,\n",
    "        \"phi_1_x\": 0,  \"phi_2_x\": 0,  \"phi_1_dcx\": phi_1_dcx,  \"phi_2_dcx\": phi_2_dcx,\n",
    "        \"M_12\": 0, 'x_c': x_c\n",
    "}\n",
    "\n",
    "\n",
    "# Time symmetric protocol\n",
    "# THis part is how you change the protocol. You can specify each substep by duration, the variables you want to \n",
    "# change and the name of the substep.\n",
    "# protocol_list = [\n",
    "#     {\"duration\":200,\"phi_2_dcx\":2.9,\"name\":\"mix in y direction\"},\n",
    "#     {\"duration\":100,\"name\":\"fix\"},\n",
    "#     {\"duration\":200,\"M_12\":-0.1,\"name\":\"conditional tilt\"},\n",
    "#     {\"duration\":100,\"name\":\"fix\"},\n",
    "#     {\"duration\":200,\"phi_2_dcx\":0,\"name\":\"raise the barrier\"},\n",
    "#     {\"duration\":100,\"name\":\"fix\"},\n",
    "#     {\"duration\":200,\"M_12\":0,\"name\":\"4 well potential (constant)\"},\n",
    "#     {\"duration\":100,\"name\":\"fix\"},\n",
    "#     {\"duration\":200,\"phi_1_dcx\":2.9,\"name\":\"mix in x direction\"},\n",
    "#     {\"duration\":100,\"name\":\"fix\"},\n",
    "#     {\"duration\":200,\"phi_1_dcx\":0,\"M_12\":0,\"name\":\"4 well potential \"},\n",
    "#     {\"duration\":100,\"name\":\"4 well potential (constant)\"}\n",
    "# ]\n",
    "\n",
    "\n",
    "initial_parameter_dict[\"phi_1_dcx\"] = 0\n",
    "initial_parameter_dict[\"phi_2_dcx\"] = 0\n",
    "initial_parameter_dict[\"M_12\"]      = 0\n",
    "time_length_1 = 100\n",
    "time_length_2 = 100\n",
    "time_length_3 = 100\n",
    "time_length_4 = 100\n",
    "\n",
    "protocol_list_options = [\n",
    "    {\"placeholder\": \"\"},\n",
    "    # forward\n",
    "    {\"duration\":time_length_1, \"phi_1_dcx\": phi_1_dcx_off, \"phi_2_dcx\": phi_2_dcx_on,  \"M_12\": M_12_off,  \"name\":\"(1) mix in y direction\"},\n",
    "    {\"duration\":time_length_2, \"phi_1_dcx\": phi_1_dcx_off, \"phi_2_dcx\": phi_2_dcx_on,  \"M_12\": M_12_on,   \"name\":\"(2) conditional tilt\"},\n",
    "    {\"duration\":time_length_3, \"phi_1_dcx\": phi_1_dcx_off, \"phi_2_dcx\": phi_2_dcx_off, \"M_12\": M_12_on,   \"name\":\"(3) raise the barrier\"},\n",
    "    {\"duration\":time_length_4, \"phi_1_dcx\": phi_1_dcx_off,  \"phi_2_dcx\": phi_2_dcx_off, \"M_12\": M_12_off,  \"name\":\"(4) 4 well potential 1st time\"}, \n",
    "    {\"duration\":time_length_5, \"phi_1_dcx\": phi_1_dcx_on,  \"phi_2_dcx\": phi_2_dcx_off, \"M_12\": M_12_off,  \"name\":\"(5) mix in x direction\"}, \n",
    "    {\"duration\":time_length_6, \"phi_1_dcx\": phi_1_dcx_off, \"phi_2_dcx\": phi_2_dcx_off, \"M_12\": M_12_off,  \"name\":\"(6) 4 well potential\"}, \n",
    "    \n",
    "    # reverse\n",
    "    {\"duration\":time_length_6, \"phi_1_dcx\": phi_1_dcx_on,  \"phi_2_dcx\": phi_2_dcx_off, \"M_12\": M_12_off,  \"name\":\"(-6) 4 well potential 2nd time\"}, \n",
    "    {\"duration\":time_length_5, \"phi_1_dcx\": phi_1_dcx_off, \"phi_2_dcx\": phi_2_dcx_off, \"M_12\": M_12_off,  \"name\":\"(-5) anti-mix in x direction\"}, \n",
    "    {\"duration\":time_length_4, \"phi_1_dcx\": phi_1_dcx_off, \"phi_2_dcx\": phi_2_dcx_off, \"M_12\": M_12_on,   \"name\":\"(-4) anti-raise the barrier 1st time\"},\n",
    "    {\"duration\":time_length_3, \"phi_1_dcx\": phi_1_dcx_off, \"phi_2_dcx\": phi_2_dcx_on,  \"M_12\":  M_12_on,  \"name\":\"(-3) anti-raise the barrier\"},\n",
    "    {\"duration\":time_length_2, \"phi_1_dcx\":phi_1_dcx_off,  \"phi_2_dcx\": phi_2_dcx_on,  \"M_12\": M_12_off,  \"name\":\"(-2) anit-conditional tilt\"},\n",
    "    {\"duration\":time_length_1, \"phi_1_dcx\":phi_1_dcx_off,  \"phi_2_dcx\": phi_2_dcx_off, \"M_12\": M_12_off,  \"name\":\"(-1) anti- mix in y direction\"}\n",
    "]"
   ]
  },
  {
   "cell_type": "code",
   "execution_count": 7,
   "id": "5fa769c0-5a2f-4e2a-af28-1c822b697269",
   "metadata": {},
   "outputs": [],
   "source": [
    "\n",
    "\n",
    "\n",
    "initial_parameter_dict = {\n",
    "        \"U0_1\": U0_1,     \"U0_2\": U0_2,     \"gamma_1\": gamma,  \"gamma_2\": gamma,\n",
    "        \"beta_1\": beta_1,   \"beta_2\": beta_2,   \"d_beta_1\": d_beta_1 ,   \"d_beta_2\": d_beta_2,\n",
    "        \"phi_1_x\": 0,  \"phi_2_x\": 0,  \"phi_1_dcx\": phi_1_dcx_off,  \"phi_2_dcx\": phi_2_dcx_off,\n",
    "        \"M_12\": M_12_off, 'x_c': x_c\n",
    "}\n",
    "\n",
    "initial_parameter_dict[\"phi_1_dcx\"] = 0\n",
    "initial_parameter_dict[\"phi_2_dcx\"] = 0\n",
    "initial_parameter_dict[\"M_12\"]      = 0\n",
    "\n",
    "protocol_list = [\n",
    "    # forward\n",
    "    protocol_list_options[1],\n",
    "    protocol_list_options[2],\n",
    "    protocol_list_options[3],\n",
    "    protocol_list_options[4],\n",
    "#     protocol_list_options[5],\n",
    "#     protocol_list_options[6],\n",
    "    \n",
    "]\n"
   ]
  },
  {
   "cell_type": "code",
   "execution_count": 8,
   "id": "a45c7dd1",
   "metadata": {},
   "outputs": [],
   "source": [
    "\n",
    "\"\"\"\n",
    "# step 3: create the relevant storage protocol and computation protocol\n",
    "\"\"\"\n",
    "\n",
    "computation_protocol_parameter_dict = coupled_fq_protocol_library.customizedProtocol(initial_parameter_dict, \\\n",
    "                                                                    protocol_list)\n",
    "storage_protocol, comp_protocol = create_system(computation_protocol_parameter_dict)"
   ]
  },
  {
   "cell_type": "code",
   "execution_count": 9,
   "id": "5bfd3ed3",
   "metadata": {},
   "outputs": [
    {
     "name": "stdout",
     "output_type": "stream",
     "text": [
      "generating new initial_state\n",
      "using a lower resolution for searching a space in >3 dimensions\n",
      "new resolution is 50\n",
      " found 5000 samples out of 5000\n",
      "from system: finish the while loop in sampling.\n",
      "as step value: slice(None, None, None), sampleSize: 5000\n",
      "slice(None, None, None)\n",
      "from cfq_runner.py, The as_step is slice(None, None, None) and dt is 0.01\n",
      "from quick_sim.py\n",
      "gamma: [0.00269542 0.00269542 0.00269542 0.00269542], theta: [1. 4. 1. 4.] and eta: [0.01310394 0.02620788 0.01310394 0.02620788]\n",
      "from quick_sim.py: system.protocol.t_i = 0.0, system.protocol.t_f = 400.0\n",
      "from simulation.py: number of steps: 40000, dt: 0.01\n"
     ]
    }
   ],
   "source": [
    "\"\"\"\n",
    "# step 4: create the coupled_fq_runner\n",
    "\"\"\"\n",
    "cfqr = cfq_runner.coupledFluxQubitRunner(potential = coupled_fq_pot, params = params, \\\n",
    "                                                storage_protocol= storage_protocol, \\\n",
    "                                                computation_protocol= comp_protocol)\n",
    "cfqr.initialize_sim()\n",
    "cfqr.set_sim_attributes()\n",
    "init_state_saved = cfqr.init_state"
   ]
  },
  {
   "cell_type": "code",
   "execution_count": null,
   "id": "246bb6fe",
   "metadata": {},
   "outputs": [],
   "source": []
  },
  {
   "cell_type": "code",
   "execution_count": 10,
   "id": "325993fe",
   "metadata": {},
   "outputs": [],
   "source": [
    "manual_domain=[np.array([-5, -5])/time_scale_factor, np.array([5, 5])/time_scale_factor]\n",
    "mapping_state_1_to_state_2_dict = {\"00\": [\"00\", \"10\"], \"01\": [\"00\", \"10\"], \"10\": [\"01\", \"11\"], \"11\": [\"01\", \"11\"]}"
   ]
  },
  {
   "cell_type": "code",
   "execution_count": 11,
   "id": "7199d4b0",
   "metadata": {},
   "outputs": [
    {
     "name": "stdout",
     "output_type": "stream",
     "text": [
      "\n",
      " initializing...\n",
      "generating new initial_state\n",
      "using a lower resolution for searching a space in >3 dimensions\n",
      "new resolution is 50\n",
      " found 5000 samples out of 5000\n",
      "from system: finish the while loop in sampling.\n",
      "as step value: slice(None, None, None), sampleSize: 5000\n",
      "slice(None, None, None)\n",
      "from cfq_runner.py, The as_step is slice(None, None, None) and dt is 0.01\n",
      "from quick_sim.py\n",
      "gamma: [0.00269542 0.00269542 0.00269542 0.00269542], theta: [1. 4. 1. 4.] and eta: [0.01310394 0.02620788 0.01310394 0.02620788]\n",
      "from quick_sim.py: system.protocol.t_i = 0.0, system.protocol.t_f = 400.0\n",
      "from simulation.py: number of steps: 40000, dt: 0.01\n",
      "\n",
      " running sim...\n",
      "final_statestep 39999\n",
      "all_state\n",
      "work_done\n",
      "\n",
      " analyzing output...\n",
      "For the states, \n",
      "(156.24448609352112,)\n"
     ]
    }
   ],
   "source": [
    "# step 5: perform simulations\n",
    "\n",
    "# simResult = cfq_batch_sweep.simulateSingleCoupledFluxQubit(params, initial_parameter_dict, protocol_list, \\\n",
    "#                                         initial_state = init_state_saved, manual_domain = manual_domain, \\\n",
    "#                                         phi_1_dcx = phi_1_dcx,  phi_2_dcx = phi_2_dcx)\n",
    "\n",
    "simResult = cfq_batch_sweep.simulateSingleCoupledFluxQubit(params, initial_parameter_dict, protocol_list, \\\n",
    "                        potential = coupled_fq_pot, potential_default_param = coupled_fq_default_param,            \n",
    "                        initial_state = None, manual_domain = manual_domain, \\\n",
    "                        phi_1_dcx = phi_1_dcx,  phi_2_dcx = phi_2_dcx, \\\n",
    "                        percentage = 1, as_step = np.s_[::])\n",
    "\n",
    "cfqr = simResult[\"cfqr\"]"
   ]
  },
  {
   "cell_type": "code",
   "execution_count": 12,
   "id": "5458827d",
   "metadata": {},
   "outputs": [
    {
     "data": {
      "text/plain": [
       "5000"
      ]
     },
     "execution_count": 12,
     "metadata": {},
     "output_type": "execute_result"
    }
   ],
   "source": [
    "len(simResult[\"work_distribution\"])"
   ]
  },
  {
   "cell_type": "code",
   "execution_count": 13,
   "id": "83cef3c8-148e-4289-b83a-186bc5b91f00",
   "metadata": {},
   "outputs": [
    {
     "data": {
      "text/plain": [
       "array([ 0.39487582, -0.1600579 ,  0.20368904, ...,  1.06588811,\n",
       "        0.45729704, -0.17831844])"
      ]
     },
     "execution_count": 13,
     "metadata": {},
     "output_type": "execute_result"
    }
   ],
   "source": [
    "simResult[\"work_distribution\"]"
   ]
  },
  {
   "cell_type": "code",
   "execution_count": null,
   "id": "ad3eccc0-1671-45da-baaf-1e31ea85500e",
   "metadata": {},
   "outputs": [],
   "source": []
  },
  {
   "cell_type": "code",
   "execution_count": 36,
   "id": "ecd26e29",
   "metadata": {},
   "outputs": [
    {
     "data": {
      "image/png": "[encoded data removed]",
      "text/plain": [
       "<Figure size 640x480 with 1 Axes>"
      ]
     },
     "metadata": {},
     "output_type": "display_data"
    },
    {
     "name": "stdout",
     "output_type": "stream",
     "text": [
      "jarzyn = 0.634121437553027, mean work = 0.5838430337297259\n",
      "[100, 100, 100, 100]\n"
     ]
    }
   ],
   "source": [
    "# %%notify\n",
    "step_time_array = np.cumsum(np.array([x[\"duration\"] for x in protocol_list]))/params['dt']\n",
    "name_array = [x[\"name\"] for x in protocol_list]\n",
    "\n",
    "\n",
    "plt.hist(simResult[\"work_distribution\"], bins = 45)\n",
    "plt.show()\n",
    "mean_work = np.mean(simResult[\"work_distribution\"])\n",
    "jarzyn_term = np.mean(np.exp(-simResult[\"work_distribution\"]))\n",
    "print(f'jarzyn = {jarzyn_term}, mean work = {mean_work}')\n",
    "print([x[\"duration\"] for x in protocol_list])"
   ]
  },
  {
   "cell_type": "code",
   "execution_count": 123,
   "id": "62dfdf57",
   "metadata": {},
   "outputs": [
    {
     "name": "stdout",
     "output_type": "stream",
     "text": [
      "2.2370945008300764 0.0002929031342293609\n",
      "jarzyn = 0.5338519084415347\n",
      "[200]\n"
     ]
    },
    {
     "data": {
      "image/png": "[encoded data removed]",
      "text/plain": [
       "<Figure size 640x480 with 1 Axes>"
      ]
     },
     "metadata": {},
     "output_type": "display_data"
    }
   ],
   "source": [
    "\n",
    "\n",
    "step_array = np.arange(simResult[\"work_statistic\"][:,0].shape[0])\n",
    "skip_step = int(len(step_array) * 0.01)\n",
    "work_mean = simResult[\"work_statistic\"][:,0]\n",
    "work_std = simResult[\"work_statistic\"][:,1]\n",
    "\n",
    "coarse_step_array = step_array[::skip_step]\n",
    "coarse_step_array = np.append(coarse_step_array, step_array[-1])\n",
    "coarse_work_mean_array = work_mean[::skip_step]\n",
    "coarse_work_mean_array = np.append(coarse_work_mean_array, work_mean[-1])\n",
    "coarse_work_std_array = np.append(work_std[::skip_step], work_std[-1])\n",
    "\n",
    "plt.errorbar(coarse_step_array, coarse_work_mean_array, yerr = coarse_work_std_array)\n",
    "\n",
    "for i, t in enumerate(step_time_array):\n",
    "    plt.axvline(x = t, color = 'b', label = 'axvline - full height')\n",
    "    # plt.text('2017-07-02 16:30:00',0.005,'BigNews1',rotation=90,va='top')\n",
    "    plt.annotate(f\"{i+1}\", \n",
    "            xy=(t, 4.5),  \n",
    "            # xytext=(quantile_75, 2.05*1e9),\n",
    "            color='red', \n",
    "            ha='center', \n",
    "            size=16)\n",
    "\n",
    "\n",
    "\n",
    "first_half = work_mean[0: len(work_mean)//2]\n",
    "second_half = work_mean[len(work_mean)//2:][::-1]\n",
    "abs_error = np.abs(first_half - second_half)\n",
    "plt.plot(step_array[0:len(step_array)//2], abs_error)\n",
    "print(max(abs_error), min(abs_error))\n",
    "print(f'jarzyn = {jarzyn_term}')\n",
    "print([x[\"duration\"] for x in protocol_list])"
   ]
  },
  {
   "cell_type": "code",
   "execution_count": null,
   "id": "524f5c40-3d51-443a-beae-f14ada4a0265",
   "metadata": {},
   "outputs": [],
   "source": []
  },
  {
   "cell_type": "code",
   "execution_count": null,
   "id": "b9f23cb8-34b9-434e-bfcd-874138af1ddd",
   "metadata": {},
   "outputs": [],
   "source": []
  },
  {
   "cell_type": "code",
   "execution_count": null,
   "id": "58ccecb6-e127-436d-a6d4-b0efcb000198",
   "metadata": {},
   "outputs": [],
   "source": []
  },
  {
   "cell_type": "code",
   "execution_count": null,
   "id": "4e16283f-3199-40c3-b822-52394bce2b39",
   "metadata": {},
   "outputs": [],
   "source": []
  },
  {
   "cell_type": "code",
   "execution_count": null,
   "id": "8e20f406-4258-4121-9926-117645d40b1a",
   "metadata": {},
   "outputs": [],
   "source": []
  }
 ],
 "metadata": {
  "kernelspec": {
   "display_name": "Python 3 (ipykernel)",
   "language": "python",
   "name": "python3"
  },
  "language_info": {
   "codemirror_mode": {
    "name": "ipython",
    "version": 3
   },
   "file_extension": ".py",
   "mimetype": "text/x-python",
   "name": "python",
   "nbconvert_exporter": "python",
   "pygments_lexer": "ipython3",
   "version": "3.10.9"
  }
 },
 "nbformat": 4,
 "nbformat_minor": 5
}
